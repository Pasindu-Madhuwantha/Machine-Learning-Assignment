{
  "cells": [
    {
      "cell_type": "markdown",
      "metadata": {
        "id": "z732hgQ2ciNC"
      },
      "source": [
        "# 📉📊📈**Stock Price Prediction with Machine Learning Models**📉📊📈\n"
      ]
    },
    {
      "cell_type": "markdown",
      "metadata": {
        "id": "V30dcgZqUlSL"
      },
      "source": [
        "Because of its complexity and difficulty, forecasting stock prices fascinates researchers and industry specialists from a variety of fields, including computer science, economics, business arithmetic, and marketing. Despite considerable attempts over the last decade, stock market price forecasting remains difficult due to the intrinsic random wandering nature of market prices. Stock price volatility creates significant challenges for precise forecasting. Nonetheless, establishing efficient and accurate forecasting models is critical for managers, investors, and decision-makers to make sound investment decisions. Analysts use machine learning techniques to evaluate historical data and uncover patterns and trends that might assist forecast future stock performance. Researchers try to create prediction models that can efficiently manage the unpredictable nature of stock markets by combining current and historical data."
      ]
    },
    {
      "cell_type": "markdown",
      "metadata": {
        "id": "_a2eB9y0DNSQ"
      },
      "source": [
        "# ✅ **Bayesian Ridge Regression** ✅\n",
        "\n"
      ]
    },
    {
      "cell_type": "code",
      "execution_count": null,
      "metadata": {
        "colab": {
          "base_uri": "https://localhost:8080/"
        },
        "id": "gzd_qjMykRcI",
        "outputId": "f44a1591-d2f3-4011-ebfc-5626b40c1d41"
      },
      "outputs": [
        {
          "output_type": "stream",
          "name": "stdout",
          "text": [
            "Mounted at /content/drive\n"
          ]
        }
      ],
      "source": [
        "from google.colab import drive\n",
        "drive.mount('/content/drive')"
      ]
    },
    {
      "cell_type": "markdown",
      "metadata": {
        "id": "NsKVFf2RPP_q"
      },
      "source": [
        "Bayesian regression allows a natural mechanism to survive insufficient data or poorly distributed data by formulating linear regression using probability distributors rather than point estimates."
      ]
    },
    {
      "cell_type": "markdown",
      "metadata": {
        "id": "TpujELISO5rj"
      },
      "source": [
        "# **Import Libraries**"
      ]
    },
    {
      "cell_type": "code",
      "execution_count": null,
      "metadata": {
        "id": "esw_1ijlDUqR"
      },
      "outputs": [],
      "source": [
        "# Import Libraries\n",
        "import numpy as np\n",
        "import matplotlib.pyplot as plt\n",
        "import pandas as pd\n",
        "\n",
        "import warnings\n",
        "warnings.filterwarnings(\"ignore\")\n",
        "\n",
        "# MATPLOTLIB & SEABORN FOR GRAPH-PLOTTING\n",
        "import matplotlib.pyplot as plt\n",
        "import seaborn as sns\n",
        "%matplotlib inline"
      ]
    },
    {
      "cell_type": "markdown",
      "metadata": {
        "id": "0iy0Y_h6PFlI"
      },
      "source": [
        "# **Load Data into the Data Frame**"
      ]
    },
    {
      "cell_type": "code",
      "execution_count": null,
      "metadata": {
        "colab": {
          "base_uri": "https://localhost:8080/",
          "height": 206
        },
        "id": "5CoGrzg-DZ8Q",
        "outputId": "9c7e246c-1b80-45ba-e237-cc108025b03c"
      },
      "outputs": [
        {
          "output_type": "execute_result",
          "data": {
            "text/plain": [
              "<pandas.io.formats.style.Styler at 0x7c29e4a7caf0>"
            ],
            "text/html": [
              "<style type=\"text/css\">\n",
              "</style>\n",
              "<table id=\"T_6cafb\" class=\"dataframe\">\n",
              "  <thead>\n",
              "    <tr>\n",
              "      <th class=\"blank level0\" >&nbsp;</th>\n",
              "      <th id=\"T_6cafb_level0_col0\" class=\"col_heading level0 col0\" >Date</th>\n",
              "      <th id=\"T_6cafb_level0_col1\" class=\"col_heading level0 col1\" >Open</th>\n",
              "      <th id=\"T_6cafb_level0_col2\" class=\"col_heading level0 col2\" >High</th>\n",
              "      <th id=\"T_6cafb_level0_col3\" class=\"col_heading level0 col3\" >Low</th>\n",
              "      <th id=\"T_6cafb_level0_col4\" class=\"col_heading level0 col4\" >Close</th>\n",
              "      <th id=\"T_6cafb_level0_col5\" class=\"col_heading level0 col5\" >Adj Close</th>\n",
              "      <th id=\"T_6cafb_level0_col6\" class=\"col_heading level0 col6\" >Volume</th>\n",
              "    </tr>\n",
              "  </thead>\n",
              "  <tbody>\n",
              "    <tr>\n",
              "      <th id=\"T_6cafb_level0_row0\" class=\"row_heading level0 row0\" >0</th>\n",
              "      <td id=\"T_6cafb_row0_col0\" class=\"data row0 col0\" >2023-04-28</td>\n",
              "      <td id=\"T_6cafb_row0_col1\" class=\"data row0 col1\" >33,797.43</td>\n",
              "      <td id=\"T_6cafb_row0_col2\" class=\"data row0 col2\" >34,104.56</td>\n",
              "      <td id=\"T_6cafb_row0_col3\" class=\"data row0 col3\" >33,728.40</td>\n",
              "      <td id=\"T_6cafb_row0_col4\" class=\"data row0 col4\" >34,098.16</td>\n",
              "      <td id=\"T_6cafb_row0_col5\" class=\"data row0 col5\" >34,098.16</td>\n",
              "      <td id=\"T_6cafb_row0_col6\" class=\"data row0 col6\" >354,310,000</td>\n",
              "    </tr>\n",
              "    <tr>\n",
              "      <th id=\"T_6cafb_level0_row1\" class=\"row_heading level0 row1\" >1</th>\n",
              "      <td id=\"T_6cafb_row1_col0\" class=\"data row1 col0\" >2023-04-27</td>\n",
              "      <td id=\"T_6cafb_row1_col1\" class=\"data row1 col1\" >33,381.66</td>\n",
              "      <td id=\"T_6cafb_row1_col2\" class=\"data row1 col2\" >33,859.75</td>\n",
              "      <td id=\"T_6cafb_row1_col3\" class=\"data row1 col3\" >33,374.65</td>\n",
              "      <td id=\"T_6cafb_row1_col4\" class=\"data row1 col4\" >33,826.16</td>\n",
              "      <td id=\"T_6cafb_row1_col5\" class=\"data row1 col5\" >33,826.16</td>\n",
              "      <td id=\"T_6cafb_row1_col6\" class=\"data row1 col6\" >343,240,000</td>\n",
              "    </tr>\n",
              "    <tr>\n",
              "      <th id=\"T_6cafb_level0_row2\" class=\"row_heading level0 row2\" >2</th>\n",
              "      <td id=\"T_6cafb_row2_col0\" class=\"data row2 col0\" >2023-04-26</td>\n",
              "      <td id=\"T_6cafb_row2_col1\" class=\"data row2 col1\" >33,596.34</td>\n",
              "      <td id=\"T_6cafb_row2_col2\" class=\"data row2 col2\" >33,645.83</td>\n",
              "      <td id=\"T_6cafb_row2_col3\" class=\"data row2 col3\" >33,235.85</td>\n",
              "      <td id=\"T_6cafb_row2_col4\" class=\"data row2 col4\" >33,301.87</td>\n",
              "      <td id=\"T_6cafb_row2_col5\" class=\"data row2 col5\" >33,301.87</td>\n",
              "      <td id=\"T_6cafb_row2_col6\" class=\"data row2 col6\" >321,170,000</td>\n",
              "    </tr>\n",
              "    <tr>\n",
              "      <th id=\"T_6cafb_level0_row3\" class=\"row_heading level0 row3\" >3</th>\n",
              "      <td id=\"T_6cafb_row3_col0\" class=\"data row3 col0\" >2023-04-25</td>\n",
              "      <td id=\"T_6cafb_row3_col1\" class=\"data row3 col1\" >33,828.34</td>\n",
              "      <td id=\"T_6cafb_row3_col2\" class=\"data row3 col2\" >33,875.49</td>\n",
              "      <td id=\"T_6cafb_row3_col3\" class=\"data row3 col3\" >33,525.39</td>\n",
              "      <td id=\"T_6cafb_row3_col4\" class=\"data row3 col4\" >33,530.83</td>\n",
              "      <td id=\"T_6cafb_row3_col5\" class=\"data row3 col5\" >33,530.83</td>\n",
              "      <td id=\"T_6cafb_row3_col6\" class=\"data row3 col6\" >297,880,000</td>\n",
              "    </tr>\n",
              "    <tr>\n",
              "      <th id=\"T_6cafb_level0_row4\" class=\"row_heading level0 row4\" >4</th>\n",
              "      <td id=\"T_6cafb_row4_col0\" class=\"data row4 col0\" >2023-04-24</td>\n",
              "      <td id=\"T_6cafb_row4_col1\" class=\"data row4 col1\" >33,805.04</td>\n",
              "      <td id=\"T_6cafb_row4_col2\" class=\"data row4 col2\" >33,891.15</td>\n",
              "      <td id=\"T_6cafb_row4_col3\" class=\"data row4 col3\" >33,726.09</td>\n",
              "      <td id=\"T_6cafb_row4_col4\" class=\"data row4 col4\" >33,875.40</td>\n",
              "      <td id=\"T_6cafb_row4_col5\" class=\"data row4 col5\" >33,875.40</td>\n",
              "      <td id=\"T_6cafb_row4_col6\" class=\"data row4 col6\" >252,020,000</td>\n",
              "    </tr>\n",
              "  </tbody>\n",
              "</table>\n"
            ]
          },
          "metadata": {},
          "execution_count": 4
        }
      ],
      "source": [
        "import pandas as pd\n",
        "\n",
        "# Path to your CSV file in Google Drive\n",
        "file_path = '/content/drive/MyDrive/yahoo_data.csv'\n",
        "\n",
        "# Read the CSV file into a DataFrame\n",
        "df = pd.read_csv(file_path)\n",
        "\n",
        "# Display the first few rows of the DataFrame and format the date column\n",
        "df.head().style.format({'Date': lambda x: pd.to_datetime(x).strftime('%Y-%m-%d')})\n"
      ]
    },
    {
      "cell_type": "markdown",
      "metadata": {
        "id": "PfhSdNG-LbK7"
      },
      "source": [
        "# **Data Preprocessing**"
      ]
    },
    {
      "cell_type": "code",
      "execution_count": null,
      "metadata": {
        "colab": {
          "base_uri": "https://localhost:8080/"
        },
        "id": "_wgsJOb8DcAJ",
        "outputId": "0e90cf79-f5e1-43d7-d048-e2ccfe44ce5e"
      },
      "outputs": [
        {
          "output_type": "stream",
          "name": "stdout",
          "text": [
            "        Date      Open      High       Low     Close  Adj Close     Volume  \\\n",
            "1 2023-04-27  33381.66  33859.75  33374.65  33826.16   33826.16  343240000   \n",
            "2 2023-04-26  33596.34  33645.83  33235.85  33301.87   33301.87  321170000   \n",
            "3 2023-04-25  33828.34  33875.49  33525.39  33530.83   33530.83  297880000   \n",
            "4 2023-04-24  33805.04  33891.15  33726.09  33875.40   33875.40  252020000   \n",
            "5 2023-04-21  33793.60  33858.83  33688.57  33808.96   33808.96  291080000   \n",
            "\n",
            "   Increase_Decrease  Buy_Sell_on_Open  Buy_Sell   Returns  \n",
            "1                  0                 1         0 -0.007977  \n",
            "2                  0                 1         1 -0.015500  \n",
            "3                  0                 0         1  0.006875  \n",
            "4                  1                 0         0  0.010276  \n",
            "5                  1                 0         0 -0.001961  \n"
          ]
        }
      ],
      "source": [
        "import pandas as pd\n",
        "import numpy as np\n",
        "\n",
        "# Assuming 'df' is the DataFrame containing your dataset\n",
        "\n",
        "# Convert 'Date' column to datetime type\n",
        "df['Date'] = pd.to_datetime(df['Date'])\n",
        "\n",
        "# Remove commas and convert columns to numeric type\n",
        "df['Open'] = df['Open'].replace(',', '', regex=True).astype(float)\n",
        "df['High'] = df['High'].replace(',', '', regex=True).astype(float)\n",
        "df['Low'] = df['Low'].replace(',', '', regex=True).astype(float)\n",
        "df['Close'] = df['Close'].replace(',', '', regex=True).astype(float)\n",
        "df['Adj Close'] = df['Adj Close'].replace(',', '', regex=True).astype(float)\n",
        "df['Volume'] = df['Volume'].replace(',', '', regex=True).astype(int)\n",
        "\n",
        "# Calculate the new columns based on the modified dataset\n",
        "df['Increase_Decrease'] = np.where(df['Volume'].shift(-1) > df['Volume'], 1, 0)\n",
        "df['Buy_Sell_on_Open'] = np.where(df['Open'].shift(-1) > df['Open'], 1, 0)\n",
        "df['Buy_Sell'] = np.where(df['Adj Close'].shift(-1) > df['Adj Close'], 1, 0)\n",
        "df['Returns'] = df['Adj Close'].pct_change()\n",
        "\n",
        "# Drop rows with NaN values\n",
        "df = df.dropna()\n",
        "\n",
        "# Display the modified dataset\n",
        "print(df.head())\n"
      ]
    },
    {
      "cell_type": "code",
      "execution_count": null,
      "metadata": {
        "colab": {
          "base_uri": "https://localhost:8080/",
          "height": 424
        },
        "id": "hXkGI25cPM6X",
        "outputId": "c1a592cf-5dea-4155-a59f-189ed3552a0d"
      },
      "outputs": [
        {
          "output_type": "execute_result",
          "data": {
            "text/plain": [
              "           Date      Open      High       Low     Close  Adj Close     Volume  \\\n",
              "1    2023-04-27  33381.66  33859.75  33374.65  33826.16   33826.16  343240000   \n",
              "2    2023-04-26  33596.34  33645.83  33235.85  33301.87   33301.87  321170000   \n",
              "3    2023-04-25  33828.34  33875.49  33525.39  33530.83   33530.83  297880000   \n",
              "4    2023-04-24  33805.04  33891.15  33726.09  33875.40   33875.40  252020000   \n",
              "5    2023-04-21  33793.60  33858.83  33688.57  33808.96   33808.96  291080000   \n",
              "...         ...       ...       ...       ...       ...        ...        ...   \n",
              "1253 2018-05-07  24317.66  24479.45  24263.42  24357.32   24357.32  307670000   \n",
              "1254 2018-05-04  23865.22  24333.35  23778.87  24262.51   24262.51  329480000   \n",
              "1255 2018-05-03  23836.23  23996.15  23531.31  23930.15   23930.15  389240000   \n",
              "1256 2018-05-02  24097.63  24185.52  23886.30  23924.98   23924.98  385350000   \n",
              "1257 2018-05-01  24117.29  24117.29  23808.19  24099.05   24099.05  380070000   \n",
              "\n",
              "      Increase_Decrease  Buy_Sell_on_Open  Buy_Sell   Returns  \n",
              "1                     0                 1         0 -0.007977  \n",
              "2                     0                 1         1 -0.015500  \n",
              "3                     0                 0         1  0.006875  \n",
              "4                     1                 0         0  0.010276  \n",
              "5                     1                 0         0 -0.001961  \n",
              "...                 ...               ...       ...       ...  \n",
              "1253                  1                 0         0 -0.000119  \n",
              "1254                  1                 0         0 -0.003892  \n",
              "1255                  0                 1         0 -0.013699  \n",
              "1256                  0                 1         1 -0.000216  \n",
              "1257                  0                 0         0  0.007276  \n",
              "\n",
              "[1257 rows x 11 columns]"
            ],
            "text/html": [
              "\n",
              "  <div id=\"df-de877c7b-7cda-40be-8f43-7f7acc2601e3\" class=\"colab-df-container\">\n",
              "    <div>\n",
              "<style scoped>\n",
              "    .dataframe tbody tr th:only-of-type {\n",
              "        vertical-align: middle;\n",
              "    }\n",
              "\n",
              "    .dataframe tbody tr th {\n",
              "        vertical-align: top;\n",
              "    }\n",
              "\n",
              "    .dataframe thead th {\n",
              "        text-align: right;\n",
              "    }\n",
              "</style>\n",
              "<table border=\"1\" class=\"dataframe\">\n",
              "  <thead>\n",
              "    <tr style=\"text-align: right;\">\n",
              "      <th></th>\n",
              "      <th>Date</th>\n",
              "      <th>Open</th>\n",
              "      <th>High</th>\n",
              "      <th>Low</th>\n",
              "      <th>Close</th>\n",
              "      <th>Adj Close</th>\n",
              "      <th>Volume</th>\n",
              "      <th>Increase_Decrease</th>\n",
              "      <th>Buy_Sell_on_Open</th>\n",
              "      <th>Buy_Sell</th>\n",
              "      <th>Returns</th>\n",
              "    </tr>\n",
              "  </thead>\n",
              "  <tbody>\n",
              "    <tr>\n",
              "      <th>1</th>\n",
              "      <td>2023-04-27</td>\n",
              "      <td>33381.66</td>\n",
              "      <td>33859.75</td>\n",
              "      <td>33374.65</td>\n",
              "      <td>33826.16</td>\n",
              "      <td>33826.16</td>\n",
              "      <td>343240000</td>\n",
              "      <td>0</td>\n",
              "      <td>1</td>\n",
              "      <td>0</td>\n",
              "      <td>-0.007977</td>\n",
              "    </tr>\n",
              "    <tr>\n",
              "      <th>2</th>\n",
              "      <td>2023-04-26</td>\n",
              "      <td>33596.34</td>\n",
              "      <td>33645.83</td>\n",
              "      <td>33235.85</td>\n",
              "      <td>33301.87</td>\n",
              "      <td>33301.87</td>\n",
              "      <td>321170000</td>\n",
              "      <td>0</td>\n",
              "      <td>1</td>\n",
              "      <td>1</td>\n",
              "      <td>-0.015500</td>\n",
              "    </tr>\n",
              "    <tr>\n",
              "      <th>3</th>\n",
              "      <td>2023-04-25</td>\n",
              "      <td>33828.34</td>\n",
              "      <td>33875.49</td>\n",
              "      <td>33525.39</td>\n",
              "      <td>33530.83</td>\n",
              "      <td>33530.83</td>\n",
              "      <td>297880000</td>\n",
              "      <td>0</td>\n",
              "      <td>0</td>\n",
              "      <td>1</td>\n",
              "      <td>0.006875</td>\n",
              "    </tr>\n",
              "    <tr>\n",
              "      <th>4</th>\n",
              "      <td>2023-04-24</td>\n",
              "      <td>33805.04</td>\n",
              "      <td>33891.15</td>\n",
              "      <td>33726.09</td>\n",
              "      <td>33875.40</td>\n",
              "      <td>33875.40</td>\n",
              "      <td>252020000</td>\n",
              "      <td>1</td>\n",
              "      <td>0</td>\n",
              "      <td>0</td>\n",
              "      <td>0.010276</td>\n",
              "    </tr>\n",
              "    <tr>\n",
              "      <th>5</th>\n",
              "      <td>2023-04-21</td>\n",
              "      <td>33793.60</td>\n",
              "      <td>33858.83</td>\n",
              "      <td>33688.57</td>\n",
              "      <td>33808.96</td>\n",
              "      <td>33808.96</td>\n",
              "      <td>291080000</td>\n",
              "      <td>1</td>\n",
              "      <td>0</td>\n",
              "      <td>0</td>\n",
              "      <td>-0.001961</td>\n",
              "    </tr>\n",
              "    <tr>\n",
              "      <th>...</th>\n",
              "      <td>...</td>\n",
              "      <td>...</td>\n",
              "      <td>...</td>\n",
              "      <td>...</td>\n",
              "      <td>...</td>\n",
              "      <td>...</td>\n",
              "      <td>...</td>\n",
              "      <td>...</td>\n",
              "      <td>...</td>\n",
              "      <td>...</td>\n",
              "      <td>...</td>\n",
              "    </tr>\n",
              "    <tr>\n",
              "      <th>1253</th>\n",
              "      <td>2018-05-07</td>\n",
              "      <td>24317.66</td>\n",
              "      <td>24479.45</td>\n",
              "      <td>24263.42</td>\n",
              "      <td>24357.32</td>\n",
              "      <td>24357.32</td>\n",
              "      <td>307670000</td>\n",
              "      <td>1</td>\n",
              "      <td>0</td>\n",
              "      <td>0</td>\n",
              "      <td>-0.000119</td>\n",
              "    </tr>\n",
              "    <tr>\n",
              "      <th>1254</th>\n",
              "      <td>2018-05-04</td>\n",
              "      <td>23865.22</td>\n",
              "      <td>24333.35</td>\n",
              "      <td>23778.87</td>\n",
              "      <td>24262.51</td>\n",
              "      <td>24262.51</td>\n",
              "      <td>329480000</td>\n",
              "      <td>1</td>\n",
              "      <td>0</td>\n",
              "      <td>0</td>\n",
              "      <td>-0.003892</td>\n",
              "    </tr>\n",
              "    <tr>\n",
              "      <th>1255</th>\n",
              "      <td>2018-05-03</td>\n",
              "      <td>23836.23</td>\n",
              "      <td>23996.15</td>\n",
              "      <td>23531.31</td>\n",
              "      <td>23930.15</td>\n",
              "      <td>23930.15</td>\n",
              "      <td>389240000</td>\n",
              "      <td>0</td>\n",
              "      <td>1</td>\n",
              "      <td>0</td>\n",
              "      <td>-0.013699</td>\n",
              "    </tr>\n",
              "    <tr>\n",
              "      <th>1256</th>\n",
              "      <td>2018-05-02</td>\n",
              "      <td>24097.63</td>\n",
              "      <td>24185.52</td>\n",
              "      <td>23886.30</td>\n",
              "      <td>23924.98</td>\n",
              "      <td>23924.98</td>\n",
              "      <td>385350000</td>\n",
              "      <td>0</td>\n",
              "      <td>1</td>\n",
              "      <td>1</td>\n",
              "      <td>-0.000216</td>\n",
              "    </tr>\n",
              "    <tr>\n",
              "      <th>1257</th>\n",
              "      <td>2018-05-01</td>\n",
              "      <td>24117.29</td>\n",
              "      <td>24117.29</td>\n",
              "      <td>23808.19</td>\n",
              "      <td>24099.05</td>\n",
              "      <td>24099.05</td>\n",
              "      <td>380070000</td>\n",
              "      <td>0</td>\n",
              "      <td>0</td>\n",
              "      <td>0</td>\n",
              "      <td>0.007276</td>\n",
              "    </tr>\n",
              "  </tbody>\n",
              "</table>\n",
              "<p>1257 rows × 11 columns</p>\n",
              "</div>\n",
              "    <div class=\"colab-df-buttons\">\n",
              "\n",
              "  <div class=\"colab-df-container\">\n",
              "    <button class=\"colab-df-convert\" onclick=\"convertToInteractive('df-de877c7b-7cda-40be-8f43-7f7acc2601e3')\"\n",
              "            title=\"Convert this dataframe to an interactive table.\"\n",
              "            style=\"display:none;\">\n",
              "\n",
              "  <svg xmlns=\"http://www.w3.org/2000/svg\" height=\"24px\" viewBox=\"0 -960 960 960\">\n",
              "    <path d=\"M120-120v-720h720v720H120Zm60-500h600v-160H180v160Zm220 220h160v-160H400v160Zm0 220h160v-160H400v160ZM180-400h160v-160H180v160Zm440 0h160v-160H620v160ZM180-180h160v-160H180v160Zm440 0h160v-160H620v160Z\"/>\n",
              "  </svg>\n",
              "    </button>\n",
              "\n",
              "  <style>\n",
              "    .colab-df-container {\n",
              "      display:flex;\n",
              "      gap: 12px;\n",
              "    }\n",
              "\n",
              "    .colab-df-convert {\n",
              "      background-color: #E8F0FE;\n",
              "      border: none;\n",
              "      border-radius: 50%;\n",
              "      cursor: pointer;\n",
              "      display: none;\n",
              "      fill: #1967D2;\n",
              "      height: 32px;\n",
              "      padding: 0 0 0 0;\n",
              "      width: 32px;\n",
              "    }\n",
              "\n",
              "    .colab-df-convert:hover {\n",
              "      background-color: #E2EBFA;\n",
              "      box-shadow: 0px 1px 2px rgba(60, 64, 67, 0.3), 0px 1px 3px 1px rgba(60, 64, 67, 0.15);\n",
              "      fill: #174EA6;\n",
              "    }\n",
              "\n",
              "    .colab-df-buttons div {\n",
              "      margin-bottom: 4px;\n",
              "    }\n",
              "\n",
              "    [theme=dark] .colab-df-convert {\n",
              "      background-color: #3B4455;\n",
              "      fill: #D2E3FC;\n",
              "    }\n",
              "\n",
              "    [theme=dark] .colab-df-convert:hover {\n",
              "      background-color: #434B5C;\n",
              "      box-shadow: 0px 1px 3px 1px rgba(0, 0, 0, 0.15);\n",
              "      filter: drop-shadow(0px 1px 2px rgba(0, 0, 0, 0.3));\n",
              "      fill: #FFFFFF;\n",
              "    }\n",
              "  </style>\n",
              "\n",
              "    <script>\n",
              "      const buttonEl =\n",
              "        document.querySelector('#df-de877c7b-7cda-40be-8f43-7f7acc2601e3 button.colab-df-convert');\n",
              "      buttonEl.style.display =\n",
              "        google.colab.kernel.accessAllowed ? 'block' : 'none';\n",
              "\n",
              "      async function convertToInteractive(key) {\n",
              "        const element = document.querySelector('#df-de877c7b-7cda-40be-8f43-7f7acc2601e3');\n",
              "        const dataTable =\n",
              "          await google.colab.kernel.invokeFunction('convertToInteractive',\n",
              "                                                    [key], {});\n",
              "        if (!dataTable) return;\n",
              "\n",
              "        const docLinkHtml = 'Like what you see? Visit the ' +\n",
              "          '<a target=\"_blank\" href=https://colab.research.google.com/notebooks/data_table.ipynb>data table notebook</a>'\n",
              "          + ' to learn more about interactive tables.';\n",
              "        element.innerHTML = '';\n",
              "        dataTable['output_type'] = 'display_data';\n",
              "        await google.colab.output.renderOutput(dataTable, element);\n",
              "        const docLink = document.createElement('div');\n",
              "        docLink.innerHTML = docLinkHtml;\n",
              "        element.appendChild(docLink);\n",
              "      }\n",
              "    </script>\n",
              "  </div>\n",
              "\n",
              "\n",
              "<div id=\"df-14c876dc-df16-4256-b614-880bce5de6ce\">\n",
              "  <button class=\"colab-df-quickchart\" onclick=\"quickchart('df-14c876dc-df16-4256-b614-880bce5de6ce')\"\n",
              "            title=\"Suggest charts\"\n",
              "            style=\"display:none;\">\n",
              "\n",
              "<svg xmlns=\"http://www.w3.org/2000/svg\" height=\"24px\"viewBox=\"0 0 24 24\"\n",
              "     width=\"24px\">\n",
              "    <g>\n",
              "        <path d=\"M19 3H5c-1.1 0-2 .9-2 2v14c0 1.1.9 2 2 2h14c1.1 0 2-.9 2-2V5c0-1.1-.9-2-2-2zM9 17H7v-7h2v7zm4 0h-2V7h2v10zm4 0h-2v-4h2v4z\"/>\n",
              "    </g>\n",
              "</svg>\n",
              "  </button>\n",
              "\n",
              "<style>\n",
              "  .colab-df-quickchart {\n",
              "      --bg-color: #E8F0FE;\n",
              "      --fill-color: #1967D2;\n",
              "      --hover-bg-color: #E2EBFA;\n",
              "      --hover-fill-color: #174EA6;\n",
              "      --disabled-fill-color: #AAA;\n",
              "      --disabled-bg-color: #DDD;\n",
              "  }\n",
              "\n",
              "  [theme=dark] .colab-df-quickchart {\n",
              "      --bg-color: #3B4455;\n",
              "      --fill-color: #D2E3FC;\n",
              "      --hover-bg-color: #434B5C;\n",
              "      --hover-fill-color: #FFFFFF;\n",
              "      --disabled-bg-color: #3B4455;\n",
              "      --disabled-fill-color: #666;\n",
              "  }\n",
              "\n",
              "  .colab-df-quickchart {\n",
              "    background-color: var(--bg-color);\n",
              "    border: none;\n",
              "    border-radius: 50%;\n",
              "    cursor: pointer;\n",
              "    display: none;\n",
              "    fill: var(--fill-color);\n",
              "    height: 32px;\n",
              "    padding: 0;\n",
              "    width: 32px;\n",
              "  }\n",
              "\n",
              "  .colab-df-quickchart:hover {\n",
              "    background-color: var(--hover-bg-color);\n",
              "    box-shadow: 0 1px 2px rgba(60, 64, 67, 0.3), 0 1px 3px 1px rgba(60, 64, 67, 0.15);\n",
              "    fill: var(--button-hover-fill-color);\n",
              "  }\n",
              "\n",
              "  .colab-df-quickchart-complete:disabled,\n",
              "  .colab-df-quickchart-complete:disabled:hover {\n",
              "    background-color: var(--disabled-bg-color);\n",
              "    fill: var(--disabled-fill-color);\n",
              "    box-shadow: none;\n",
              "  }\n",
              "\n",
              "  .colab-df-spinner {\n",
              "    border: 2px solid var(--fill-color);\n",
              "    border-color: transparent;\n",
              "    border-bottom-color: var(--fill-color);\n",
              "    animation:\n",
              "      spin 1s steps(1) infinite;\n",
              "  }\n",
              "\n",
              "  @keyframes spin {\n",
              "    0% {\n",
              "      border-color: transparent;\n",
              "      border-bottom-color: var(--fill-color);\n",
              "      border-left-color: var(--fill-color);\n",
              "    }\n",
              "    20% {\n",
              "      border-color: transparent;\n",
              "      border-left-color: var(--fill-color);\n",
              "      border-top-color: var(--fill-color);\n",
              "    }\n",
              "    30% {\n",
              "      border-color: transparent;\n",
              "      border-left-color: var(--fill-color);\n",
              "      border-top-color: var(--fill-color);\n",
              "      border-right-color: var(--fill-color);\n",
              "    }\n",
              "    40% {\n",
              "      border-color: transparent;\n",
              "      border-right-color: var(--fill-color);\n",
              "      border-top-color: var(--fill-color);\n",
              "    }\n",
              "    60% {\n",
              "      border-color: transparent;\n",
              "      border-right-color: var(--fill-color);\n",
              "    }\n",
              "    80% {\n",
              "      border-color: transparent;\n",
              "      border-right-color: var(--fill-color);\n",
              "      border-bottom-color: var(--fill-color);\n",
              "    }\n",
              "    90% {\n",
              "      border-color: transparent;\n",
              "      border-bottom-color: var(--fill-color);\n",
              "    }\n",
              "  }\n",
              "</style>\n",
              "\n",
              "  <script>\n",
              "    async function quickchart(key) {\n",
              "      const quickchartButtonEl =\n",
              "        document.querySelector('#' + key + ' button');\n",
              "      quickchartButtonEl.disabled = true;  // To prevent multiple clicks.\n",
              "      quickchartButtonEl.classList.add('colab-df-spinner');\n",
              "      try {\n",
              "        const charts = await google.colab.kernel.invokeFunction(\n",
              "            'suggestCharts', [key], {});\n",
              "      } catch (error) {\n",
              "        console.error('Error during call to suggestCharts:', error);\n",
              "      }\n",
              "      quickchartButtonEl.classList.remove('colab-df-spinner');\n",
              "      quickchartButtonEl.classList.add('colab-df-quickchart-complete');\n",
              "    }\n",
              "    (() => {\n",
              "      let quickchartButtonEl =\n",
              "        document.querySelector('#df-14c876dc-df16-4256-b614-880bce5de6ce button');\n",
              "      quickchartButtonEl.style.display =\n",
              "        google.colab.kernel.accessAllowed ? 'block' : 'none';\n",
              "    })();\n",
              "  </script>\n",
              "</div>\n",
              "\n",
              "  <div id=\"id_07cc713e-770b-400a-95a8-80c5eea3949f\">\n",
              "    <style>\n",
              "      .colab-df-generate {\n",
              "        background-color: #E8F0FE;\n",
              "        border: none;\n",
              "        border-radius: 50%;\n",
              "        cursor: pointer;\n",
              "        display: none;\n",
              "        fill: #1967D2;\n",
              "        height: 32px;\n",
              "        padding: 0 0 0 0;\n",
              "        width: 32px;\n",
              "      }\n",
              "\n",
              "      .colab-df-generate:hover {\n",
              "        background-color: #E2EBFA;\n",
              "        box-shadow: 0px 1px 2px rgba(60, 64, 67, 0.3), 0px 1px 3px 1px rgba(60, 64, 67, 0.15);\n",
              "        fill: #174EA6;\n",
              "      }\n",
              "\n",
              "      [theme=dark] .colab-df-generate {\n",
              "        background-color: #3B4455;\n",
              "        fill: #D2E3FC;\n",
              "      }\n",
              "\n",
              "      [theme=dark] .colab-df-generate:hover {\n",
              "        background-color: #434B5C;\n",
              "        box-shadow: 0px 1px 3px 1px rgba(0, 0, 0, 0.15);\n",
              "        filter: drop-shadow(0px 1px 2px rgba(0, 0, 0, 0.3));\n",
              "        fill: #FFFFFF;\n",
              "      }\n",
              "    </style>\n",
              "    <button class=\"colab-df-generate\" onclick=\"generateWithVariable('df')\"\n",
              "            title=\"Generate code using this dataframe.\"\n",
              "            style=\"display:none;\">\n",
              "\n",
              "  <svg xmlns=\"http://www.w3.org/2000/svg\" height=\"24px\"viewBox=\"0 0 24 24\"\n",
              "       width=\"24px\">\n",
              "    <path d=\"M7,19H8.4L18.45,9,17,7.55,7,17.6ZM5,21V16.75L18.45,3.32a2,2,0,0,1,2.83,0l1.4,1.43a1.91,1.91,0,0,1,.58,1.4,1.91,1.91,0,0,1-.58,1.4L9.25,21ZM18.45,9,17,7.55Zm-12,3A5.31,5.31,0,0,0,4.9,8.1,5.31,5.31,0,0,0,1,6.5,5.31,5.31,0,0,0,4.9,4.9,5.31,5.31,0,0,0,6.5,1,5.31,5.31,0,0,0,8.1,4.9,5.31,5.31,0,0,0,12,6.5,5.46,5.46,0,0,0,6.5,12Z\"/>\n",
              "  </svg>\n",
              "    </button>\n",
              "    <script>\n",
              "      (() => {\n",
              "      const buttonEl =\n",
              "        document.querySelector('#id_07cc713e-770b-400a-95a8-80c5eea3949f button.colab-df-generate');\n",
              "      buttonEl.style.display =\n",
              "        google.colab.kernel.accessAllowed ? 'block' : 'none';\n",
              "\n",
              "      buttonEl.onclick = () => {\n",
              "        google.colab.notebook.generateWithVariable('df');\n",
              "      }\n",
              "      })();\n",
              "    </script>\n",
              "  </div>\n",
              "\n",
              "    </div>\n",
              "  </div>\n"
            ],
            "application/vnd.google.colaboratory.intrinsic+json": {
              "type": "dataframe",
              "variable_name": "df",
              "summary": "{\n  \"name\": \"df\",\n  \"rows\": 1257,\n  \"fields\": [\n    {\n      \"column\": \"Date\",\n      \"properties\": {\n        \"dtype\": \"date\",\n        \"min\": \"2018-05-01 00:00:00\",\n        \"max\": \"2023-04-27 00:00:00\",\n        \"num_unique_values\": 1257,\n        \"samples\": [\n          \"2021-08-04 00:00:00\",\n          \"2022-11-30 00:00:00\",\n          \"2023-02-13 00:00:00\"\n        ],\n        \"semantic_type\": \"\",\n        \"description\": \"\"\n      }\n    },\n    {\n      \"column\": \"Open\",\n      \"properties\": {\n        \"dtype\": \"number\",\n        \"std\": 4005.917425075517,\n        \"min\": 19028.36,\n        \"max\": 36722.6,\n        \"num_unique_values\": 1257,\n        \"samples\": [\n          35047.44,\n          33795.43,\n          33887.39\n        ],\n        \"semantic_type\": \"\",\n        \"description\": \"\"\n      }\n    },\n    {\n      \"column\": \"High\",\n      \"properties\": {\n        \"dtype\": \"number\",\n        \"std\": 4008.7423376516426,\n        \"min\": 19121.01,\n        \"max\": 36952.65,\n        \"num_unique_values\": 1257,\n        \"samples\": [\n          35047.44,\n          34589.77,\n          34249.6\n        ],\n        \"semantic_type\": \"\",\n        \"description\": \"\"\n      }\n    },\n    {\n      \"column\": \"Low\",\n      \"properties\": {\n        \"dtype\": \"number\",\n        \"std\": 4004.6817456484173,\n        \"min\": 18213.65,\n        \"max\": 36636.0,\n        \"num_unique_values\": 1254,\n        \"samples\": [\n          23808.19,\n          33583.77,\n          33887.39\n        ],\n        \"semantic_type\": \"\",\n        \"description\": \"\"\n      }\n    },\n    {\n      \"column\": \"Close\",\n      \"properties\": {\n        \"dtype\": \"number\",\n        \"std\": 4007.0520341233437,\n        \"min\": 18591.93,\n        \"max\": 36799.65,\n        \"num_unique_values\": 1254,\n        \"samples\": [\n          24099.05,\n          34589.77,\n          34245.93\n        ],\n        \"semantic_type\": \"\",\n        \"description\": \"\"\n      }\n    },\n    {\n      \"column\": \"Adj Close\",\n      \"properties\": {\n        \"dtype\": \"number\",\n        \"std\": 4007.0520341233437,\n        \"min\": 18591.93,\n        \"max\": 36799.65,\n        \"num_unique_values\": 1254,\n        \"samples\": [\n          24099.05,\n          34589.77,\n          34245.93\n        ],\n        \"semantic_type\": \"\",\n        \"description\": \"\"\n      }\n    },\n    {\n      \"column\": \"Volume\",\n      \"properties\": {\n        \"dtype\": \"number\",\n        \"std\": 106956429,\n        \"min\": 86150000,\n        \"max\": 915990000,\n        \"num_unique_values\": 1218,\n        \"samples\": [\n          387210000,\n          353680000,\n          277120000\n        ],\n        \"semantic_type\": \"\",\n        \"description\": \"\"\n      }\n    },\n    {\n      \"column\": \"Increase_Decrease\",\n      \"properties\": {\n        \"dtype\": \"number\",\n        \"std\": 0,\n        \"min\": 0,\n        \"max\": 1,\n        \"num_unique_values\": 2,\n        \"samples\": [\n          1,\n          0\n        ],\n        \"semantic_type\": \"\",\n        \"description\": \"\"\n      }\n    },\n    {\n      \"column\": \"Buy_Sell_on_Open\",\n      \"properties\": {\n        \"dtype\": \"number\",\n        \"std\": 0,\n        \"min\": 0,\n        \"max\": 1,\n        \"num_unique_values\": 2,\n        \"samples\": [\n          0,\n          1\n        ],\n        \"semantic_type\": \"\",\n        \"description\": \"\"\n      }\n    },\n    {\n      \"column\": \"Buy_Sell\",\n      \"properties\": {\n        \"dtype\": \"number\",\n        \"std\": 0,\n        \"min\": 0,\n        \"max\": 1,\n        \"num_unique_values\": 2,\n        \"samples\": [\n          1,\n          0\n        ],\n        \"semantic_type\": \"\",\n        \"description\": \"\"\n      }\n    },\n    {\n      \"column\": \"Returns\",\n      \"properties\": {\n        \"dtype\": \"number\",\n        \"std\": 0.013663674196899593,\n        \"min\": -0.10205212193629432,\n        \"max\": 0.14845565697733165,\n        \"num_unique_values\": 1257,\n        \"samples\": [\n          -0.007745210577725259,\n          0.005662449291335969\n        ],\n        \"semantic_type\": \"\",\n        \"description\": \"\"\n      }\n    }\n  ]\n}"
            }
          },
          "metadata": {},
          "execution_count": 6
        }
      ],
      "source": [
        "#View Dataset\n",
        "df"
      ]
    },
    {
      "cell_type": "markdown",
      "metadata": {
        "id": "85myMwfHLgc0"
      },
      "source": [
        "# **Dataset Cleaning and Null Value Testing**"
      ]
    },
    {
      "cell_type": "code",
      "execution_count": null,
      "metadata": {
        "colab": {
          "base_uri": "https://localhost:8080/"
        },
        "id": "h0UtWEn_PZDP",
        "outputId": "c8db0140-504d-4e67-d199-14a0944e83ef"
      },
      "outputs": [
        {
          "output_type": "execute_result",
          "data": {
            "text/plain": [
              "Date                 0\n",
              "Open                 0\n",
              "High                 0\n",
              "Low                  0\n",
              "Close                0\n",
              "Adj Close            0\n",
              "Volume               0\n",
              "Increase_Decrease    0\n",
              "Buy_Sell_on_Open     0\n",
              "Buy_Sell             0\n",
              "Returns              0\n",
              "dtype: int64"
            ]
          },
          "metadata": {},
          "execution_count": 7
        }
      ],
      "source": [
        "# See how many null values in each column\n",
        "\n",
        "df.isnull().sum()"
      ]
    },
    {
      "cell_type": "code",
      "execution_count": null,
      "metadata": {
        "colab": {
          "base_uri": "https://localhost:8080/",
          "height": 485
        },
        "id": "M3fRoI0fPbVd",
        "outputId": "71377a87-19a0-437f-e48e-9a55efeb77ac"
      },
      "outputs": [
        {
          "output_type": "display_data",
          "data": {
            "text/plain": [
              "<Figure size 1200x400 with 1 Axes>"
            ],
            "image/png": "[encoded data removed]"
          },
          "metadata": {}
        }
      ],
      "source": [
        "plt.figure(figsize=(12,4))\n",
        "sns.heatmap(df.isnull(), yticklabels=False,cbar=False,cmap='viridis')\n",
        "plt.savefig(\"Figure 1: Heatmap for Null Values\")"
      ]
    },
    {
      "cell_type": "markdown",
      "metadata": {
        "id": "0eUVLRjrPPZk"
      },
      "source": [
        "# **Analyze the Data**"
      ]
    },
    {
      "cell_type": "code",
      "execution_count": null,
      "metadata": {
        "colab": {
          "base_uri": "https://localhost:8080/"
        },
        "id": "GSUBDs3QDdjp",
        "outputId": "c991323a-c1ef-45d8-8844-6e9988dd9f4e"
      },
      "outputs": [
        {
          "output_type": "execute_result",
          "data": {
            "text/plain": [
              "(1257, 11)"
            ]
          },
          "metadata": {},
          "execution_count": 9
        }
      ],
      "source": [
        "# see number of rows, number of columns\n",
        "df.shape"
      ]
    },
    {
      "cell_type": "code",
      "execution_count": null,
      "metadata": {
        "colab": {
          "base_uri": "https://localhost:8080/"
        },
        "id": "7BXkRX5oPTr4",
        "outputId": "45c4565a-a236-4342-f694-0f8ddc7489fd"
      },
      "outputs": [
        {
          "output_type": "stream",
          "name": "stdout",
          "text": [
            "Total number of records =  13827\n"
          ]
        }
      ],
      "source": [
        "#TOTAL NUMBER OF RECORDS\n",
        "df.size\n",
        "print(\"Total number of records = \",df.size)"
      ]
    },
    {
      "cell_type": "code",
      "execution_count": null,
      "metadata": {
        "colab": {
          "base_uri": "https://localhost:8080/"
        },
        "id": "A8oT4uzIPVhD",
        "outputId": "0836942c-1753-4ebe-ffd7-8b85cee1bb77"
      },
      "outputs": [
        {
          "output_type": "execute_result",
          "data": {
            "text/plain": [
              "Index(['Date', 'Open', 'High', 'Low', 'Close', 'Adj Close', 'Volume',\n",
              "       'Increase_Decrease', 'Buy_Sell_on_Open', 'Buy_Sell', 'Returns'],\n",
              "      dtype='object')"
            ]
          },
          "metadata": {},
          "execution_count": 11
        }
      ],
      "source": [
        "# see columns names\n",
        "\n",
        "df.columns"
      ]
    },
    {
      "cell_type": "code",
      "execution_count": null,
      "metadata": {
        "colab": {
          "base_uri": "https://localhost:8080/"
        },
        "id": "f5la7x-EPXIh",
        "outputId": "9e380031-230e-4186-a11e-a995262aebf6"
      },
      "outputs": [
        {
          "output_type": "stream",
          "name": "stdout",
          "text": [
            "<class 'pandas.core.frame.DataFrame'>\n",
            "Index: 1257 entries, 1 to 1257\n",
            "Data columns (total 11 columns):\n",
            " #   Column             Non-Null Count  Dtype         \n",
            "---  ------             --------------  -----         \n",
            " 0   Date               1257 non-null   datetime64[ns]\n",
            " 1   Open               1257 non-null   float64       \n",
            " 2   High               1257 non-null   float64       \n",
            " 3   Low                1257 non-null   float64       \n",
            " 4   Close              1257 non-null   float64       \n",
            " 5   Adj Close          1257 non-null   float64       \n",
            " 6   Volume             1257 non-null   int64         \n",
            " 7   Increase_Decrease  1257 non-null   int64         \n",
            " 8   Buy_Sell_on_Open   1257 non-null   int64         \n",
            " 9   Buy_Sell           1257 non-null   int64         \n",
            " 10  Returns            1257 non-null   float64       \n",
            "dtypes: datetime64[ns](1), float64(6), int64(4)\n",
            "memory usage: 117.8 KB\n"
          ]
        }
      ],
      "source": [
        "#View Data Info\n",
        "df.info()"
      ]
    },
    {
      "cell_type": "code",
      "execution_count": null,
      "metadata": {
        "colab": {
          "base_uri": "https://localhost:8080/",
          "height": 1000
        },
        "id": "B3XfaNuvPdMz",
        "outputId": "cee0ab17-695e-4206-999c-8aa3ec9c38e0"
      },
      "outputs": [
        {
          "output_type": "execute_result",
          "data": {
            "text/plain": [
              "array([[<Axes: title={'center': 'Date'}>,\n",
              "        <Axes: title={'center': 'Open'}>,\n",
              "        <Axes: title={'center': 'High'}>],\n",
              "       [<Axes: title={'center': 'Low'}>,\n",
              "        <Axes: title={'center': 'Close'}>,\n",
              "        <Axes: title={'center': 'Adj Close'}>],\n",
              "       [<Axes: title={'center': 'Volume'}>,\n",
              "        <Axes: title={'center': 'Increase_Decrease'}>,\n",
              "        <Axes: title={'center': 'Buy_Sell_on_Open'}>],\n",
              "       [<Axes: title={'center': 'Buy_Sell'}>,\n",
              "        <Axes: title={'center': 'Returns'}>, <Axes: >]], dtype=object)"
            ]
          },
          "metadata": {},
          "execution_count": 13
        },
        {
          "output_type": "display_data",
          "data": {
            "text/plain": [
              "<Figure size 1500x1500 with 12 Axes>"
            ],
            "image/png": "[encoded data removed]"
          },
          "metadata": {}
        }
      ],
      "source": [
        "# Histogram per each numerical column\n",
        "\n",
        "df.hist(figsize=(15, 15))"
      ]
    },
    {
      "cell_type": "code",
      "execution_count": null,
      "metadata": {
        "colab": {
          "base_uri": "https://localhost:8080/",
          "height": 300
        },
        "id": "lKWPar17PfaG",
        "outputId": "d2dd966f-8ae7-475c-c1bd-c355151bebc8"
      },
      "outputs": [
        {
          "output_type": "execute_result",
          "data": {
            "text/plain": [
              "                                Date          Open          High  \\\n",
              "count                           1257   1257.000000   1257.000000   \n",
              "mean   2020-10-27 16:14:53.556086016  29592.480477  29773.502928   \n",
              "min              2018-05-01 00:00:00  19028.360000  19121.010000   \n",
              "25%              2019-07-31 00:00:00  26040.300000  26162.280000   \n",
              "50%              2020-10-27 00:00:00  29198.920000  29330.160000   \n",
              "75%              2022-01-26 00:00:00  33596.340000  33817.960000   \n",
              "max              2023-04-27 00:00:00  36722.600000  36952.650000   \n",
              "std                              NaN   4005.917425   4008.742338   \n",
              "\n",
              "                Low         Close     Adj Close        Volume  \\\n",
              "count   1257.000000   1257.000000   1257.000000  1.257000e+03   \n",
              "mean   29398.990724  29595.782681  29595.782681  3.450563e+08   \n",
              "min    18213.650000  18591.930000  18591.930000  8.615000e+07   \n",
              "25%    25877.240000  26026.320000  26026.320000  2.772300e+08   \n",
              "50%    28995.660000  29196.040000  29196.040000  3.245800e+08   \n",
              "75%    33343.430000  33597.920000  33597.920000  3.876100e+08   \n",
              "max    36636.000000  36799.650000  36799.650000  9.159900e+08   \n",
              "std     4004.681746   4007.052034   4007.052034  1.069564e+08   \n",
              "\n",
              "       Increase_Decrease  Buy_Sell_on_Open     Buy_Sell      Returns  \n",
              "count        1257.000000       1257.000000  1257.000000  1257.000000  \n",
              "mean            0.510740          0.451074     0.456643    -0.000184  \n",
              "min             0.000000          0.000000     0.000000    -0.102052  \n",
              "25%             0.000000          0.000000     0.000000    -0.006289  \n",
              "50%             1.000000          0.000000     0.000000    -0.000725  \n",
              "75%             1.000000          1.000000     1.000000     0.004709  \n",
              "max             1.000000          1.000000     1.000000     0.148456  \n",
              "std             0.500084          0.497799     0.498315     0.013664  "
            ],
            "text/html": [
              "\n",
              "  <div id=\"df-8657c8a1-9639-4db3-a5c4-6026f80ec925\" class=\"colab-df-container\">\n",
              "    <div>\n",
              "<style scoped>\n",
              "    .dataframe tbody tr th:only-of-type {\n",
              "        vertical-align: middle;\n",
              "    }\n",
              "\n",
              "    .dataframe tbody tr th {\n",
              "        vertical-align: top;\n",
              "    }\n",
              "\n",
              "    .dataframe thead th {\n",
              "        text-align: right;\n",
              "    }\n",
              "</style>\n",
              "<table border=\"1\" class=\"dataframe\">\n",
              "  <thead>\n",
              "    <tr style=\"text-align: right;\">\n",
              "      <th></th>\n",
              "      <th>Date</th>\n",
              "      <th>Open</th>\n",
              "      <th>High</th>\n",
              "      <th>Low</th>\n",
              "      <th>Close</th>\n",
              "      <th>Adj Close</th>\n",
              "      <th>Volume</th>\n",
              "      <th>Increase_Decrease</th>\n",
              "      <th>Buy_Sell_on_Open</th>\n",
              "      <th>Buy_Sell</th>\n",
              "      <th>Returns</th>\n",
              "    </tr>\n",
              "  </thead>\n",
              "  <tbody>\n",
              "    <tr>\n",
              "      <th>count</th>\n",
              "      <td>1257</td>\n",
              "      <td>1257.000000</td>\n",
              "      <td>1257.000000</td>\n",
              "      <td>1257.000000</td>\n",
              "      <td>1257.000000</td>\n",
              "      <td>1257.000000</td>\n",
              "      <td>1.257000e+03</td>\n",
              "      <td>1257.000000</td>\n",
              "      <td>1257.000000</td>\n",
              "      <td>1257.000000</td>\n",
              "      <td>1257.000000</td>\n",
              "    </tr>\n",
              "    <tr>\n",
              "      <th>mean</th>\n",
              "      <td>2020-10-27 16:14:53.556086016</td>\n",
              "      <td>29592.480477</td>\n",
              "      <td>29773.502928</td>\n",
              "      <td>29398.990724</td>\n",
              "      <td>29595.782681</td>\n",
              "      <td>29595.782681</td>\n",
              "      <td>3.450563e+08</td>\n",
              "      <td>0.510740</td>\n",
              "      <td>0.451074</td>\n",
              "      <td>0.456643</td>\n",
              "      <td>-0.000184</td>\n",
              "    </tr>\n",
              "    <tr>\n",
              "      <th>min</th>\n",
              "      <td>2018-05-01 00:00:00</td>\n",
              "      <td>19028.360000</td>\n",
              "      <td>19121.010000</td>\n",
              "      <td>18213.650000</td>\n",
              "      <td>18591.930000</td>\n",
              "      <td>18591.930000</td>\n",
              "      <td>8.615000e+07</td>\n",
              "      <td>0.000000</td>\n",
              "      <td>0.000000</td>\n",
              "      <td>0.000000</td>\n",
              "      <td>-0.102052</td>\n",
              "    </tr>\n",
              "    <tr>\n",
              "      <th>25%</th>\n",
              "      <td>2019-07-31 00:00:00</td>\n",
              "      <td>26040.300000</td>\n",
              "      <td>26162.280000</td>\n",
              "      <td>25877.240000</td>\n",
              "      <td>26026.320000</td>\n",
              "      <td>26026.320000</td>\n",
              "      <td>2.772300e+08</td>\n",
              "      <td>0.000000</td>\n",
              "      <td>0.000000</td>\n",
              "      <td>0.000000</td>\n",
              "      <td>-0.006289</td>\n",
              "    </tr>\n",
              "    <tr>\n",
              "      <th>50%</th>\n",
              "      <td>2020-10-27 00:00:00</td>\n",
              "      <td>29198.920000</td>\n",
              "      <td>29330.160000</td>\n",
              "      <td>28995.660000</td>\n",
              "      <td>29196.040000</td>\n",
              "      <td>29196.040000</td>\n",
              "      <td>3.245800e+08</td>\n",
              "      <td>1.000000</td>\n",
              "      <td>0.000000</td>\n",
              "      <td>0.000000</td>\n",
              "      <td>-0.000725</td>\n",
              "    </tr>\n",
              "    <tr>\n",
              "      <th>75%</th>\n",
              "      <td>2022-01-26 00:00:00</td>\n",
              "      <td>33596.340000</td>\n",
              "      <td>33817.960000</td>\n",
              "      <td>33343.430000</td>\n",
              "      <td>33597.920000</td>\n",
              "      <td>33597.920000</td>\n",
              "      <td>3.876100e+08</td>\n",
              "      <td>1.000000</td>\n",
              "      <td>1.000000</td>\n",
              "      <td>1.000000</td>\n",
              "      <td>0.004709</td>\n",
              "    </tr>\n",
              "    <tr>\n",
              "      <th>max</th>\n",
              "      <td>2023-04-27 00:00:00</td>\n",
              "      <td>36722.600000</td>\n",
              "      <td>36952.650000</td>\n",
              "      <td>36636.000000</td>\n",
              "      <td>36799.650000</td>\n",
              "      <td>36799.650000</td>\n",
              "      <td>9.159900e+08</td>\n",
              "      <td>1.000000</td>\n",
              "      <td>1.000000</td>\n",
              "      <td>1.000000</td>\n",
              "      <td>0.148456</td>\n",
              "    </tr>\n",
              "    <tr>\n",
              "      <th>std</th>\n",
              "      <td>NaN</td>\n",
              "      <td>4005.917425</td>\n",
              "      <td>4008.742338</td>\n",
              "      <td>4004.681746</td>\n",
              "      <td>4007.052034</td>\n",
              "      <td>4007.052034</td>\n",
              "      <td>1.069564e+08</td>\n",
              "      <td>0.500084</td>\n",
              "      <td>0.497799</td>\n",
              "      <td>0.498315</td>\n",
              "      <td>0.013664</td>\n",
              "    </tr>\n",
              "  </tbody>\n",
              "</table>\n",
              "</div>\n",
              "    <div class=\"colab-df-buttons\">\n",
              "\n",
              "  <div class=\"colab-df-container\">\n",
              "    <button class=\"colab-df-convert\" onclick=\"convertToInteractive('df-8657c8a1-9639-4db3-a5c4-6026f80ec925')\"\n",
              "            title=\"Convert this dataframe to an interactive table.\"\n",
              "            style=\"display:none;\">\n",
              "\n",
              "  <svg xmlns=\"http://www.w3.org/2000/svg\" height=\"24px\" viewBox=\"0 -960 960 960\">\n",
              "    <path d=\"M120-120v-720h720v720H120Zm60-500h600v-160H180v160Zm220 220h160v-160H400v160Zm0 220h160v-160H400v160ZM180-400h160v-160H180v160Zm440 0h160v-160H620v160ZM180-180h160v-160H180v160Zm440 0h160v-160H620v160Z\"/>\n",
              "  </svg>\n",
              "    </button>\n",
              "\n",
              "  <style>\n",
              "    .colab-df-container {\n",
              "      display:flex;\n",
              "      gap: 12px;\n",
              "    }\n",
              "\n",
              "    .colab-df-convert {\n",
              "      background-color: #E8F0FE;\n",
              "      border: none;\n",
              "      border-radius: 50%;\n",
              "      cursor: pointer;\n",
              "      display: none;\n",
              "      fill: #1967D2;\n",
              "      height: 32px;\n",
              "      padding: 0 0 0 0;\n",
              "      width: 32px;\n",
              "    }\n",
              "\n",
              "    .colab-df-convert:hover {\n",
              "      background-color: #E2EBFA;\n",
              "      box-shadow: 0px 1px 2px rgba(60, 64, 67, 0.3), 0px 1px 3px 1px rgba(60, 64, 67, 0.15);\n",
              "      fill: #174EA6;\n",
              "    }\n",
              "\n",
              "    .colab-df-buttons div {\n",
              "      margin-bottom: 4px;\n",
              "    }\n",
              "\n",
              "    [theme=dark] .colab-df-convert {\n",
              "      background-color: #3B4455;\n",
              "      fill: #D2E3FC;\n",
              "    }\n",
              "\n",
              "    [theme=dark] .colab-df-convert:hover {\n",
              "      background-color: #434B5C;\n",
              "      box-shadow: 0px 1px 3px 1px rgba(0, 0, 0, 0.15);\n",
              "      filter: drop-shadow(0px 1px 2px rgba(0, 0, 0, 0.3));\n",
              "      fill: #FFFFFF;\n",
              "    }\n",
              "  </style>\n",
              "\n",
              "    <script>\n",
              "      const buttonEl =\n",
              "        document.querySelector('#df-8657c8a1-9639-4db3-a5c4-6026f80ec925 button.colab-df-convert');\n",
              "      buttonEl.style.display =\n",
              "        google.colab.kernel.accessAllowed ? 'block' : 'none';\n",
              "\n",
              "      async function convertToInteractive(key) {\n",
              "        const element = document.querySelector('#df-8657c8a1-9639-4db3-a5c4-6026f80ec925');\n",
              "        const dataTable =\n",
              "          await google.colab.kernel.invokeFunction('convertToInteractive',\n",
              "                                                    [key], {});\n",
              "        if (!dataTable) return;\n",
              "\n",
              "        const docLinkHtml = 'Like what you see? Visit the ' +\n",
              "          '<a target=\"_blank\" href=https://colab.research.google.com/notebooks/data_table.ipynb>data table notebook</a>'\n",
              "          + ' to learn more about interactive tables.';\n",
              "        element.innerHTML = '';\n",
              "        dataTable['output_type'] = 'display_data';\n",
              "        await google.colab.output.renderOutput(dataTable, element);\n",
              "        const docLink = document.createElement('div');\n",
              "        docLink.innerHTML = docLinkHtml;\n",
              "        element.appendChild(docLink);\n",
              "      }\n",
              "    </script>\n",
              "  </div>\n",
              "\n",
              "\n",
              "<div id=\"df-062c8806-11a8-4315-991a-615ab637344c\">\n",
              "  <button class=\"colab-df-quickchart\" onclick=\"quickchart('df-062c8806-11a8-4315-991a-615ab637344c')\"\n",
              "            title=\"Suggest charts\"\n",
              "            style=\"display:none;\">\n",
              "\n",
              "<svg xmlns=\"http://www.w3.org/2000/svg\" height=\"24px\"viewBox=\"0 0 24 24\"\n",
              "     width=\"24px\">\n",
              "    <g>\n",
              "        <path d=\"M19 3H5c-1.1 0-2 .9-2 2v14c0 1.1.9 2 2 2h14c1.1 0 2-.9 2-2V5c0-1.1-.9-2-2-2zM9 17H7v-7h2v7zm4 0h-2V7h2v10zm4 0h-2v-4h2v4z\"/>\n",
              "    </g>\n",
              "</svg>\n",
              "  </button>\n",
              "\n",
              "<style>\n",
              "  .colab-df-quickchart {\n",
              "      --bg-color: #E8F0FE;\n",
              "      --fill-color: #1967D2;\n",
              "      --hover-bg-color: #E2EBFA;\n",
              "      --hover-fill-color: #174EA6;\n",
              "      --disabled-fill-color: #AAA;\n",
              "      --disabled-bg-color: #DDD;\n",
              "  }\n",
              "\n",
              "  [theme=dark] .colab-df-quickchart {\n",
              "      --bg-color: #3B4455;\n",
              "      --fill-color: #D2E3FC;\n",
              "      --hover-bg-color: #434B5C;\n",
              "      --hover-fill-color: #FFFFFF;\n",
              "      --disabled-bg-color: #3B4455;\n",
              "      --disabled-fill-color: #666;\n",
              "  }\n",
              "\n",
              "  .colab-df-quickchart {\n",
              "    background-color: var(--bg-color);\n",
              "    border: none;\n",
              "    border-radius: 50%;\n",
              "    cursor: pointer;\n",
              "    display: none;\n",
              "    fill: var(--fill-color);\n",
              "    height: 32px;\n",
              "    padding: 0;\n",
              "    width: 32px;\n",
              "  }\n",
              "\n",
              "  .colab-df-quickchart:hover {\n",
              "    background-color: var(--hover-bg-color);\n",
              "    box-shadow: 0 1px 2px rgba(60, 64, 67, 0.3), 0 1px 3px 1px rgba(60, 64, 67, 0.15);\n",
              "    fill: var(--button-hover-fill-color);\n",
              "  }\n",
              "\n",
              "  .colab-df-quickchart-complete:disabled,\n",
              "  .colab-df-quickchart-complete:disabled:hover {\n",
              "    background-color: var(--disabled-bg-color);\n",
              "    fill: var(--disabled-fill-color);\n",
              "    box-shadow: none;\n",
              "  }\n",
              "\n",
              "  .colab-df-spinner {\n",
              "    border: 2px solid var(--fill-color);\n",
              "    border-color: transparent;\n",
              "    border-bottom-color: var(--fill-color);\n",
              "    animation:\n",
              "      spin 1s steps(1) infinite;\n",
              "  }\n",
              "\n",
              "  @keyframes spin {\n",
              "    0% {\n",
              "      border-color: transparent;\n",
              "      border-bottom-color: var(--fill-color);\n",
              "      border-left-color: var(--fill-color);\n",
              "    }\n",
              "    20% {\n",
              "      border-color: transparent;\n",
              "      border-left-color: var(--fill-color);\n",
              "      border-top-color: var(--fill-color);\n",
              "    }\n",
              "    30% {\n",
              "      border-color: transparent;\n",
              "      border-left-color: var(--fill-color);\n",
              "      border-top-color: var(--fill-color);\n",
              "      border-right-color: var(--fill-color);\n",
              "    }\n",
              "    40% {\n",
              "      border-color: transparent;\n",
              "      border-right-color: var(--fill-color);\n",
              "      border-top-color: var(--fill-color);\n",
              "    }\n",
              "    60% {\n",
              "      border-color: transparent;\n",
              "      border-right-color: var(--fill-color);\n",
              "    }\n",
              "    80% {\n",
              "      border-color: transparent;\n",
              "      border-right-color: var(--fill-color);\n",
              "      border-bottom-color: var(--fill-color);\n",
              "    }\n",
              "    90% {\n",
              "      border-color: transparent;\n",
              "      border-bottom-color: var(--fill-color);\n",
              "    }\n",
              "  }\n",
              "</style>\n",
              "\n",
              "  <script>\n",
              "    async function quickchart(key) {\n",
              "      const quickchartButtonEl =\n",
              "        document.querySelector('#' + key + ' button');\n",
              "      quickchartButtonEl.disabled = true;  // To prevent multiple clicks.\n",
              "      quickchartButtonEl.classList.add('colab-df-spinner');\n",
              "      try {\n",
              "        const charts = await google.colab.kernel.invokeFunction(\n",
              "            'suggestCharts', [key], {});\n",
              "      } catch (error) {\n",
              "        console.error('Error during call to suggestCharts:', error);\n",
              "      }\n",
              "      quickchartButtonEl.classList.remove('colab-df-spinner');\n",
              "      quickchartButtonEl.classList.add('colab-df-quickchart-complete');\n",
              "    }\n",
              "    (() => {\n",
              "      let quickchartButtonEl =\n",
              "        document.querySelector('#df-062c8806-11a8-4315-991a-615ab637344c button');\n",
              "      quickchartButtonEl.style.display =\n",
              "        google.colab.kernel.accessAllowed ? 'block' : 'none';\n",
              "    })();\n",
              "  </script>\n",
              "</div>\n",
              "\n",
              "    </div>\n",
              "  </div>\n"
            ],
            "application/vnd.google.colaboratory.intrinsic+json": {
              "type": "dataframe",
              "summary": "{\n  \"name\": \"df\",\n  \"rows\": 8,\n  \"fields\": [\n    {\n      \"column\": \"Date\",\n      \"properties\": {\n        \"dtype\": \"date\",\n        \"min\": \"1970-01-01 00:00:00.000001257\",\n        \"max\": \"2023-04-27 00:00:00\",\n        \"num_unique_values\": 7,\n        \"samples\": [\n          \"1257\",\n          \"2020-10-27 16:14:53.556086016\",\n          \"2022-01-26 00:00:00\"\n        ],\n        \"semantic_type\": \"\",\n        \"description\": \"\"\n      }\n    },\n    {\n      \"column\": \"Open\",\n      \"properties\": {\n        \"dtype\": \"number\",\n        \"std\": 13301.0909131412,\n        \"min\": 1257.0,\n        \"max\": 36722.6,\n        \"num_unique_values\": 8,\n        \"samples\": [\n          29592.480477326968,\n          33596.34,\n          1257.0\n        ],\n        \"semantic_type\": \"\",\n        \"description\": \"\"\n      }\n    },\n    {\n      \"column\": \"High\",\n      \"properties\": {\n        \"dtype\": \"number\",\n        \"std\": 13387.25070347046,\n        \"min\": 1257.0,\n        \"max\": 36952.65,\n        \"num_unique_values\": 8,\n        \"samples\": [\n          29773.50292760541,\n          33817.96,\n          1257.0\n        ],\n        \"semantic_type\": \"\",\n        \"description\": \"\"\n      }\n    },\n    {\n      \"column\": \"Low\",\n      \"properties\": {\n        \"dtype\": \"number\",\n        \"std\": 13253.951006911067,\n        \"min\": 1257.0,\n        \"max\": 36636.0,\n        \"num_unique_values\": 8,\n        \"samples\": [\n          29398.990723945906,\n          33343.43,\n          1257.0\n        ],\n        \"semantic_type\": \"\",\n        \"description\": \"\"\n      }\n    },\n    {\n      \"column\": \"Close\",\n      \"properties\": {\n        \"dtype\": \"number\",\n        \"std\": 13329.265870280999,\n        \"min\": 1257.0,\n        \"max\": 36799.65,\n        \"num_unique_values\": 8,\n        \"samples\": [\n          29595.782680986475,\n          33597.92,\n          1257.0\n        ],\n        \"semantic_type\": \"\",\n        \"description\": \"\"\n      }\n    },\n    {\n      \"column\": \"Adj Close\",\n      \"properties\": {\n        \"dtype\": \"number\",\n        \"std\": 13329.265870280999,\n        \"min\": 1257.0,\n        \"max\": 36799.65,\n        \"num_unique_values\": 8,\n        \"samples\": [\n          29595.782680986475,\n          33597.92,\n          1257.0\n        ],\n        \"semantic_type\": \"\",\n        \"description\": \"\"\n      }\n    },\n    {\n      \"column\": \"Volume\",\n      \"properties\": {\n        \"dtype\": \"number\",\n        \"std\": 283607238.7365338,\n        \"min\": 1257.0,\n        \"max\": 915990000.0,\n        \"num_unique_values\": 8,\n        \"samples\": [\n          345056268.8941925,\n          387610000.0,\n          1257.0\n        ],\n        \"semantic_type\": \"\",\n        \"description\": \"\"\n      }\n    },\n    {\n      \"column\": \"Increase_Decrease\",\n      \"properties\": {\n        \"dtype\": \"number\",\n        \"std\": 444.2142298211237,\n        \"min\": 0.0,\n        \"max\": 1257.0,\n        \"num_unique_values\": 5,\n        \"samples\": [\n          0.5107398568019093,\n          0.5000836012378825,\n          0.0\n        ],\n        \"semantic_type\": \"\",\n        \"description\": \"\"\n      }\n    },\n    {\n      \"column\": \"Buy_Sell_on_Open\",\n      \"properties\": {\n        \"dtype\": \"number\",\n        \"std\": 444.2678658035676,\n        \"min\": 0.0,\n        \"max\": 1257.0,\n        \"num_unique_values\": 5,\n        \"samples\": [\n          0.4510739856801909,\n          0.49779853741546,\n          0.0\n        ],\n        \"semantic_type\": \"\",\n        \"description\": \"\"\n      }\n    },\n    {\n      \"column\": \"Buy_Sell\",\n      \"properties\": {\n        \"dtype\": \"number\",\n        \"std\": 444.2675585280458,\n        \"min\": 0.0,\n        \"max\": 1257.0,\n        \"num_unique_values\": 5,\n        \"samples\": [\n          0.45664280031821797,\n          0.49831486143647946,\n          0.0\n        ],\n        \"semantic_type\": \"\",\n        \"description\": \"\"\n      }\n    },\n    {\n      \"column\": \"Returns\",\n      \"properties\": {\n        \"dtype\": \"number\",\n        \"std\": 444.4137090019023,\n        \"min\": -0.10205212193629432,\n        \"max\": 1257.0,\n        \"num_unique_values\": 8,\n        \"samples\": [\n          -0.00018372836405373583,\n          0.0047090679638497335,\n          1257.0\n        ],\n        \"semantic_type\": \"\",\n        \"description\": \"\"\n      }\n    }\n  ]\n}"
            }
          },
          "metadata": {},
          "execution_count": 14
        }
      ],
      "source": [
        "# The statistics per each column\n",
        "\n",
        "df.describe()"
      ]
    },
    {
      "cell_type": "markdown",
      "metadata": {
        "id": "_y46f82APjLr"
      },
      "source": [
        "# **Define X and Y**"
      ]
    },
    {
      "cell_type": "code",
      "execution_count": null,
      "metadata": {
        "id": "SJ9j9UEeDfHo"
      },
      "outputs": [],
      "source": [
        "X = df['Open'].values.reshape(1257,-1)\n",
        "y = df['Adj Close'].values.reshape(1257,-1)"
      ]
    },
    {
      "cell_type": "code",
      "execution_count": null,
      "metadata": {
        "colab": {
          "base_uri": "https://localhost:8080/",
          "height": 75
        },
        "id": "SiEx7IFCDk_L",
        "outputId": "a3f4f668-57ca-4ff7-9101-29d508295653"
      },
      "outputs": [
        {
          "output_type": "execute_result",
          "data": {
            "text/plain": [
              "BayesianRidge(compute_score=True)"
            ],
            "text/html": [
              "<style>#sk-container-id-1 {color: black;background-color: white;}#sk-container-id-1 pre{padding: 0;}#sk-container-id-1 div.sk-toggleable {background-color: white;}#sk-container-id-1 label.sk-toggleable__label {cursor: pointer;display: block;width: 100%;margin-bottom: 0;padding: 0.3em;box-sizing: border-box;text-align: center;}#sk-container-id-1 label.sk-toggleable__label-arrow:before {content: \"▸\";float: left;margin-right: 0.25em;color: #696969;}#sk-container-id-1 label.sk-toggleable__label-arrow:hover:before {color: black;}#sk-container-id-1 div.sk-estimator:hover label.sk-toggleable__label-arrow:before {color: black;}#sk-container-id-1 div.sk-toggleable__content {max-height: 0;max-width: 0;overflow: hidden;text-align: left;background-color: #f0f8ff;}#sk-container-id-1 div.sk-toggleable__content pre {margin: 0.2em;color: black;border-radius: 0.25em;background-color: #f0f8ff;}#sk-container-id-1 input.sk-toggleable__control:checked~div.sk-toggleable__content {max-height: 200px;max-width: 100%;overflow: auto;}#sk-container-id-1 input.sk-toggleable__control:checked~label.sk-toggleable__label-arrow:before {content: \"▾\";}#sk-container-id-1 div.sk-estimator input.sk-toggleable__control:checked~label.sk-toggleable__label {background-color: #d4ebff;}#sk-container-id-1 div.sk-label input.sk-toggleable__control:checked~label.sk-toggleable__label {background-color: #d4ebff;}#sk-container-id-1 input.sk-hidden--visually {border: 0;clip: rect(1px 1px 1px 1px);clip: rect(1px, 1px, 1px, 1px);height: 1px;margin: -1px;overflow: hidden;padding: 0;position: absolute;width: 1px;}#sk-container-id-1 div.sk-estimator {font-family: monospace;background-color: #f0f8ff;border: 1px dotted black;border-radius: 0.25em;box-sizing: border-box;margin-bottom: 0.5em;}#sk-container-id-1 div.sk-estimator:hover {background-color: #d4ebff;}#sk-container-id-1 div.sk-parallel-item::after {content: \"\";width: 100%;border-bottom: 1px solid gray;flex-grow: 1;}#sk-container-id-1 div.sk-label:hover label.sk-toggleable__label {background-color: #d4ebff;}#sk-container-id-1 div.sk-serial::before {content: \"\";position: absolute;border-left: 1px solid gray;box-sizing: border-box;top: 0;bottom: 0;left: 50%;z-index: 0;}#sk-container-id-1 div.sk-serial {display: flex;flex-direction: column;align-items: center;background-color: white;padding-right: 0.2em;padding-left: 0.2em;position: relative;}#sk-container-id-1 div.sk-item {position: relative;z-index: 1;}#sk-container-id-1 div.sk-parallel {display: flex;align-items: stretch;justify-content: center;background-color: white;position: relative;}#sk-container-id-1 div.sk-item::before, #sk-container-id-1 div.sk-parallel-item::before {content: \"\";position: absolute;border-left: 1px solid gray;box-sizing: border-box;top: 0;bottom: 0;left: 50%;z-index: -1;}#sk-container-id-1 div.sk-parallel-item {display: flex;flex-direction: column;z-index: 1;position: relative;background-color: white;}#sk-container-id-1 div.sk-parallel-item:first-child::after {align-self: flex-end;width: 50%;}#sk-container-id-1 div.sk-parallel-item:last-child::after {align-self: flex-start;width: 50%;}#sk-container-id-1 div.sk-parallel-item:only-child::after {width: 0;}#sk-container-id-1 div.sk-dashed-wrapped {border: 1px dashed gray;margin: 0 0.4em 0.5em 0.4em;box-sizing: border-box;padding-bottom: 0.4em;background-color: white;}#sk-container-id-1 div.sk-label label {font-family: monospace;font-weight: bold;display: inline-block;line-height: 1.2em;}#sk-container-id-1 div.sk-label-container {text-align: center;}#sk-container-id-1 div.sk-container {/* jupyter's `normalize.less` sets `[hidden] { display: none; }` but bootstrap.min.css set `[hidden] { display: none !important; }` so we also need the `!important` here to be able to override the default hidden behavior on the sphinx rendered scikit-learn.org. See: https://github.com/scikit-learn/scikit-learn/issues/21755 */display: inline-block !important;position: relative;}#sk-container-id-1 div.sk-text-repr-fallback {display: none;}</style><div id=\"sk-container-id-1\" class=\"sk-top-container\"><div class=\"sk-text-repr-fallback\"><pre>BayesianRidge(compute_score=True)</pre><b>In a Jupyter environment, please rerun this cell to show the HTML representation or trust the notebook. <br />On GitHub, the HTML representation is unable to render, please try loading this page with nbviewer.org.</b></div><div class=\"sk-container\" hidden><div class=\"sk-item\"><div class=\"sk-estimator sk-toggleable\"><input class=\"sk-toggleable__control sk-hidden--visually\" id=\"sk-estimator-id-1\" type=\"checkbox\" checked><label for=\"sk-estimator-id-1\" class=\"sk-toggleable__label sk-toggleable__label-arrow\">BayesianRidge</label><div class=\"sk-toggleable__content\"><pre>BayesianRidge(compute_score=True)</pre></div></div></div></div></div>"
            ]
          },
          "metadata": {},
          "execution_count": 16
        }
      ],
      "source": [
        "from sklearn.linear_model import BayesianRidge, LinearRegression\n",
        "\n",
        "# Fit the Bayesian Ridge Regression and an OLS for comparison\n",
        "model = BayesianRidge(compute_score=True)\n",
        "model.fit(X, y)"
      ]
    },
    {
      "cell_type": "code",
      "execution_count": null,
      "metadata": {
        "colab": {
          "base_uri": "https://localhost:8080/"
        },
        "id": "Xf8X78dcDn-z",
        "outputId": "060e04e8-45ec-4217-83c8-acb80f34b7a0"
      },
      "outputs": [
        {
          "output_type": "execute_result",
          "data": {
            "text/plain": [
              "array([0.99787051])"
            ]
          },
          "metadata": {},
          "execution_count": 17
        }
      ],
      "source": [
        "model.coef_"
      ]
    },
    {
      "cell_type": "code",
      "execution_count": null,
      "metadata": {
        "colab": {
          "base_uri": "https://localhost:8080/"
        },
        "id": "kJ7S8yxrDp-r",
        "outputId": "62e87df1-2913-4a9e-eb3a-da5f4591ea94"
      },
      "outputs": [
        {
          "output_type": "execute_result",
          "data": {
            "text/plain": [
              "array([-11589.52939959,  -8863.41103408,  -8863.4110286 ])"
            ]
          },
          "metadata": {},
          "execution_count": 18
        }
      ],
      "source": [
        "model.scores_"
      ]
    },
    {
      "cell_type": "markdown",
      "metadata": {
        "id": "8bVZFNDiPqkP"
      },
      "source": [
        "# **Split Train Data and Test Data**"
      ]
    },
    {
      "cell_type": "code",
      "execution_count": null,
      "metadata": {
        "id": "HlhbUS61DrWr"
      },
      "outputs": [],
      "source": [
        "from sklearn.model_selection import train_test_split"
      ]
    },
    {
      "cell_type": "code",
      "execution_count": null,
      "metadata": {
        "id": "FgiQLSeGDsxh"
      },
      "outputs": [],
      "source": [
        "X_train, X_test, y_train, y_test = train_test_split(X, y, test_size = 0.25, random_state = 0)"
      ]
    },
    {
      "cell_type": "markdown",
      "metadata": {
        "id": "T8LpUbrtPvd3"
      },
      "source": [
        "# **Dataset Traning and Model Traning**"
      ]
    },
    {
      "cell_type": "code",
      "execution_count": null,
      "metadata": {
        "colab": {
          "base_uri": "https://localhost:8080/",
          "height": 75
        },
        "id": "3jQvIvwlDuXQ",
        "outputId": "0c4e179e-b040-4e82-f6c2-4f125aa17e4d"
      },
      "outputs": [
        {
          "output_type": "execute_result",
          "data": {
            "text/plain": [
              "BayesianRidge(compute_score=True)"
            ],
            "text/html": [
              "<style>#sk-container-id-2 {color: black;background-color: white;}#sk-container-id-2 pre{padding: 0;}#sk-container-id-2 div.sk-toggleable {background-color: white;}#sk-container-id-2 label.sk-toggleable__label {cursor: pointer;display: block;width: 100%;margin-bottom: 0;padding: 0.3em;box-sizing: border-box;text-align: center;}#sk-container-id-2 label.sk-toggleable__label-arrow:before {content: \"▸\";float: left;margin-right: 0.25em;color: #696969;}#sk-container-id-2 label.sk-toggleable__label-arrow:hover:before {color: black;}#sk-container-id-2 div.sk-estimator:hover label.sk-toggleable__label-arrow:before {color: black;}#sk-container-id-2 div.sk-toggleable__content {max-height: 0;max-width: 0;overflow: hidden;text-align: left;background-color: #f0f8ff;}#sk-container-id-2 div.sk-toggleable__content pre {margin: 0.2em;color: black;border-radius: 0.25em;background-color: #f0f8ff;}#sk-container-id-2 input.sk-toggleable__control:checked~div.sk-toggleable__content {max-height: 200px;max-width: 100%;overflow: auto;}#sk-container-id-2 input.sk-toggleable__control:checked~label.sk-toggleable__label-arrow:before {content: \"▾\";}#sk-container-id-2 div.sk-estimator input.sk-toggleable__control:checked~label.sk-toggleable__label {background-color: #d4ebff;}#sk-container-id-2 div.sk-label input.sk-toggleable__control:checked~label.sk-toggleable__label {background-color: #d4ebff;}#sk-container-id-2 input.sk-hidden--visually {border: 0;clip: rect(1px 1px 1px 1px);clip: rect(1px, 1px, 1px, 1px);height: 1px;margin: -1px;overflow: hidden;padding: 0;position: absolute;width: 1px;}#sk-container-id-2 div.sk-estimator {font-family: monospace;background-color: #f0f8ff;border: 1px dotted black;border-radius: 0.25em;box-sizing: border-box;margin-bottom: 0.5em;}#sk-container-id-2 div.sk-estimator:hover {background-color: #d4ebff;}#sk-container-id-2 div.sk-parallel-item::after {content: \"\";width: 100%;border-bottom: 1px solid gray;flex-grow: 1;}#sk-container-id-2 div.sk-label:hover label.sk-toggleable__label {background-color: #d4ebff;}#sk-container-id-2 div.sk-serial::before {content: \"\";position: absolute;border-left: 1px solid gray;box-sizing: border-box;top: 0;bottom: 0;left: 50%;z-index: 0;}#sk-container-id-2 div.sk-serial {display: flex;flex-direction: column;align-items: center;background-color: white;padding-right: 0.2em;padding-left: 0.2em;position: relative;}#sk-container-id-2 div.sk-item {position: relative;z-index: 1;}#sk-container-id-2 div.sk-parallel {display: flex;align-items: stretch;justify-content: center;background-color: white;position: relative;}#sk-container-id-2 div.sk-item::before, #sk-container-id-2 div.sk-parallel-item::before {content: \"\";position: absolute;border-left: 1px solid gray;box-sizing: border-box;top: 0;bottom: 0;left: 50%;z-index: -1;}#sk-container-id-2 div.sk-parallel-item {display: flex;flex-direction: column;z-index: 1;position: relative;background-color: white;}#sk-container-id-2 div.sk-parallel-item:first-child::after {align-self: flex-end;width: 50%;}#sk-container-id-2 div.sk-parallel-item:last-child::after {align-self: flex-start;width: 50%;}#sk-container-id-2 div.sk-parallel-item:only-child::after {width: 0;}#sk-container-id-2 div.sk-dashed-wrapped {border: 1px dashed gray;margin: 0 0.4em 0.5em 0.4em;box-sizing: border-box;padding-bottom: 0.4em;background-color: white;}#sk-container-id-2 div.sk-label label {font-family: monospace;font-weight: bold;display: inline-block;line-height: 1.2em;}#sk-container-id-2 div.sk-label-container {text-align: center;}#sk-container-id-2 div.sk-container {/* jupyter's `normalize.less` sets `[hidden] { display: none; }` but bootstrap.min.css set `[hidden] { display: none !important; }` so we also need the `!important` here to be able to override the default hidden behavior on the sphinx rendered scikit-learn.org. See: https://github.com/scikit-learn/scikit-learn/issues/21755 */display: inline-block !important;position: relative;}#sk-container-id-2 div.sk-text-repr-fallback {display: none;}</style><div id=\"sk-container-id-2\" class=\"sk-top-container\"><div class=\"sk-text-repr-fallback\"><pre>BayesianRidge(compute_score=True)</pre><b>In a Jupyter environment, please rerun this cell to show the HTML representation or trust the notebook. <br />On GitHub, the HTML representation is unable to render, please try loading this page with nbviewer.org.</b></div><div class=\"sk-container\" hidden><div class=\"sk-item\"><div class=\"sk-estimator sk-toggleable\"><input class=\"sk-toggleable__control sk-hidden--visually\" id=\"sk-estimator-id-2\" type=\"checkbox\" checked><label for=\"sk-estimator-id-2\" class=\"sk-toggleable__label sk-toggleable__label-arrow\">BayesianRidge</label><div class=\"sk-toggleable__content\"><pre>BayesianRidge(compute_score=True)</pre></div></div></div></div></div>"
            ]
          },
          "metadata": {},
          "execution_count": 21
        }
      ],
      "source": [
        "model = BayesianRidge(compute_score=True)\n",
        "model.fit(X_train, y_train)"
      ]
    },
    {
      "cell_type": "code",
      "execution_count": null,
      "metadata": {
        "colab": {
          "base_uri": "https://localhost:8080/"
        },
        "id": "uxtbTNkLDvzD",
        "outputId": "21475d90-3c4a-4f65-92dc-c27823f234f5"
      },
      "outputs": [
        {
          "output_type": "execute_result",
          "data": {
            "text/plain": [
              "array([0.99727571])"
            ]
          },
          "metadata": {},
          "execution_count": 22
        }
      ],
      "source": [
        "model.coef_"
      ]
    },
    {
      "cell_type": "code",
      "execution_count": null,
      "metadata": {
        "colab": {
          "base_uri": "https://localhost:8080/"
        },
        "id": "_A-S-z2kDxCQ",
        "outputId": "aac70e27-f4b0-46fe-caa3-127a3d061d5e"
      },
      "outputs": [
        {
          "output_type": "execute_result",
          "data": {
            "text/plain": [
              "array([-8672.345809  , -6619.02839038, -6619.02837692, -6619.02837692])"
            ]
          },
          "metadata": {},
          "execution_count": 23
        }
      ],
      "source": [
        "model.scores_"
      ]
    },
    {
      "cell_type": "markdown",
      "metadata": {
        "id": "pxs3rV5PMBmi"
      },
      "source": [
        "# **Comparison of Actual Values and Predicted Values**"
      ]
    },
    {
      "cell_type": "code",
      "execution_count": null,
      "metadata": {
        "id": "MQ7HP2gcDyiy"
      },
      "outputs": [],
      "source": [
        "y_pred = model.predict(X_test)"
      ]
    },
    {
      "cell_type": "markdown",
      "metadata": {
        "id": "UbZ5VEN3MITX"
      },
      "source": [
        "# **Accuracy and Loss Function Values of the Model**"
      ]
    },
    {
      "cell_type": "code",
      "execution_count": null,
      "metadata": {
        "colab": {
          "base_uri": "https://localhost:8080/"
        },
        "id": "OV3BBoe8dUfQ",
        "outputId": "ed4f1b47-cd79-4bdd-cebd-02dc0737a325"
      },
      "outputs": [
        {
          "output_type": "stream",
          "name": "stdout",
          "text": [
            "Mean_Absolute_Error(MAE): 214.50602456644984\n",
            "Mean_Squared_Error(MSE): 89056.62027878832\n",
            "Root_Mean_Squared_Error(RMSE): 298.42355851840574\n"
          ]
        }
      ],
      "source": [
        "from sklearn import metrics\n",
        "print('Mean_Absolute_Error(MAE):', metrics.mean_absolute_error(y_test, y_pred))\n",
        "print('Mean_Squared_Error(MSE):', metrics.mean_squared_error(y_test, y_pred))\n",
        "print('Root_Mean_Squared_Error(RMSE):', np.sqrt(metrics.mean_squared_error(y_test, y_pred)))\n"
      ]
    },
    {
      "cell_type": "code",
      "execution_count": null,
      "metadata": {
        "colab": {
          "base_uri": "https://localhost:8080/"
        },
        "id": "4Im8wi_ND1W4",
        "outputId": "26e8e4b8-bfc7-4dfa-c7a9-3f356041405a"
      },
      "outputs": [
        {
          "output_type": "stream",
          "name": "stdout",
          "text": [
            "Accuracy Score: 0.9948743553820713\n"
          ]
        }
      ],
      "source": [
        "print('Accuracy Score:', model.score(X_test, y_test))"
      ]
    },
    {
      "cell_type": "code",
      "execution_count": null,
      "metadata": {
        "colab": {
          "base_uri": "https://localhost:8080/",
          "height": 564
        },
        "id": "nG5gIRCX-Zy4",
        "outputId": "ff704e7d-a8ae-455e-90ba-b7646436ee27"
      },
      "outputs": [
        {
          "output_type": "display_data",
          "data": {
            "text/plain": [
              "<Figure size 1200x600 with 1 Axes>"
            ],
            "image/png": "[encoded data removed]"
          },
          "metadata": {}
        }
      ],
      "source": [
        "import matplotlib.pyplot as plt\n",
        "\n",
        "# Plotting the actual stock prices\n",
        "plt.figure(figsize=(12, 6))\n",
        "plt.plot(df['Date'], df['Adj Close'], label='Actual Stock Prices', color='blue')\n",
        "\n",
        "# Plotting the predicted stock prices for the entire dataset\n",
        "plt.plot(df['Date'], model.predict(X), label='Predicted Stock Prices', color='red')\n",
        "\n",
        "plt.title('Actual vs. Predicted Stock Prices')\n",
        "plt.xlabel('Date')\n",
        "plt.ylabel('Stock Price')\n",
        "plt.legend()\n",
        "plt.grid(True)\n",
        "plt.show()\n"
      ]
    }
  ],
  "metadata": {
    "colab": {
      "provenance": []
    },
    "kernelspec": {
      "display_name": "Python 3 (ipykernel)",
      "language": "python",
      "name": "python3"
    },
    "language_info": {
      "codemirror_mode": {
        "name": "ipython",
        "version": 3
      },
      "file_extension": ".py",
      "mimetype": "text/x-python",
      "name": "python",
      "nbconvert_exporter": "python",
      "pygments_lexer": "ipython3",
      "version": "3.9.12"
    }
  },
  "nbformat": 4,
  "nbformat_minor": 0
}