{
  "nbformat": 4,
  "nbformat_minor": 0,
  "metadata": {
    "colab": {
      "provenance": [],
      "authorship_tag": "ABX9TyN0qXTL0fzsRGnkgFs2DjbY",
      "include_colab_link": true
    },
    "kernelspec": {
      "name": "python3",
      "display_name": "Python 3"
    },
    "language_info": {
      "name": "python"
    }
  },
  "cells": [
    {
      "cell_type": "markdown",
      "metadata": {
        "id": "view-in-github",
        "colab_type": "text"
      },
      "source": [
        "<a href=\"https://colab.research.google.com/github/Pasindu-Madhuwantha/Machine-Learning-Assignment/blob/IT20609030/2.%20notebooks/IT20609030/Logistic_Regression_Model_for_Stock_Price_Prediction.ipynb\" target=\"_parent\"><img src=\"https://colab.research.google.com/assets/colab-badge.svg\" alt=\"Open In Colab\"/></a>"
      ]
    },
    {
      "cell_type": "markdown",
      "source": [
        "# 📉📊📈**Stock Price Prediction Using Different Machine Learning Models and Compare the Performance of the Models**📉📊📈"
      ],
      "metadata": {
        "id": "3ykIhyK7R_ko"
      }
    },
    {
      "cell_type": "markdown",
      "source": [
        "Because of its complexity and difficulty, forecasting stock prices fascinates researchers and industry specialists from a variety of fields, including computer science, economics, business arithmetic, and marketing. Despite considerable attempts over the last decade, stock market price forecasting remains difficult due to the intrinsic random wandering nature of market prices. Stock price volatility creates significant challenges for precise forecasting. Nonetheless, establishing efficient and accurate forecasting models is critical for managers, investors, and decision-makers to make sound investment decisions. Analysts use machine learning techniques to evaluate historical data and uncover patterns and trends that might assist forecast future stock performance. Researchers try to create prediction models that can efficiently manage the unpredictable nature of stock markets by combining current and historical data."
      ],
      "metadata": {
        "id": "l1yWcX5NSREu"
      }
    },
    {
      "cell_type": "markdown",
      "source": [
        "# ✅ **Logistic Regression** ✅"
      ],
      "metadata": {
        "id": "IIi0FhJ0SiSv"
      }
    },
    {
      "cell_type": "code",
      "execution_count": 1,
      "metadata": {
        "colab": {
          "base_uri": "https://localhost:8080/"
        },
        "id": "mrHvdBK7Cd1m",
        "outputId": "7845692d-14f0-43b6-eb30-b460eb5ddde6"
      },
      "outputs": [
        {
          "output_type": "stream",
          "name": "stdout",
          "text": [
            "Mounted at /content/drive\n"
          ]
        }
      ],
      "source": [
        "from google.colab import drive\n",
        "drive.mount('/content/drive')"
      ]
    },
    {
      "cell_type": "markdown",
      "source": [
        "# **Import Libraries**"
      ],
      "metadata": {
        "id": "c1QR8zR9S3RW"
      }
    },
    {
      "cell_type": "code",
      "source": [
        "import numpy as np\n",
        "import matplotlib.pyplot as plt\n",
        "import pandas as pd\n",
        "\n",
        "import warnings\n",
        "warnings.filterwarnings(\"ignore\")\n",
        "\n",
        "# MATPLOTLIB & SEABORN FOR GRAPH-PLOTTING\n",
        "import matplotlib.pyplot as plt\n",
        "import seaborn as sns\n",
        "%matplotlib inline"
      ],
      "metadata": {
        "id": "FvIzjoFmHR0x"
      },
      "execution_count": 2,
      "outputs": []
    },
    {
      "cell_type": "markdown",
      "source": [
        "# **Load Data into Data Frame**"
      ],
      "metadata": {
        "id": "llmchYjBS5cO"
      }
    },
    {
      "cell_type": "code",
      "source": [
        "import pandas as pd\n",
        "\n",
        "# Path to your CSV file in Google Drive\n",
        "file_path = '/content/drive/MyDrive/yahoo_data.csv'\n",
        "\n",
        "# Read the CSV file into a DataFrame\n",
        "dataset = pd.read_csv(file_path)\n",
        "\n",
        "# Display the first few rows of the DataFrame and format the date column\n",
        "dataset.head().style.format({'Date': lambda x: pd.to_datetime(x).strftime('%Y-%m-%d')})"
      ],
      "metadata": {
        "colab": {
          "base_uri": "https://localhost:8080/",
          "height": 206
        },
        "id": "ApAhvmGHTES7",
        "outputId": "8d5947fd-422b-4e9a-af2f-b6cbe7d554ad"
      },
      "execution_count": 3,
      "outputs": [
        {
          "output_type": "execute_result",
          "data": {
            "text/plain": [
              "<pandas.io.formats.style.Styler at 0x78b6a0426110>"
            ],
            "text/html": [
              "<style type=\"text/css\">\n",
              "</style>\n",
              "<table id=\"T_62c08\" class=\"dataframe\">\n",
              "  <thead>\n",
              "    <tr>\n",
              "      <th class=\"blank level0\" >&nbsp;</th>\n",
              "      <th id=\"T_62c08_level0_col0\" class=\"col_heading level0 col0\" >Date</th>\n",
              "      <th id=\"T_62c08_level0_col1\" class=\"col_heading level0 col1\" >Open</th>\n",
              "      <th id=\"T_62c08_level0_col2\" class=\"col_heading level0 col2\" >High</th>\n",
              "      <th id=\"T_62c08_level0_col3\" class=\"col_heading level0 col3\" >Low</th>\n",
              "      <th id=\"T_62c08_level0_col4\" class=\"col_heading level0 col4\" >Close</th>\n",
              "      <th id=\"T_62c08_level0_col5\" class=\"col_heading level0 col5\" >Adj Close</th>\n",
              "      <th id=\"T_62c08_level0_col6\" class=\"col_heading level0 col6\" >Volume</th>\n",
              "    </tr>\n",
              "  </thead>\n",
              "  <tbody>\n",
              "    <tr>\n",
              "      <th id=\"T_62c08_level0_row0\" class=\"row_heading level0 row0\" >0</th>\n",
              "      <td id=\"T_62c08_row0_col0\" class=\"data row0 col0\" >2023-04-28</td>\n",
              "      <td id=\"T_62c08_row0_col1\" class=\"data row0 col1\" >33,797.43</td>\n",
              "      <td id=\"T_62c08_row0_col2\" class=\"data row0 col2\" >34,104.56</td>\n",
              "      <td id=\"T_62c08_row0_col3\" class=\"data row0 col3\" >33,728.40</td>\n",
              "      <td id=\"T_62c08_row0_col4\" class=\"data row0 col4\" >34,098.16</td>\n",
              "      <td id=\"T_62c08_row0_col5\" class=\"data row0 col5\" >34,098.16</td>\n",
              "      <td id=\"T_62c08_row0_col6\" class=\"data row0 col6\" >354,310,000</td>\n",
              "    </tr>\n",
              "    <tr>\n",
              "      <th id=\"T_62c08_level0_row1\" class=\"row_heading level0 row1\" >1</th>\n",
              "      <td id=\"T_62c08_row1_col0\" class=\"data row1 col0\" >2023-04-27</td>\n",
              "      <td id=\"T_62c08_row1_col1\" class=\"data row1 col1\" >33,381.66</td>\n",
              "      <td id=\"T_62c08_row1_col2\" class=\"data row1 col2\" >33,859.75</td>\n",
              "      <td id=\"T_62c08_row1_col3\" class=\"data row1 col3\" >33,374.65</td>\n",
              "      <td id=\"T_62c08_row1_col4\" class=\"data row1 col4\" >33,826.16</td>\n",
              "      <td id=\"T_62c08_row1_col5\" class=\"data row1 col5\" >33,826.16</td>\n",
              "      <td id=\"T_62c08_row1_col6\" class=\"data row1 col6\" >343,240,000</td>\n",
              "    </tr>\n",
              "    <tr>\n",
              "      <th id=\"T_62c08_level0_row2\" class=\"row_heading level0 row2\" >2</th>\n",
              "      <td id=\"T_62c08_row2_col0\" class=\"data row2 col0\" >2023-04-26</td>\n",
              "      <td id=\"T_62c08_row2_col1\" class=\"data row2 col1\" >33,596.34</td>\n",
              "      <td id=\"T_62c08_row2_col2\" class=\"data row2 col2\" >33,645.83</td>\n",
              "      <td id=\"T_62c08_row2_col3\" class=\"data row2 col3\" >33,235.85</td>\n",
              "      <td id=\"T_62c08_row2_col4\" class=\"data row2 col4\" >33,301.87</td>\n",
              "      <td id=\"T_62c08_row2_col5\" class=\"data row2 col5\" >33,301.87</td>\n",
              "      <td id=\"T_62c08_row2_col6\" class=\"data row2 col6\" >321,170,000</td>\n",
              "    </tr>\n",
              "    <tr>\n",
              "      <th id=\"T_62c08_level0_row3\" class=\"row_heading level0 row3\" >3</th>\n",
              "      <td id=\"T_62c08_row3_col0\" class=\"data row3 col0\" >2023-04-25</td>\n",
              "      <td id=\"T_62c08_row3_col1\" class=\"data row3 col1\" >33,828.34</td>\n",
              "      <td id=\"T_62c08_row3_col2\" class=\"data row3 col2\" >33,875.49</td>\n",
              "      <td id=\"T_62c08_row3_col3\" class=\"data row3 col3\" >33,525.39</td>\n",
              "      <td id=\"T_62c08_row3_col4\" class=\"data row3 col4\" >33,530.83</td>\n",
              "      <td id=\"T_62c08_row3_col5\" class=\"data row3 col5\" >33,530.83</td>\n",
              "      <td id=\"T_62c08_row3_col6\" class=\"data row3 col6\" >297,880,000</td>\n",
              "    </tr>\n",
              "    <tr>\n",
              "      <th id=\"T_62c08_level0_row4\" class=\"row_heading level0 row4\" >4</th>\n",
              "      <td id=\"T_62c08_row4_col0\" class=\"data row4 col0\" >2023-04-24</td>\n",
              "      <td id=\"T_62c08_row4_col1\" class=\"data row4 col1\" >33,805.04</td>\n",
              "      <td id=\"T_62c08_row4_col2\" class=\"data row4 col2\" >33,891.15</td>\n",
              "      <td id=\"T_62c08_row4_col3\" class=\"data row4 col3\" >33,726.09</td>\n",
              "      <td id=\"T_62c08_row4_col4\" class=\"data row4 col4\" >33,875.40</td>\n",
              "      <td id=\"T_62c08_row4_col5\" class=\"data row4 col5\" >33,875.40</td>\n",
              "      <td id=\"T_62c08_row4_col6\" class=\"data row4 col6\" >252,020,000</td>\n",
              "    </tr>\n",
              "  </tbody>\n",
              "</table>\n"
            ]
          },
          "metadata": {},
          "execution_count": 3
        }
      ]
    },
    {
      "cell_type": "markdown",
      "source": [
        "# **Data Preprocessing**"
      ],
      "metadata": {
        "id": "Dd8r1UsLT_TP"
      }
    },
    {
      "cell_type": "code",
      "source": [
        "# Convert 'Date' column to datetime type\n",
        "dataset['Date'] = pd.to_datetime(dataset['Date'])\n",
        "\n",
        "# Remove commas and convert columns to numeric type\n",
        "dataset['Open'] = dataset['Open'].replace(',', '', regex=True).astype(float)\n",
        "dataset['High'] = dataset['High'].replace(',', '', regex=True).astype(float)\n",
        "dataset['Low'] = dataset['Low'].replace(',', '', regex=True).astype(float)\n",
        "dataset['Close'] = dataset['Close'].replace(',', '', regex=True).astype(float)\n",
        "dataset['Adj Close'] = dataset['Adj Close'].replace(',', '', regex=True).astype(float)\n",
        "dataset['Volume'] = dataset['Volume'].replace(',', '', regex=True).astype(int)\n"
      ],
      "metadata": {
        "id": "vIRk8pAMG4lU"
      },
      "execution_count": 4,
      "outputs": []
    },
    {
      "cell_type": "code",
      "source": [
        "# Create a 'Buy_Sell' column based on the comparison of current 'Adj Close' and next day's 'Adj Close'\n",
        "# If next day's 'Adj Close' is higher, set 'Buy_Sell' to 1 (buy), otherwise set it to -1 (sell)\n",
        "dataset['Buy_Sell'] = np.where(dataset['Adj Close'].shift(-1) > dataset['Adj Close'],1,-1)\n"
      ],
      "metadata": {
        "id": "RsdwTCAiUFrZ"
      },
      "execution_count": 5,
      "outputs": []
    },
    {
      "cell_type": "code",
      "source": [
        "dataset.head()"
      ],
      "metadata": {
        "colab": {
          "base_uri": "https://localhost:8080/",
          "height": 206
        },
        "id": "ZWUiuxY5Ufjt",
        "outputId": "2037748e-961b-4f9c-cd10-776188c19709"
      },
      "execution_count": 6,
      "outputs": [
        {
          "output_type": "execute_result",
          "data": {
            "text/plain": [
              "        Date      Open      High       Low     Close  Adj Close     Volume  \\\n",
              "0 2023-04-28  33797.43  34104.56  33728.40  34098.16   34098.16  354310000   \n",
              "1 2023-04-27  33381.66  33859.75  33374.65  33826.16   33826.16  343240000   \n",
              "2 2023-04-26  33596.34  33645.83  33235.85  33301.87   33301.87  321170000   \n",
              "3 2023-04-25  33828.34  33875.49  33525.39  33530.83   33530.83  297880000   \n",
              "4 2023-04-24  33805.04  33891.15  33726.09  33875.40   33875.40  252020000   \n",
              "\n",
              "   Buy_Sell  \n",
              "0        -1  \n",
              "1        -1  \n",
              "2         1  \n",
              "3         1  \n",
              "4        -1  "
            ],
            "text/html": [
              "\n",
              "  <div id=\"df-c0ffc6af-21b1-48d8-9a71-09761c1da069\" class=\"colab-df-container\">\n",
              "    <div>\n",
              "<style scoped>\n",
              "    .dataframe tbody tr th:only-of-type {\n",
              "        vertical-align: middle;\n",
              "    }\n",
              "\n",
              "    .dataframe tbody tr th {\n",
              "        vertical-align: top;\n",
              "    }\n",
              "\n",
              "    .dataframe thead th {\n",
              "        text-align: right;\n",
              "    }\n",
              "</style>\n",
              "<table border=\"1\" class=\"dataframe\">\n",
              "  <thead>\n",
              "    <tr style=\"text-align: right;\">\n",
              "      <th></th>\n",
              "      <th>Date</th>\n",
              "      <th>Open</th>\n",
              "      <th>High</th>\n",
              "      <th>Low</th>\n",
              "      <th>Close</th>\n",
              "      <th>Adj Close</th>\n",
              "      <th>Volume</th>\n",
              "      <th>Buy_Sell</th>\n",
              "    </tr>\n",
              "  </thead>\n",
              "  <tbody>\n",
              "    <tr>\n",
              "      <th>0</th>\n",
              "      <td>2023-04-28</td>\n",
              "      <td>33797.43</td>\n",
              "      <td>34104.56</td>\n",
              "      <td>33728.40</td>\n",
              "      <td>34098.16</td>\n",
              "      <td>34098.16</td>\n",
              "      <td>354310000</td>\n",
              "      <td>-1</td>\n",
              "    </tr>\n",
              "    <tr>\n",
              "      <th>1</th>\n",
              "      <td>2023-04-27</td>\n",
              "      <td>33381.66</td>\n",
              "      <td>33859.75</td>\n",
              "      <td>33374.65</td>\n",
              "      <td>33826.16</td>\n",
              "      <td>33826.16</td>\n",
              "      <td>343240000</td>\n",
              "      <td>-1</td>\n",
              "    </tr>\n",
              "    <tr>\n",
              "      <th>2</th>\n",
              "      <td>2023-04-26</td>\n",
              "      <td>33596.34</td>\n",
              "      <td>33645.83</td>\n",
              "      <td>33235.85</td>\n",
              "      <td>33301.87</td>\n",
              "      <td>33301.87</td>\n",
              "      <td>321170000</td>\n",
              "      <td>1</td>\n",
              "    </tr>\n",
              "    <tr>\n",
              "      <th>3</th>\n",
              "      <td>2023-04-25</td>\n",
              "      <td>33828.34</td>\n",
              "      <td>33875.49</td>\n",
              "      <td>33525.39</td>\n",
              "      <td>33530.83</td>\n",
              "      <td>33530.83</td>\n",
              "      <td>297880000</td>\n",
              "      <td>1</td>\n",
              "    </tr>\n",
              "    <tr>\n",
              "      <th>4</th>\n",
              "      <td>2023-04-24</td>\n",
              "      <td>33805.04</td>\n",
              "      <td>33891.15</td>\n",
              "      <td>33726.09</td>\n",
              "      <td>33875.40</td>\n",
              "      <td>33875.40</td>\n",
              "      <td>252020000</td>\n",
              "      <td>-1</td>\n",
              "    </tr>\n",
              "  </tbody>\n",
              "</table>\n",
              "</div>\n",
              "    <div class=\"colab-df-buttons\">\n",
              "\n",
              "  <div class=\"colab-df-container\">\n",
              "    <button class=\"colab-df-convert\" onclick=\"convertToInteractive('df-c0ffc6af-21b1-48d8-9a71-09761c1da069')\"\n",
              "            title=\"Convert this dataframe to an interactive table.\"\n",
              "            style=\"display:none;\">\n",
              "\n",
              "  <svg xmlns=\"http://www.w3.org/2000/svg\" height=\"24px\" viewBox=\"0 -960 960 960\">\n",
              "    <path d=\"M120-120v-720h720v720H120Zm60-500h600v-160H180v160Zm220 220h160v-160H400v160Zm0 220h160v-160H400v160ZM180-400h160v-160H180v160Zm440 0h160v-160H620v160ZM180-180h160v-160H180v160Zm440 0h160v-160H620v160Z\"/>\n",
              "  </svg>\n",
              "    </button>\n",
              "\n",
              "  <style>\n",
              "    .colab-df-container {\n",
              "      display:flex;\n",
              "      gap: 12px;\n",
              "    }\n",
              "\n",
              "    .colab-df-convert {\n",
              "      background-color: #E8F0FE;\n",
              "      border: none;\n",
              "      border-radius: 50%;\n",
              "      cursor: pointer;\n",
              "      display: none;\n",
              "      fill: #1967D2;\n",
              "      height: 32px;\n",
              "      padding: 0 0 0 0;\n",
              "      width: 32px;\n",
              "    }\n",
              "\n",
              "    .colab-df-convert:hover {\n",
              "      background-color: #E2EBFA;\n",
              "      box-shadow: 0px 1px 2px rgba(60, 64, 67, 0.3), 0px 1px 3px 1px rgba(60, 64, 67, 0.15);\n",
              "      fill: #174EA6;\n",
              "    }\n",
              "\n",
              "    .colab-df-buttons div {\n",
              "      margin-bottom: 4px;\n",
              "    }\n",
              "\n",
              "    [theme=dark] .colab-df-convert {\n",
              "      background-color: #3B4455;\n",
              "      fill: #D2E3FC;\n",
              "    }\n",
              "\n",
              "    [theme=dark] .colab-df-convert:hover {\n",
              "      background-color: #434B5C;\n",
              "      box-shadow: 0px 1px 3px 1px rgba(0, 0, 0, 0.15);\n",
              "      filter: drop-shadow(0px 1px 2px rgba(0, 0, 0, 0.3));\n",
              "      fill: #FFFFFF;\n",
              "    }\n",
              "  </style>\n",
              "\n",
              "    <script>\n",
              "      const buttonEl =\n",
              "        document.querySelector('#df-c0ffc6af-21b1-48d8-9a71-09761c1da069 button.colab-df-convert');\n",
              "      buttonEl.style.display =\n",
              "        google.colab.kernel.accessAllowed ? 'block' : 'none';\n",
              "\n",
              "      async function convertToInteractive(key) {\n",
              "        const element = document.querySelector('#df-c0ffc6af-21b1-48d8-9a71-09761c1da069');\n",
              "        const dataTable =\n",
              "          await google.colab.kernel.invokeFunction('convertToInteractive',\n",
              "                                                    [key], {});\n",
              "        if (!dataTable) return;\n",
              "\n",
              "        const docLinkHtml = 'Like what you see? Visit the ' +\n",
              "          '<a target=\"_blank\" href=https://colab.research.google.com/notebooks/data_table.ipynb>data table notebook</a>'\n",
              "          + ' to learn more about interactive tables.';\n",
              "        element.innerHTML = '';\n",
              "        dataTable['output_type'] = 'display_data';\n",
              "        await google.colab.output.renderOutput(dataTable, element);\n",
              "        const docLink = document.createElement('div');\n",
              "        docLink.innerHTML = docLinkHtml;\n",
              "        element.appendChild(docLink);\n",
              "      }\n",
              "    </script>\n",
              "  </div>\n",
              "\n",
              "\n",
              "<div id=\"df-ae1da76a-47a6-40f6-a57a-41db802fa9c9\">\n",
              "  <button class=\"colab-df-quickchart\" onclick=\"quickchart('df-ae1da76a-47a6-40f6-a57a-41db802fa9c9')\"\n",
              "            title=\"Suggest charts\"\n",
              "            style=\"display:none;\">\n",
              "\n",
              "<svg xmlns=\"http://www.w3.org/2000/svg\" height=\"24px\"viewBox=\"0 0 24 24\"\n",
              "     width=\"24px\">\n",
              "    <g>\n",
              "        <path d=\"M19 3H5c-1.1 0-2 .9-2 2v14c0 1.1.9 2 2 2h14c1.1 0 2-.9 2-2V5c0-1.1-.9-2-2-2zM9 17H7v-7h2v7zm4 0h-2V7h2v10zm4 0h-2v-4h2v4z\"/>\n",
              "    </g>\n",
              "</svg>\n",
              "  </button>\n",
              "\n",
              "<style>\n",
              "  .colab-df-quickchart {\n",
              "      --bg-color: #E8F0FE;\n",
              "      --fill-color: #1967D2;\n",
              "      --hover-bg-color: #E2EBFA;\n",
              "      --hover-fill-color: #174EA6;\n",
              "      --disabled-fill-color: #AAA;\n",
              "      --disabled-bg-color: #DDD;\n",
              "  }\n",
              "\n",
              "  [theme=dark] .colab-df-quickchart {\n",
              "      --bg-color: #3B4455;\n",
              "      --fill-color: #D2E3FC;\n",
              "      --hover-bg-color: #434B5C;\n",
              "      --hover-fill-color: #FFFFFF;\n",
              "      --disabled-bg-color: #3B4455;\n",
              "      --disabled-fill-color: #666;\n",
              "  }\n",
              "\n",
              "  .colab-df-quickchart {\n",
              "    background-color: var(--bg-color);\n",
              "    border: none;\n",
              "    border-radius: 50%;\n",
              "    cursor: pointer;\n",
              "    display: none;\n",
              "    fill: var(--fill-color);\n",
              "    height: 32px;\n",
              "    padding: 0;\n",
              "    width: 32px;\n",
              "  }\n",
              "\n",
              "  .colab-df-quickchart:hover {\n",
              "    background-color: var(--hover-bg-color);\n",
              "    box-shadow: 0 1px 2px rgba(60, 64, 67, 0.3), 0 1px 3px 1px rgba(60, 64, 67, 0.15);\n",
              "    fill: var(--button-hover-fill-color);\n",
              "  }\n",
              "\n",
              "  .colab-df-quickchart-complete:disabled,\n",
              "  .colab-df-quickchart-complete:disabled:hover {\n",
              "    background-color: var(--disabled-bg-color);\n",
              "    fill: var(--disabled-fill-color);\n",
              "    box-shadow: none;\n",
              "  }\n",
              "\n",
              "  .colab-df-spinner {\n",
              "    border: 2px solid var(--fill-color);\n",
              "    border-color: transparent;\n",
              "    border-bottom-color: var(--fill-color);\n",
              "    animation:\n",
              "      spin 1s steps(1) infinite;\n",
              "  }\n",
              "\n",
              "  @keyframes spin {\n",
              "    0% {\n",
              "      border-color: transparent;\n",
              "      border-bottom-color: var(--fill-color);\n",
              "      border-left-color: var(--fill-color);\n",
              "    }\n",
              "    20% {\n",
              "      border-color: transparent;\n",
              "      border-left-color: var(--fill-color);\n",
              "      border-top-color: var(--fill-color);\n",
              "    }\n",
              "    30% {\n",
              "      border-color: transparent;\n",
              "      border-left-color: var(--fill-color);\n",
              "      border-top-color: var(--fill-color);\n",
              "      border-right-color: var(--fill-color);\n",
              "    }\n",
              "    40% {\n",
              "      border-color: transparent;\n",
              "      border-right-color: var(--fill-color);\n",
              "      border-top-color: var(--fill-color);\n",
              "    }\n",
              "    60% {\n",
              "      border-color: transparent;\n",
              "      border-right-color: var(--fill-color);\n",
              "    }\n",
              "    80% {\n",
              "      border-color: transparent;\n",
              "      border-right-color: var(--fill-color);\n",
              "      border-bottom-color: var(--fill-color);\n",
              "    }\n",
              "    90% {\n",
              "      border-color: transparent;\n",
              "      border-bottom-color: var(--fill-color);\n",
              "    }\n",
              "  }\n",
              "</style>\n",
              "\n",
              "  <script>\n",
              "    async function quickchart(key) {\n",
              "      const quickchartButtonEl =\n",
              "        document.querySelector('#' + key + ' button');\n",
              "      quickchartButtonEl.disabled = true;  // To prevent multiple clicks.\n",
              "      quickchartButtonEl.classList.add('colab-df-spinner');\n",
              "      try {\n",
              "        const charts = await google.colab.kernel.invokeFunction(\n",
              "            'suggestCharts', [key], {});\n",
              "      } catch (error) {\n",
              "        console.error('Error during call to suggestCharts:', error);\n",
              "      }\n",
              "      quickchartButtonEl.classList.remove('colab-df-spinner');\n",
              "      quickchartButtonEl.classList.add('colab-df-quickchart-complete');\n",
              "    }\n",
              "    (() => {\n",
              "      let quickchartButtonEl =\n",
              "        document.querySelector('#df-ae1da76a-47a6-40f6-a57a-41db802fa9c9 button');\n",
              "      quickchartButtonEl.style.display =\n",
              "        google.colab.kernel.accessAllowed ? 'block' : 'none';\n",
              "    })();\n",
              "  </script>\n",
              "</div>\n",
              "\n",
              "    </div>\n",
              "  </div>\n"
            ],
            "application/vnd.google.colaboratory.intrinsic+json": {
              "type": "dataframe",
              "variable_name": "dataset",
              "summary": "{\n  \"name\": \"dataset\",\n  \"rows\": 1258,\n  \"fields\": [\n    {\n      \"column\": \"Date\",\n      \"properties\": {\n        \"dtype\": \"date\",\n        \"min\": \"2018-05-01 00:00:00\",\n        \"max\": \"2023-04-28 00:00:00\",\n        \"num_unique_values\": 1258,\n        \"samples\": [\n          \"2021-02-04 00:00:00\",\n          \"2022-12-01 00:00:00\",\n          \"2023-02-14 00:00:00\"\n        ],\n        \"semantic_type\": \"\",\n        \"description\": \"\"\n      }\n    },\n    {\n      \"column\": \"Open\",\n      \"properties\": {\n        \"dtype\": \"number\",\n        \"std\": 4006.0782986825816,\n        \"min\": 19028.36,\n        \"max\": 36722.6,\n        \"num_unique_values\": 1258,\n        \"samples\": [\n          30737.78,\n          34533.59,\n          34194.09\n        ],\n        \"semantic_type\": \"\",\n        \"description\": \"\"\n      }\n    },\n    {\n      \"column\": \"High\",\n      \"properties\": {\n        \"dtype\": \"number\",\n        \"std\": 4009.007573468592,\n        \"min\": 19121.01,\n        \"max\": 36952.65,\n        \"num_unique_values\": 1258,\n        \"samples\": [\n          31065.96,\n          34595.51,\n          34331.47\n        ],\n        \"semantic_type\": \"\",\n        \"description\": \"\"\n      }\n    },\n    {\n      \"column\": \"Low\",\n      \"properties\": {\n        \"dtype\": \"number\",\n        \"std\": 4004.9490659512085,\n        \"min\": 18213.65,\n        \"max\": 36636.0,\n        \"num_unique_values\": 1255,\n        \"samples\": [\n          25092.43,\n          34129.35,\n          33827.45\n        ],\n        \"semantic_type\": \"\",\n        \"description\": \"\"\n      }\n    },\n    {\n      \"column\": \"Close\",\n      \"properties\": {\n        \"dtype\": \"number\",\n        \"std\": 4007.468821516462,\n        \"min\": 18591.93,\n        \"max\": 36799.65,\n        \"num_unique_values\": 1255,\n        \"samples\": [\n          25241.94,\n          34395.01,\n          34089.27\n        ],\n        \"semantic_type\": \"\",\n        \"description\": \"\"\n      }\n    },\n    {\n      \"column\": \"Adj Close\",\n      \"properties\": {\n        \"dtype\": \"number\",\n        \"std\": 4007.468821516462,\n        \"min\": 18591.93,\n        \"max\": 36799.65,\n        \"num_unique_values\": 1255,\n        \"samples\": [\n          25241.94,\n          34395.01,\n          34089.27\n        ],\n        \"semantic_type\": \"\",\n        \"description\": \"\"\n      }\n    },\n    {\n      \"column\": \"Volume\",\n      \"properties\": {\n        \"dtype\": \"number\",\n        \"std\": 106914195,\n        \"min\": 86150000,\n        \"max\": 915990000,\n        \"num_unique_values\": 1219,\n        \"samples\": [\n          387210000,\n          264110000,\n          243660000\n        ],\n        \"semantic_type\": \"\",\n        \"description\": \"\"\n      }\n    },\n    {\n      \"column\": \"Buy_Sell\",\n      \"properties\": {\n        \"dtype\": \"number\",\n        \"std\": 0,\n        \"min\": -1,\n        \"max\": 1,\n        \"num_unique_values\": 2,\n        \"samples\": [\n          1,\n          -1\n        ],\n        \"semantic_type\": \"\",\n        \"description\": \"\"\n      }\n    }\n  ]\n}"
            }
          },
          "metadata": {},
          "execution_count": 6
        }
      ]
    },
    {
      "cell_type": "markdown",
      "source": [
        "# **Dataset Cleaning and Null Value Testing**"
      ],
      "metadata": {
        "id": "_nhErKSmVoFu"
      }
    },
    {
      "cell_type": "code",
      "source": [
        "# See how many null values in each column\n",
        "dataset.isnull().sum()"
      ],
      "metadata": {
        "colab": {
          "base_uri": "https://localhost:8080/"
        },
        "id": "GJs7-n_YVrh_",
        "outputId": "fb4824dc-6804-42ed-c0d3-6d6c58409e01"
      },
      "execution_count": 7,
      "outputs": [
        {
          "output_type": "execute_result",
          "data": {
            "text/plain": [
              "Date         0\n",
              "Open         0\n",
              "High         0\n",
              "Low          0\n",
              "Close        0\n",
              "Adj Close    0\n",
              "Volume       0\n",
              "Buy_Sell     0\n",
              "dtype: int64"
            ]
          },
          "metadata": {},
          "execution_count": 7
        }
      ]
    },
    {
      "cell_type": "code",
      "source": [
        "plt.figure(figsize=(12,4))\n",
        "sns.heatmap(dataset.isnull(), yticklabels=False,cbar=False,cmap='viridis')\n",
        "plt.savefig(\"Figure 1: Heatmap for Null Values\")"
      ],
      "metadata": {
        "colab": {
          "base_uri": "https://localhost:8080/",
          "height": 368
        },
        "id": "TgHSYZvmVzNd",
        "outputId": "31da5987-7c78-45d8-a599-97ee4b176cd4"
      },
      "execution_count": 8,
      "outputs": [
        {
          "output_type": "display_data",
          "data": {
            "text/plain": [
              "<Figure size 1200x400 with 1 Axes>"
            ],
            "image/png": "[encoded data removed]"
          },
          "metadata": {}
        }
      ]
    },
    {
      "cell_type": "markdown",
      "source": [
        "# **Analyze the Data**"
      ],
      "metadata": {
        "id": "Tm8o1RXnrG8s"
      }
    },
    {
      "cell_type": "code",
      "source": [
        "# number of rows and number of columns of the dataset\n",
        "dataset.shape"
      ],
      "metadata": {
        "id": "ugL5fG4prB68",
        "colab": {
          "base_uri": "https://localhost:8080/"
        },
        "outputId": "e10790c2-c672-40b0-f806-8609325f9fc7"
      },
      "execution_count": 9,
      "outputs": [
        {
          "output_type": "execute_result",
          "data": {
            "text/plain": [
              "(1258, 8)"
            ]
          },
          "metadata": {},
          "execution_count": 9
        }
      ]
    },
    {
      "cell_type": "code",
      "source": [
        "#Total number of records in the dataset\n",
        "print(\"Total number of records = \", len(dataset))"
      ],
      "metadata": {
        "colab": {
          "base_uri": "https://localhost:8080/"
        },
        "id": "9XpEI-mcE_-_",
        "outputId": "f398adfa-1a47-44ec-c724-fa340037007f"
      },
      "execution_count": 10,
      "outputs": [
        {
          "output_type": "stream",
          "name": "stdout",
          "text": [
            "Total number of records =  1258\n"
          ]
        }
      ]
    },
    {
      "cell_type": "code",
      "source": [
        "#Column names\n",
        "dataset.columns"
      ],
      "metadata": {
        "colab": {
          "base_uri": "https://localhost:8080/"
        },
        "id": "wZP6XS5CFYL3",
        "outputId": "6fcdeadd-f59e-4453-82e0-5cadef7d82dc"
      },
      "execution_count": 11,
      "outputs": [
        {
          "output_type": "execute_result",
          "data": {
            "text/plain": [
              "Index(['Date', 'Open', 'High', 'Low', 'Close', 'Adj Close', 'Volume',\n",
              "       'Buy_Sell'],\n",
              "      dtype='object')"
            ]
          },
          "metadata": {},
          "execution_count": 11
        }
      ]
    },
    {
      "cell_type": "code",
      "source": [
        "# Data types of the Columns\n",
        "dataset.dtypes"
      ],
      "metadata": {
        "colab": {
          "base_uri": "https://localhost:8080/"
        },
        "id": "LfZy956GFiWe",
        "outputId": "b22a6347-d717-400f-dad5-630d4efda473"
      },
      "execution_count": 12,
      "outputs": [
        {
          "output_type": "execute_result",
          "data": {
            "text/plain": [
              "Date         datetime64[ns]\n",
              "Open                float64\n",
              "High                float64\n",
              "Low                 float64\n",
              "Close               float64\n",
              "Adj Close           float64\n",
              "Volume                int64\n",
              "Buy_Sell              int64\n",
              "dtype: object"
            ]
          },
          "metadata": {},
          "execution_count": 12
        }
      ]
    },
    {
      "cell_type": "code",
      "source": [
        "# Summary of the dataset\n",
        "dataset.info()"
      ],
      "metadata": {
        "colab": {
          "base_uri": "https://localhost:8080/"
        },
        "id": "kG5ZY8xYFoYg",
        "outputId": "201c6f72-7b19-46dc-9bbd-55a557b91cac"
      },
      "execution_count": 13,
      "outputs": [
        {
          "output_type": "stream",
          "name": "stdout",
          "text": [
            "<class 'pandas.core.frame.DataFrame'>\n",
            "RangeIndex: 1258 entries, 0 to 1257\n",
            "Data columns (total 8 columns):\n",
            " #   Column     Non-Null Count  Dtype         \n",
            "---  ------     --------------  -----         \n",
            " 0   Date       1258 non-null   datetime64[ns]\n",
            " 1   Open       1258 non-null   float64       \n",
            " 2   High       1258 non-null   float64       \n",
            " 3   Low        1258 non-null   float64       \n",
            " 4   Close      1258 non-null   float64       \n",
            " 5   Adj Close  1258 non-null   float64       \n",
            " 6   Volume     1258 non-null   int64         \n",
            " 7   Buy_Sell   1258 non-null   int64         \n",
            "dtypes: datetime64[ns](1), float64(5), int64(2)\n",
            "memory usage: 78.8 KB\n"
          ]
        }
      ]
    },
    {
      "cell_type": "code",
      "source": [
        "# Histogram per each numerical column in dataset\n",
        "dataset.hist(figsize=(15, 15))"
      ],
      "metadata": {
        "colab": {
          "base_uri": "https://localhost:8080/",
          "height": 1000
        },
        "id": "xWyPNA4fFzWP",
        "outputId": "2dc52efc-eb85-41ca-b45a-8f7bac0da924"
      },
      "execution_count": 14,
      "outputs": [
        {
          "output_type": "execute_result",
          "data": {
            "text/plain": [
              "array([[<Axes: title={'center': 'Date'}>,\n",
              "        <Axes: title={'center': 'Open'}>,\n",
              "        <Axes: title={'center': 'High'}>],\n",
              "       [<Axes: title={'center': 'Low'}>,\n",
              "        <Axes: title={'center': 'Close'}>,\n",
              "        <Axes: title={'center': 'Adj Close'}>],\n",
              "       [<Axes: title={'center': 'Volume'}>,\n",
              "        <Axes: title={'center': 'Buy_Sell'}>, <Axes: >]], dtype=object)"
            ]
          },
          "metadata": {},
          "execution_count": 14
        },
        {
          "output_type": "display_data",
          "data": {
            "text/plain": [
              "<Figure size 1500x1500 with 9 Axes>"
            ],
            "image/png": "[encoded data removed]"
          },
          "metadata": {}
        }
      ]
    },
    {
      "cell_type": "code",
      "source": [
        "# Calculate and display descriptive statistics for each numerical column\n",
        "dataset.describe()"
      ],
      "metadata": {
        "colab": {
          "base_uri": "https://localhost:8080/",
          "height": 300
        },
        "id": "ZwTZsLfGHc_o",
        "outputId": "4fc9c7f6-4a93-4659-d147-57c0e8f9d8c3"
      },
      "execution_count": 15,
      "outputs": [
        {
          "output_type": "execute_result",
          "data": {
            "text/plain": [
              "                                Date          Open          High  \\\n",
              "count                           1258   1258.000000   1258.000000   \n",
              "mean   2020-10-28 09:39:12.305246464  29595.823045  29776.945739   \n",
              "min              2018-05-01 00:00:00  19028.360000  19121.010000   \n",
              "25%              2019-07-31 06:00:00  26041.267500  26163.155000   \n",
              "50%              2020-10-27 12:00:00  29201.410000  29335.685000   \n",
              "75%              2022-01-26 18:00:00  33604.027500  33825.445000   \n",
              "max              2023-04-28 00:00:00  36722.600000  36952.650000   \n",
              "std                              NaN   4006.078299   4009.007573   \n",
              "\n",
              "                Low         Close     Adj Close        Volume     Buy_Sell  \n",
              "count   1258.000000   1258.000000   1258.000000  1.258000e+03  1258.000000  \n",
              "mean   29402.432226  29599.361677  29599.361677  3.450636e+08    -0.087440  \n",
              "min    18213.650000  18591.930000  18591.930000  8.615000e+07    -1.000000  \n",
              "25%    25877.872500  26027.120000  26027.120000  2.773125e+08    -1.000000  \n",
              "50%    28996.500000  29199.460000  29199.460000  3.247250e+08    -1.000000  \n",
              "75%    33346.827500  33600.342500  33600.342500  3.875100e+08     1.000000  \n",
              "max    36636.000000  36799.650000  36799.650000  9.159900e+08     1.000000  \n",
              "std     4004.949066   4007.468822   4007.468822  1.069142e+08     0.996566  "
            ],
            "text/html": [
              "\n",
              "  <div id=\"df-cdbf15df-3f2e-4f45-8e14-c28be7087314\" class=\"colab-df-container\">\n",
              "    <div>\n",
              "<style scoped>\n",
              "    .dataframe tbody tr th:only-of-type {\n",
              "        vertical-align: middle;\n",
              "    }\n",
              "\n",
              "    .dataframe tbody tr th {\n",
              "        vertical-align: top;\n",
              "    }\n",
              "\n",
              "    .dataframe thead th {\n",
              "        text-align: right;\n",
              "    }\n",
              "</style>\n",
              "<table border=\"1\" class=\"dataframe\">\n",
              "  <thead>\n",
              "    <tr style=\"text-align: right;\">\n",
              "      <th></th>\n",
              "      <th>Date</th>\n",
              "      <th>Open</th>\n",
              "      <th>High</th>\n",
              "      <th>Low</th>\n",
              "      <th>Close</th>\n",
              "      <th>Adj Close</th>\n",
              "      <th>Volume</th>\n",
              "      <th>Buy_Sell</th>\n",
              "    </tr>\n",
              "  </thead>\n",
              "  <tbody>\n",
              "    <tr>\n",
              "      <th>count</th>\n",
              "      <td>1258</td>\n",
              "      <td>1258.000000</td>\n",
              "      <td>1258.000000</td>\n",
              "      <td>1258.000000</td>\n",
              "      <td>1258.000000</td>\n",
              "      <td>1258.000000</td>\n",
              "      <td>1.258000e+03</td>\n",
              "      <td>1258.000000</td>\n",
              "    </tr>\n",
              "    <tr>\n",
              "      <th>mean</th>\n",
              "      <td>2020-10-28 09:39:12.305246464</td>\n",
              "      <td>29595.823045</td>\n",
              "      <td>29776.945739</td>\n",
              "      <td>29402.432226</td>\n",
              "      <td>29599.361677</td>\n",
              "      <td>29599.361677</td>\n",
              "      <td>3.450636e+08</td>\n",
              "      <td>-0.087440</td>\n",
              "    </tr>\n",
              "    <tr>\n",
              "      <th>min</th>\n",
              "      <td>2018-05-01 00:00:00</td>\n",
              "      <td>19028.360000</td>\n",
              "      <td>19121.010000</td>\n",
              "      <td>18213.650000</td>\n",
              "      <td>18591.930000</td>\n",
              "      <td>18591.930000</td>\n",
              "      <td>8.615000e+07</td>\n",
              "      <td>-1.000000</td>\n",
              "    </tr>\n",
              "    <tr>\n",
              "      <th>25%</th>\n",
              "      <td>2019-07-31 06:00:00</td>\n",
              "      <td>26041.267500</td>\n",
              "      <td>26163.155000</td>\n",
              "      <td>25877.872500</td>\n",
              "      <td>26027.120000</td>\n",
              "      <td>26027.120000</td>\n",
              "      <td>2.773125e+08</td>\n",
              "      <td>-1.000000</td>\n",
              "    </tr>\n",
              "    <tr>\n",
              "      <th>50%</th>\n",
              "      <td>2020-10-27 12:00:00</td>\n",
              "      <td>29201.410000</td>\n",
              "      <td>29335.685000</td>\n",
              "      <td>28996.500000</td>\n",
              "      <td>29199.460000</td>\n",
              "      <td>29199.460000</td>\n",
              "      <td>3.247250e+08</td>\n",
              "      <td>-1.000000</td>\n",
              "    </tr>\n",
              "    <tr>\n",
              "      <th>75%</th>\n",
              "      <td>2022-01-26 18:00:00</td>\n",
              "      <td>33604.027500</td>\n",
              "      <td>33825.445000</td>\n",
              "      <td>33346.827500</td>\n",
              "      <td>33600.342500</td>\n",
              "      <td>33600.342500</td>\n",
              "      <td>3.875100e+08</td>\n",
              "      <td>1.000000</td>\n",
              "    </tr>\n",
              "    <tr>\n",
              "      <th>max</th>\n",
              "      <td>2023-04-28 00:00:00</td>\n",
              "      <td>36722.600000</td>\n",
              "      <td>36952.650000</td>\n",
              "      <td>36636.000000</td>\n",
              "      <td>36799.650000</td>\n",
              "      <td>36799.650000</td>\n",
              "      <td>9.159900e+08</td>\n",
              "      <td>1.000000</td>\n",
              "    </tr>\n",
              "    <tr>\n",
              "      <th>std</th>\n",
              "      <td>NaN</td>\n",
              "      <td>4006.078299</td>\n",
              "      <td>4009.007573</td>\n",
              "      <td>4004.949066</td>\n",
              "      <td>4007.468822</td>\n",
              "      <td>4007.468822</td>\n",
              "      <td>1.069142e+08</td>\n",
              "      <td>0.996566</td>\n",
              "    </tr>\n",
              "  </tbody>\n",
              "</table>\n",
              "</div>\n",
              "    <div class=\"colab-df-buttons\">\n",
              "\n",
              "  <div class=\"colab-df-container\">\n",
              "    <button class=\"colab-df-convert\" onclick=\"convertToInteractive('df-cdbf15df-3f2e-4f45-8e14-c28be7087314')\"\n",
              "            title=\"Convert this dataframe to an interactive table.\"\n",
              "            style=\"display:none;\">\n",
              "\n",
              "  <svg xmlns=\"http://www.w3.org/2000/svg\" height=\"24px\" viewBox=\"0 -960 960 960\">\n",
              "    <path d=\"M120-120v-720h720v720H120Zm60-500h600v-160H180v160Zm220 220h160v-160H400v160Zm0 220h160v-160H400v160ZM180-400h160v-160H180v160Zm440 0h160v-160H620v160ZM180-180h160v-160H180v160Zm440 0h160v-160H620v160Z\"/>\n",
              "  </svg>\n",
              "    </button>\n",
              "\n",
              "  <style>\n",
              "    .colab-df-container {\n",
              "      display:flex;\n",
              "      gap: 12px;\n",
              "    }\n",
              "\n",
              "    .colab-df-convert {\n",
              "      background-color: #E8F0FE;\n",
              "      border: none;\n",
              "      border-radius: 50%;\n",
              "      cursor: pointer;\n",
              "      display: none;\n",
              "      fill: #1967D2;\n",
              "      height: 32px;\n",
              "      padding: 0 0 0 0;\n",
              "      width: 32px;\n",
              "    }\n",
              "\n",
              "    .colab-df-convert:hover {\n",
              "      background-color: #E2EBFA;\n",
              "      box-shadow: 0px 1px 2px rgba(60, 64, 67, 0.3), 0px 1px 3px 1px rgba(60, 64, 67, 0.15);\n",
              "      fill: #174EA6;\n",
              "    }\n",
              "\n",
              "    .colab-df-buttons div {\n",
              "      margin-bottom: 4px;\n",
              "    }\n",
              "\n",
              "    [theme=dark] .colab-df-convert {\n",
              "      background-color: #3B4455;\n",
              "      fill: #D2E3FC;\n",
              "    }\n",
              "\n",
              "    [theme=dark] .colab-df-convert:hover {\n",
              "      background-color: #434B5C;\n",
              "      box-shadow: 0px 1px 3px 1px rgba(0, 0, 0, 0.15);\n",
              "      filter: drop-shadow(0px 1px 2px rgba(0, 0, 0, 0.3));\n",
              "      fill: #FFFFFF;\n",
              "    }\n",
              "  </style>\n",
              "\n",
              "    <script>\n",
              "      const buttonEl =\n",
              "        document.querySelector('#df-cdbf15df-3f2e-4f45-8e14-c28be7087314 button.colab-df-convert');\n",
              "      buttonEl.style.display =\n",
              "        google.colab.kernel.accessAllowed ? 'block' : 'none';\n",
              "\n",
              "      async function convertToInteractive(key) {\n",
              "        const element = document.querySelector('#df-cdbf15df-3f2e-4f45-8e14-c28be7087314');\n",
              "        const dataTable =\n",
              "          await google.colab.kernel.invokeFunction('convertToInteractive',\n",
              "                                                    [key], {});\n",
              "        if (!dataTable) return;\n",
              "\n",
              "        const docLinkHtml = 'Like what you see? Visit the ' +\n",
              "          '<a target=\"_blank\" href=https://colab.research.google.com/notebooks/data_table.ipynb>data table notebook</a>'\n",
              "          + ' to learn more about interactive tables.';\n",
              "        element.innerHTML = '';\n",
              "        dataTable['output_type'] = 'display_data';\n",
              "        await google.colab.output.renderOutput(dataTable, element);\n",
              "        const docLink = document.createElement('div');\n",
              "        docLink.innerHTML = docLinkHtml;\n",
              "        element.appendChild(docLink);\n",
              "      }\n",
              "    </script>\n",
              "  </div>\n",
              "\n",
              "\n",
              "<div id=\"df-001cf35f-b1ad-4d73-b685-f27ae6402d04\">\n",
              "  <button class=\"colab-df-quickchart\" onclick=\"quickchart('df-001cf35f-b1ad-4d73-b685-f27ae6402d04')\"\n",
              "            title=\"Suggest charts\"\n",
              "            style=\"display:none;\">\n",
              "\n",
              "<svg xmlns=\"http://www.w3.org/2000/svg\" height=\"24px\"viewBox=\"0 0 24 24\"\n",
              "     width=\"24px\">\n",
              "    <g>\n",
              "        <path d=\"M19 3H5c-1.1 0-2 .9-2 2v14c0 1.1.9 2 2 2h14c1.1 0 2-.9 2-2V5c0-1.1-.9-2-2-2zM9 17H7v-7h2v7zm4 0h-2V7h2v10zm4 0h-2v-4h2v4z\"/>\n",
              "    </g>\n",
              "</svg>\n",
              "  </button>\n",
              "\n",
              "<style>\n",
              "  .colab-df-quickchart {\n",
              "      --bg-color: #E8F0FE;\n",
              "      --fill-color: #1967D2;\n",
              "      --hover-bg-color: #E2EBFA;\n",
              "      --hover-fill-color: #174EA6;\n",
              "      --disabled-fill-color: #AAA;\n",
              "      --disabled-bg-color: #DDD;\n",
              "  }\n",
              "\n",
              "  [theme=dark] .colab-df-quickchart {\n",
              "      --bg-color: #3B4455;\n",
              "      --fill-color: #D2E3FC;\n",
              "      --hover-bg-color: #434B5C;\n",
              "      --hover-fill-color: #FFFFFF;\n",
              "      --disabled-bg-color: #3B4455;\n",
              "      --disabled-fill-color: #666;\n",
              "  }\n",
              "\n",
              "  .colab-df-quickchart {\n",
              "    background-color: var(--bg-color);\n",
              "    border: none;\n",
              "    border-radius: 50%;\n",
              "    cursor: pointer;\n",
              "    display: none;\n",
              "    fill: var(--fill-color);\n",
              "    height: 32px;\n",
              "    padding: 0;\n",
              "    width: 32px;\n",
              "  }\n",
              "\n",
              "  .colab-df-quickchart:hover {\n",
              "    background-color: var(--hover-bg-color);\n",
              "    box-shadow: 0 1px 2px rgba(60, 64, 67, 0.3), 0 1px 3px 1px rgba(60, 64, 67, 0.15);\n",
              "    fill: var(--button-hover-fill-color);\n",
              "  }\n",
              "\n",
              "  .colab-df-quickchart-complete:disabled,\n",
              "  .colab-df-quickchart-complete:disabled:hover {\n",
              "    background-color: var(--disabled-bg-color);\n",
              "    fill: var(--disabled-fill-color);\n",
              "    box-shadow: none;\n",
              "  }\n",
              "\n",
              "  .colab-df-spinner {\n",
              "    border: 2px solid var(--fill-color);\n",
              "    border-color: transparent;\n",
              "    border-bottom-color: var(--fill-color);\n",
              "    animation:\n",
              "      spin 1s steps(1) infinite;\n",
              "  }\n",
              "\n",
              "  @keyframes spin {\n",
              "    0% {\n",
              "      border-color: transparent;\n",
              "      border-bottom-color: var(--fill-color);\n",
              "      border-left-color: var(--fill-color);\n",
              "    }\n",
              "    20% {\n",
              "      border-color: transparent;\n",
              "      border-left-color: var(--fill-color);\n",
              "      border-top-color: var(--fill-color);\n",
              "    }\n",
              "    30% {\n",
              "      border-color: transparent;\n",
              "      border-left-color: var(--fill-color);\n",
              "      border-top-color: var(--fill-color);\n",
              "      border-right-color: var(--fill-color);\n",
              "    }\n",
              "    40% {\n",
              "      border-color: transparent;\n",
              "      border-right-color: var(--fill-color);\n",
              "      border-top-color: var(--fill-color);\n",
              "    }\n",
              "    60% {\n",
              "      border-color: transparent;\n",
              "      border-right-color: var(--fill-color);\n",
              "    }\n",
              "    80% {\n",
              "      border-color: transparent;\n",
              "      border-right-color: var(--fill-color);\n",
              "      border-bottom-color: var(--fill-color);\n",
              "    }\n",
              "    90% {\n",
              "      border-color: transparent;\n",
              "      border-bottom-color: var(--fill-color);\n",
              "    }\n",
              "  }\n",
              "</style>\n",
              "\n",
              "  <script>\n",
              "    async function quickchart(key) {\n",
              "      const quickchartButtonEl =\n",
              "        document.querySelector('#' + key + ' button');\n",
              "      quickchartButtonEl.disabled = true;  // To prevent multiple clicks.\n",
              "      quickchartButtonEl.classList.add('colab-df-spinner');\n",
              "      try {\n",
              "        const charts = await google.colab.kernel.invokeFunction(\n",
              "            'suggestCharts', [key], {});\n",
              "      } catch (error) {\n",
              "        console.error('Error during call to suggestCharts:', error);\n",
              "      }\n",
              "      quickchartButtonEl.classList.remove('colab-df-spinner');\n",
              "      quickchartButtonEl.classList.add('colab-df-quickchart-complete');\n",
              "    }\n",
              "    (() => {\n",
              "      let quickchartButtonEl =\n",
              "        document.querySelector('#df-001cf35f-b1ad-4d73-b685-f27ae6402d04 button');\n",
              "      quickchartButtonEl.style.display =\n",
              "        google.colab.kernel.accessAllowed ? 'block' : 'none';\n",
              "    })();\n",
              "  </script>\n",
              "</div>\n",
              "\n",
              "    </div>\n",
              "  </div>\n"
            ],
            "application/vnd.google.colaboratory.intrinsic+json": {
              "type": "dataframe",
              "summary": "{\n  \"name\": \"dataset\",\n  \"rows\": 8,\n  \"fields\": [\n    {\n      \"column\": \"Date\",\n      \"properties\": {\n        \"dtype\": \"date\",\n        \"min\": \"1970-01-01 00:00:00.000001258\",\n        \"max\": \"2023-04-28 00:00:00\",\n        \"num_unique_values\": 7,\n        \"samples\": [\n          \"1258\",\n          \"2020-10-28 09:39:12.305246464\",\n          \"2022-01-26 18:00:00\"\n        ],\n        \"semantic_type\": \"\",\n        \"description\": \"\"\n      }\n    },\n    {\n      \"column\": \"Open\",\n      \"properties\": {\n        \"dtype\": \"number\",\n        \"std\": 13302.229472399082,\n        \"min\": 1258.0,\n        \"max\": 36722.6,\n        \"num_unique_values\": 8,\n        \"samples\": [\n          29595.823044515102,\n          33604.0275,\n          1258.0\n        ],\n        \"semantic_type\": \"\",\n        \"description\": \"\"\n      }\n    },\n    {\n      \"column\": \"High\",\n      \"properties\": {\n        \"dtype\": \"number\",\n        \"std\": 13388.569532090358,\n        \"min\": 1258.0,\n        \"max\": 36952.65,\n        \"num_unique_values\": 8,\n        \"samples\": [\n          29776.94573926868,\n          33825.445,\n          1258.0\n        ],\n        \"semantic_type\": \"\",\n        \"description\": \"\"\n      }\n    },\n    {\n      \"column\": \"Low\",\n      \"properties\": {\n        \"dtype\": \"number\",\n        \"std\": 13254.4329867522,\n        \"min\": 1258.0,\n        \"max\": 36636.0,\n        \"num_unique_values\": 8,\n        \"samples\": [\n          29402.43222575517,\n          33346.8275,\n          1258.0\n        ],\n        \"semantic_type\": \"\",\n        \"description\": \"\"\n      }\n    },\n    {\n      \"column\": \"Close\",\n      \"properties\": {\n        \"dtype\": \"number\",\n        \"std\": 13329.806125819941,\n        \"min\": 1258.0,\n        \"max\": 36799.65,\n        \"num_unique_values\": 8,\n        \"samples\": [\n          29599.361677265497,\n          33600.3425,\n          1258.0\n        ],\n        \"semantic_type\": \"\",\n        \"description\": \"\"\n      }\n    },\n    {\n      \"column\": \"Adj Close\",\n      \"properties\": {\n        \"dtype\": \"number\",\n        \"std\": 13329.806125819941,\n        \"min\": 1258.0,\n        \"max\": 36799.65,\n        \"num_unique_values\": 8,\n        \"samples\": [\n          29599.361677265497,\n          33600.3425,\n          1258.0\n        ],\n        \"semantic_type\": \"\",\n        \"description\": \"\"\n      }\n    },\n    {\n      \"column\": \"Volume\",\n      \"properties\": {\n        \"dtype\": \"number\",\n        \"std\": 283607703.9677678,\n        \"min\": 1258.0,\n        \"max\": 915990000.0,\n        \"num_unique_values\": 8,\n        \"samples\": [\n          345063624.80127186,\n          387510000.0,\n          1258.0\n        ],\n        \"semantic_type\": \"\",\n        \"description\": \"\"\n      }\n    },\n    {\n      \"column\": \"Buy_Sell\",\n      \"properties\": {\n        \"dtype\": \"number\",\n        \"std\": 444.77571872540625,\n        \"min\": -1.0,\n        \"max\": 1258.0,\n        \"num_unique_values\": 5,\n        \"samples\": [\n          -0.08744038155802862,\n          0.9965659245767633,\n          -1.0\n        ],\n        \"semantic_type\": \"\",\n        \"description\": \"\"\n      }\n    }\n  ]\n}"
            }
          },
          "metadata": {},
          "execution_count": 15
        }
      ]
    },
    {
      "cell_type": "markdown",
      "source": [
        "# **Define X and Y**"
      ],
      "metadata": {
        "id": "wGzu37jHHwud"
      }
    },
    {
      "cell_type": "code",
      "source": [
        "# Convert the 'Buy_Sell' column to integer data type\n",
        "dataset['Buy_Sell'] = dataset['Buy_Sell'].astype('int')"
      ],
      "metadata": {
        "id": "DBfe-g5PHvz9"
      },
      "execution_count": 16,
      "outputs": []
    },
    {
      "cell_type": "code",
      "source": [
        "# Define X\n",
        "# Select the columns 'Open', 'High', 'Low', 'Adj Close', 'Volume' from the dataset\n",
        "# and convert them into a NumPy array X\n",
        "X = np.asarray(dataset[['Open', 'High', 'Low', 'Adj Close', 'Volume']])\n",
        "\n",
        "# Display the first 5 rows of the array X\n",
        "X[0:5]\n"
      ],
      "metadata": {
        "colab": {
          "base_uri": "https://localhost:8080/"
        },
        "id": "jbYnKX-JH6zn",
        "outputId": "15584212-3a4c-48f7-f0b1-e6f5b80649cb"
      },
      "execution_count": 17,
      "outputs": [
        {
          "output_type": "execute_result",
          "data": {
            "text/plain": [
              "array([[3.379743e+04, 3.410456e+04, 3.372840e+04, 3.409816e+04,\n",
              "        3.543100e+08],\n",
              "       [3.338166e+04, 3.385975e+04, 3.337465e+04, 3.382616e+04,\n",
              "        3.432400e+08],\n",
              "       [3.359634e+04, 3.364583e+04, 3.323585e+04, 3.330187e+04,\n",
              "        3.211700e+08],\n",
              "       [3.382834e+04, 3.387549e+04, 3.352539e+04, 3.353083e+04,\n",
              "        2.978800e+08],\n",
              "       [3.380504e+04, 3.389115e+04, 3.372609e+04, 3.387540e+04,\n",
              "        2.520200e+08]])"
            ]
          },
          "metadata": {},
          "execution_count": 17
        }
      ]
    },
    {
      "cell_type": "code",
      "source": [
        "# Define y\n",
        "# Select the 'Buy_Sell' column from the dataset\n",
        "# and convert it into a NumPy array y\n",
        "y = np.asarray(dataset['Buy_Sell'])\n",
        "\n",
        "# Display the first 5 elements of the array y\n",
        "y[0:5]\n"
      ],
      "metadata": {
        "colab": {
          "base_uri": "https://localhost:8080/"
        },
        "id": "M6IeYdMwIIb2",
        "outputId": "a4983a49-a2cc-48fb-c6d1-83ed7f8fef11"
      },
      "execution_count": 18,
      "outputs": [
        {
          "output_type": "execute_result",
          "data": {
            "text/plain": [
              "array([-1, -1,  1,  1, -1])"
            ]
          },
          "metadata": {},
          "execution_count": 18
        }
      ]
    },
    {
      "cell_type": "code",
      "source": [
        "from sklearn import preprocessing\n",
        "X = preprocessing.StandardScaler().fit(X).transform(X)\n",
        "X[0:5]"
      ],
      "metadata": {
        "colab": {
          "base_uri": "https://localhost:8080/"
        },
        "id": "8wgjhxveJ0TN",
        "outputId": "9255fc35-2716-4253-fedf-0dac88f7c79f"
      },
      "execution_count": 19,
      "outputs": [
        {
          "output_type": "execute_result",
          "data": {
            "text/plain": [
              "array([[ 1.0492251 ,  1.07990201,  1.08058507,  1.1230499 ,  0.08651847],\n",
              "       [ 0.94539904,  1.01881273,  0.99222173,  1.05514964, -0.01706368],\n",
              "       [ 0.99900892,  0.96543167,  0.95755083,  0.9242694 , -0.223573  ],\n",
              "       [ 1.05694394,  1.02274045,  1.02987513,  0.98142544, -0.44149787],\n",
              "       [ 1.05112547,  1.02664821,  1.08000806,  1.06744159, -0.87061056]])"
            ]
          },
          "metadata": {},
          "execution_count": 19
        }
      ]
    },
    {
      "cell_type": "markdown",
      "source": [
        "# **Split Train data and Test data**"
      ],
      "metadata": {
        "id": "Glk6hshjIbke"
      }
    },
    {
      "cell_type": "code",
      "source": [
        "# Splitting the dataset into the Training set and Test set\n",
        "from sklearn.model_selection import train_test_split\n",
        "X_train, X_test, y_train, y_test = train_test_split(X, y, test_size = 0.25, random_state = 0)\n",
        "\n",
        "print ('Train set:', X_train.shape,  y_train.shape)\n",
        "print ('Test set:', X_test.shape,  y_test.shape)\n"
      ],
      "metadata": {
        "colab": {
          "base_uri": "https://localhost:8080/"
        },
        "id": "FqtGeB1XIWmW",
        "outputId": "31f1b6e6-1962-444f-9eca-fac1be6d797b"
      },
      "execution_count": 20,
      "outputs": [
        {
          "output_type": "stream",
          "name": "stdout",
          "text": [
            "Train set: (943, 5) (943,)\n",
            "Test set: (315, 5) (315,)\n"
          ]
        }
      ]
    },
    {
      "cell_type": "markdown",
      "source": [
        "# **Dataset Traning and Model Traning**"
      ],
      "metadata": {
        "id": "UMiE1eatIymV"
      }
    },
    {
      "cell_type": "code",
      "source": [
        "# Fitting Logistic Regression to the Training set\n",
        "from sklearn.linear_model import LogisticRegression\n",
        "from sklearn.metrics import confusion_matrix\n",
        "LR = LogisticRegression(C=0.01, solver='liblinear').fit(X_train,y_train)\n",
        "LR"
      ],
      "metadata": {
        "colab": {
          "base_uri": "https://localhost:8080/",
          "height": 74
        },
        "id": "SjAAmpHcIyEc",
        "outputId": "5eb41046-850d-4467-ba0f-ebe728d69e28"
      },
      "execution_count": 21,
      "outputs": [
        {
          "output_type": "execute_result",
          "data": {
            "text/plain": [
              "LogisticRegression(C=0.01, solver='liblinear')"
            ],
            "text/html": [
              "<style>#sk-container-id-1 {color: black;background-color: white;}#sk-container-id-1 pre{padding: 0;}#sk-container-id-1 div.sk-toggleable {background-color: white;}#sk-container-id-1 label.sk-toggleable__label {cursor: pointer;display: block;width: 100%;margin-bottom: 0;padding: 0.3em;box-sizing: border-box;text-align: center;}#sk-container-id-1 label.sk-toggleable__label-arrow:before {content: \"▸\";float: left;margin-right: 0.25em;color: #696969;}#sk-container-id-1 label.sk-toggleable__label-arrow:hover:before {color: black;}#sk-container-id-1 div.sk-estimator:hover label.sk-toggleable__label-arrow:before {color: black;}#sk-container-id-1 div.sk-toggleable__content {max-height: 0;max-width: 0;overflow: hidden;text-align: left;background-color: #f0f8ff;}#sk-container-id-1 div.sk-toggleable__content pre {margin: 0.2em;color: black;border-radius: 0.25em;background-color: #f0f8ff;}#sk-container-id-1 input.sk-toggleable__control:checked~div.sk-toggleable__content {max-height: 200px;max-width: 100%;overflow: auto;}#sk-container-id-1 input.sk-toggleable__control:checked~label.sk-toggleable__label-arrow:before {content: \"▾\";}#sk-container-id-1 div.sk-estimator input.sk-toggleable__control:checked~label.sk-toggleable__label {background-color: #d4ebff;}#sk-container-id-1 div.sk-label input.sk-toggleable__control:checked~label.sk-toggleable__label {background-color: #d4ebff;}#sk-container-id-1 input.sk-hidden--visually {border: 0;clip: rect(1px 1px 1px 1px);clip: rect(1px, 1px, 1px, 1px);height: 1px;margin: -1px;overflow: hidden;padding: 0;position: absolute;width: 1px;}#sk-container-id-1 div.sk-estimator {font-family: monospace;background-color: #f0f8ff;border: 1px dotted black;border-radius: 0.25em;box-sizing: border-box;margin-bottom: 0.5em;}#sk-container-id-1 div.sk-estimator:hover {background-color: #d4ebff;}#sk-container-id-1 div.sk-parallel-item::after {content: \"\";width: 100%;border-bottom: 1px solid gray;flex-grow: 1;}#sk-container-id-1 div.sk-label:hover label.sk-toggleable__label {background-color: #d4ebff;}#sk-container-id-1 div.sk-serial::before {content: \"\";position: absolute;border-left: 1px solid gray;box-sizing: border-box;top: 0;bottom: 0;left: 50%;z-index: 0;}#sk-container-id-1 div.sk-serial {display: flex;flex-direction: column;align-items: center;background-color: white;padding-right: 0.2em;padding-left: 0.2em;position: relative;}#sk-container-id-1 div.sk-item {position: relative;z-index: 1;}#sk-container-id-1 div.sk-parallel {display: flex;align-items: stretch;justify-content: center;background-color: white;position: relative;}#sk-container-id-1 div.sk-item::before, #sk-container-id-1 div.sk-parallel-item::before {content: \"\";position: absolute;border-left: 1px solid gray;box-sizing: border-box;top: 0;bottom: 0;left: 50%;z-index: -1;}#sk-container-id-1 div.sk-parallel-item {display: flex;flex-direction: column;z-index: 1;position: relative;background-color: white;}#sk-container-id-1 div.sk-parallel-item:first-child::after {align-self: flex-end;width: 50%;}#sk-container-id-1 div.sk-parallel-item:last-child::after {align-self: flex-start;width: 50%;}#sk-container-id-1 div.sk-parallel-item:only-child::after {width: 0;}#sk-container-id-1 div.sk-dashed-wrapped {border: 1px dashed gray;margin: 0 0.4em 0.5em 0.4em;box-sizing: border-box;padding-bottom: 0.4em;background-color: white;}#sk-container-id-1 div.sk-label label {font-family: monospace;font-weight: bold;display: inline-block;line-height: 1.2em;}#sk-container-id-1 div.sk-label-container {text-align: center;}#sk-container-id-1 div.sk-container {/* jupyter's `normalize.less` sets `[hidden] { display: none; }` but bootstrap.min.css set `[hidden] { display: none !important; }` so we also need the `!important` here to be able to override the default hidden behavior on the sphinx rendered scikit-learn.org. See: https://github.com/scikit-learn/scikit-learn/issues/21755 */display: inline-block !important;position: relative;}#sk-container-id-1 div.sk-text-repr-fallback {display: none;}</style><div id=\"sk-container-id-1\" class=\"sk-top-container\"><div class=\"sk-text-repr-fallback\"><pre>LogisticRegression(C=0.01, solver=&#x27;liblinear&#x27;)</pre><b>In a Jupyter environment, please rerun this cell to show the HTML representation or trust the notebook. <br />On GitHub, the HTML representation is unable to render, please try loading this page with nbviewer.org.</b></div><div class=\"sk-container\" hidden><div class=\"sk-item\"><div class=\"sk-estimator sk-toggleable\"><input class=\"sk-toggleable__control sk-hidden--visually\" id=\"sk-estimator-id-1\" type=\"checkbox\" checked><label for=\"sk-estimator-id-1\" class=\"sk-toggleable__label sk-toggleable__label-arrow\">LogisticRegression</label><div class=\"sk-toggleable__content\"><pre>LogisticRegression(C=0.01, solver=&#x27;liblinear&#x27;)</pre></div></div></div></div></div>"
            ]
          },
          "metadata": {},
          "execution_count": 21
        }
      ]
    },
    {
      "cell_type": "markdown",
      "source": [
        "# **Comparison of Actual Values and Predictions Values**"
      ],
      "metadata": {
        "id": "-qV-W3LvJeP8"
      }
    },
    {
      "cell_type": "code",
      "source": [
        "# Predicting the Test set results\n",
        "y_pred = LR.predict(X_test)\n",
        "y_pred"
      ],
      "metadata": {
        "colab": {
          "base_uri": "https://localhost:8080/"
        },
        "id": "aUBUgAM1JWDf",
        "outputId": "8127472d-52ee-4727-b291-e4e7a424aeef"
      },
      "execution_count": 22,
      "outputs": [
        {
          "output_type": "execute_result",
          "data": {
            "text/plain": [
              "array([-1,  1, -1, -1, -1, -1,  1, -1, -1,  1,  1,  1, -1, -1, -1, -1, -1,\n",
              "       -1, -1, -1, -1,  1, -1, -1, -1, -1, -1, -1, -1, -1, -1, -1, -1, -1,\n",
              "       -1, -1, -1, -1, -1, -1, -1, -1, -1, -1, -1, -1, -1, -1, -1, -1, -1,\n",
              "       -1, -1, -1, -1, -1,  1, -1, -1, -1, -1, -1, -1, -1, -1, -1,  1, -1,\n",
              "       -1, -1, -1, -1, -1, -1, -1, -1, -1, -1, -1,  1,  1,  1, -1, -1, -1,\n",
              "       -1, -1,  1, -1, -1, -1, -1, -1, -1, -1, -1, -1, -1,  1, -1, -1, -1,\n",
              "       -1, -1, -1, -1, -1, -1, -1, -1,  1, -1, -1, -1,  1, -1, -1, -1,  1,\n",
              "       -1, -1,  1, -1, -1, -1, -1,  1, -1, -1, -1, -1, -1,  1, -1, -1,  1,\n",
              "       -1, -1, -1,  1, -1, -1, -1, -1, -1, -1,  1,  1, -1, -1,  1, -1, -1,\n",
              "       -1, -1, -1, -1, -1, -1, -1, -1, -1,  1, -1, -1,  1,  1, -1,  1,  1,\n",
              "       -1,  1, -1, -1,  1, -1,  1,  1,  1, -1, -1,  1, -1,  1, -1, -1, -1,\n",
              "       -1, -1,  1, -1, -1, -1, -1, -1, -1,  1, -1, -1, -1, -1, -1,  1,  1,\n",
              "       -1, -1, -1, -1, -1, -1, -1, -1, -1, -1, -1, -1, -1,  1, -1, -1, -1,\n",
              "        1, -1, -1,  1,  1, -1, -1, -1,  1,  1, -1, -1, -1, -1, -1, -1, -1,\n",
              "       -1, -1, -1, -1, -1, -1, -1, -1,  1, -1,  1, -1, -1, -1, -1, -1, -1,\n",
              "       -1, -1,  1, -1,  1, -1, -1, -1,  1, -1, -1, -1, -1, -1,  1, -1, -1,\n",
              "        1, -1, -1,  1, -1, -1, -1, -1, -1, -1, -1,  1, -1,  1,  1,  1, -1,\n",
              "        1,  1, -1, -1,  1, -1,  1, -1, -1, -1, -1, -1,  1,  1, -1, -1, -1,\n",
              "        1, -1, -1, -1,  1, -1, -1, -1, -1])"
            ]
          },
          "metadata": {},
          "execution_count": 22
        }
      ]
    },
    {
      "cell_type": "code",
      "source": [
        "# Calculate the predicted probabilities for each class (0 and 1) using the test data\n",
        "y_pred_prob = LR.predict_proba(X_test)\n",
        "\n",
        "# Display the predicted probabilities\n",
        "y_pred_prob\n"
      ],
      "metadata": {
        "colab": {
          "base_uri": "https://localhost:8080/"
        },
        "id": "9jL1TbLNJnnN",
        "outputId": "b863c2e3-734b-4677-c4fa-7e413a3bebd3"
      },
      "execution_count": 23,
      "outputs": [
        {
          "output_type": "execute_result",
          "data": {
            "text/plain": [
              "array([[0.54533889, 0.45466111],\n",
              "       [0.49701402, 0.50298598],\n",
              "       [0.54132405, 0.45867595],\n",
              "       [0.56242227, 0.43757773],\n",
              "       [0.53351917, 0.46648083],\n",
              "       [0.53821733, 0.46178267],\n",
              "       [0.36848801, 0.63151199],\n",
              "       [0.53349754, 0.46650246],\n",
              "       [0.5448762 , 0.4551238 ],\n",
              "       [0.48916333, 0.51083667],\n",
              "       [0.48719904, 0.51280096],\n",
              "       [0.46900883, 0.53099117],\n",
              "       [0.60391491, 0.39608509],\n",
              "       [0.5479261 , 0.4520739 ],\n",
              "       [0.5232509 , 0.4767491 ],\n",
              "       [0.5568329 , 0.4431671 ],\n",
              "       [0.5493885 , 0.4506115 ],\n",
              "       [0.58103731, 0.41896269],\n",
              "       [0.58155471, 0.41844529],\n",
              "       [0.57367197, 0.42632803],\n",
              "       [0.52352809, 0.47647191],\n",
              "       [0.45312886, 0.54687114],\n",
              "       [0.53347314, 0.46652686],\n",
              "       [0.54046611, 0.45953389],\n",
              "       [0.57633385, 0.42366615],\n",
              "       [0.54056296, 0.45943704],\n",
              "       [0.56646334, 0.43353666],\n",
              "       [0.59698314, 0.40301686],\n",
              "       [0.54198743, 0.45801257],\n",
              "       [0.51050284, 0.48949716],\n",
              "       [0.52715747, 0.47284253],\n",
              "       [0.50786953, 0.49213047],\n",
              "       [0.55084955, 0.44915045],\n",
              "       [0.54774429, 0.45225571],\n",
              "       [0.55971284, 0.44028716],\n",
              "       [0.57120036, 0.42879964],\n",
              "       [0.54039851, 0.45960149],\n",
              "       [0.58840876, 0.41159124],\n",
              "       [0.54492552, 0.45507448],\n",
              "       [0.51375242, 0.48624758],\n",
              "       [0.51977058, 0.48022942],\n",
              "       [0.5862872 , 0.4137128 ],\n",
              "       [0.58043885, 0.41956115],\n",
              "       [0.55624375, 0.44375625],\n",
              "       [0.57111144, 0.42888856],\n",
              "       [0.52322492, 0.47677508],\n",
              "       [0.57041072, 0.42958928],\n",
              "       [0.52487019, 0.47512981],\n",
              "       [0.55435113, 0.44564887],\n",
              "       [0.58973194, 0.41026806],\n",
              "       [0.55350228, 0.44649772],\n",
              "       [0.5033471 , 0.4966529 ],\n",
              "       [0.55033469, 0.44966531],\n",
              "       [0.52753795, 0.47246205],\n",
              "       [0.54114484, 0.45885516],\n",
              "       [0.57922183, 0.42077817],\n",
              "       [0.45454521, 0.54545479],\n",
              "       [0.52913157, 0.47086843],\n",
              "       [0.54407242, 0.45592758],\n",
              "       [0.53755528, 0.46244472],\n",
              "       [0.50418429, 0.49581571],\n",
              "       [0.5991751 , 0.4008249 ],\n",
              "       [0.54310328, 0.45689672],\n",
              "       [0.55795985, 0.44204015],\n",
              "       [0.54326452, 0.45673548],\n",
              "       [0.59300972, 0.40699028],\n",
              "       [0.46049365, 0.53950635],\n",
              "       [0.51971105, 0.48028895],\n",
              "       [0.57650681, 0.42349319],\n",
              "       [0.57034701, 0.42965299],\n",
              "       [0.52315474, 0.47684526],\n",
              "       [0.53519324, 0.46480676],\n",
              "       [0.52430083, 0.47569917],\n",
              "       [0.57461775, 0.42538225],\n",
              "       [0.51562853, 0.48437147],\n",
              "       [0.56086279, 0.43913721],\n",
              "       [0.55742467, 0.44257533],\n",
              "       [0.55364122, 0.44635878],\n",
              "       [0.56306798, 0.43693202],\n",
              "       [0.48174429, 0.51825571],\n",
              "       [0.48601487, 0.51398513],\n",
              "       [0.49002296, 0.50997704],\n",
              "       [0.51180575, 0.48819425],\n",
              "       [0.57706843, 0.42293157],\n",
              "       [0.53512954, 0.46487046],\n",
              "       [0.55231448, 0.44768552],\n",
              "       [0.5647941 , 0.4352059 ],\n",
              "       [0.46796242, 0.53203758],\n",
              "       [0.56641396, 0.43358604],\n",
              "       [0.56295727, 0.43704273],\n",
              "       [0.5537642 , 0.4462358 ],\n",
              "       [0.5269657 , 0.4730343 ],\n",
              "       [0.62697584, 0.37302416],\n",
              "       [0.56548828, 0.43451172],\n",
              "       [0.57877492, 0.42122508],\n",
              "       [0.55624672, 0.44375328],\n",
              "       [0.56648417, 0.43351583],\n",
              "       [0.52886401, 0.47113599],\n",
              "       [0.4543526 , 0.5456474 ],\n",
              "       [0.52149652, 0.47850348],\n",
              "       [0.53750214, 0.46249786],\n",
              "       [0.55997611, 0.44002389],\n",
              "       [0.55189751, 0.44810249],\n",
              "       [0.5720492 , 0.4279508 ],\n",
              "       [0.51492309, 0.48507691],\n",
              "       [0.51183762, 0.48816238],\n",
              "       [0.50691698, 0.49308302],\n",
              "       [0.52729602, 0.47270398],\n",
              "       [0.54869797, 0.45130203],\n",
              "       [0.5577178 , 0.4422822 ],\n",
              "       [0.48231318, 0.51768682],\n",
              "       [0.54354527, 0.45645473],\n",
              "       [0.59497993, 0.40502007],\n",
              "       [0.57555229, 0.42444771],\n",
              "       [0.43336944, 0.56663056],\n",
              "       [0.51506495, 0.48493505],\n",
              "       [0.54618596, 0.45381404],\n",
              "       [0.57586364, 0.42413636],\n",
              "       [0.48655964, 0.51344036],\n",
              "       [0.59254168, 0.40745832],\n",
              "       [0.52042227, 0.47957773],\n",
              "       [0.49534454, 0.50465546],\n",
              "       [0.58843256, 0.41156744],\n",
              "       [0.54512939, 0.45487061],\n",
              "       [0.56773989, 0.43226011],\n",
              "       [0.53173785, 0.46826215],\n",
              "       [0.45128421, 0.54871579],\n",
              "       [0.60709818, 0.39290182],\n",
              "       [0.56286477, 0.43713523],\n",
              "       [0.51239346, 0.48760654],\n",
              "       [0.51180872, 0.48819128],\n",
              "       [0.56098659, 0.43901341],\n",
              "       [0.49269324, 0.50730676],\n",
              "       [0.51423068, 0.48576932],\n",
              "       [0.57347077, 0.42652923],\n",
              "       [0.4865258 , 0.5134742 ],\n",
              "       [0.55767281, 0.44232719],\n",
              "       [0.53842276, 0.46157724],\n",
              "       [0.56490851, 0.43509149],\n",
              "       [0.49441015, 0.50558985],\n",
              "       [0.50429705, 0.49570295],\n",
              "       [0.55989699, 0.44010301],\n",
              "       [0.54290989, 0.45709011],\n",
              "       [0.53974967, 0.46025033],\n",
              "       [0.55355633, 0.44644367],\n",
              "       [0.5818893 , 0.4181107 ],\n",
              "       [0.49617137, 0.50382863],\n",
              "       [0.36398509, 0.63601491],\n",
              "       [0.54663018, 0.45336982],\n",
              "       [0.53276157, 0.46723843],\n",
              "       [0.40253583, 0.59746417],\n",
              "       [0.58064933, 0.41935067],\n",
              "       [0.56839092, 0.43160908],\n",
              "       [0.50165773, 0.49834227],\n",
              "       [0.54920115, 0.45079885],\n",
              "       [0.53748275, 0.46251725],\n",
              "       [0.53896198, 0.46103802],\n",
              "       [0.52946511, 0.47053489],\n",
              "       [0.53616105, 0.46383895],\n",
              "       [0.55080832, 0.44919168],\n",
              "       [0.60748364, 0.39251636],\n",
              "       [0.59504142, 0.40495858],\n",
              "       [0.45387055, 0.54612945],\n",
              "       [0.5391649 , 0.4608351 ],\n",
              "       [0.58174605, 0.41825395],\n",
              "       [0.41567477, 0.58432523],\n",
              "       [0.38507598, 0.61492402],\n",
              "       [0.56423441, 0.43576559],\n",
              "       [0.4853387 , 0.5146613 ],\n",
              "       [0.47275066, 0.52724934],\n",
              "       [0.52330607, 0.47669393],\n",
              "       [0.48620108, 0.51379892],\n",
              "       [0.55879846, 0.44120154],\n",
              "       [0.56486078, 0.43513922],\n",
              "       [0.46852223, 0.53147777],\n",
              "       [0.54872215, 0.45127785],\n",
              "       [0.40527139, 0.59472861],\n",
              "       [0.49537179, 0.50462821],\n",
              "       [0.39398803, 0.60601197],\n",
              "       [0.57248843, 0.42751157],\n",
              "       [0.57831441, 0.42168559],\n",
              "       [0.43075701, 0.56924299],\n",
              "       [0.55604725, 0.44395275],\n",
              "       [0.49292357, 0.50707643],\n",
              "       [0.54440846, 0.45559154],\n",
              "       [0.52563628, 0.47436372],\n",
              "       [0.50636169, 0.49363831],\n",
              "       [0.5900827 , 0.4099173 ],\n",
              "       [0.57755298, 0.42244702],\n",
              "       [0.48519522, 0.51480478],\n",
              "       [0.57628096, 0.42371904],\n",
              "       [0.50327091, 0.49672909],\n",
              "       [0.50997575, 0.49002425],\n",
              "       [0.59748446, 0.40251554],\n",
              "       [0.53426926, 0.46573074],\n",
              "       [0.53031647, 0.46968353],\n",
              "       [0.47229283, 0.52770717],\n",
              "       [0.54168558, 0.45831442],\n",
              "       [0.59822614, 0.40177386],\n",
              "       [0.56109125, 0.43890875],\n",
              "       [0.54800392, 0.45199608],\n",
              "       [0.56163147, 0.43836853],\n",
              "       [0.47828977, 0.52171023],\n",
              "       [0.49323591, 0.50676409],\n",
              "       [0.55908644, 0.44091356],\n",
              "       [0.59366844, 0.40633156],\n",
              "       [0.58851302, 0.41148698],\n",
              "       [0.55258379, 0.44741621],\n",
              "       [0.5766442 , 0.4233558 ],\n",
              "       [0.5399462 , 0.4600538 ],\n",
              "       [0.56556745, 0.43443255],\n",
              "       [0.53706268, 0.46293732],\n",
              "       [0.53137501, 0.46862499],\n",
              "       [0.51253625, 0.48746375],\n",
              "       [0.57155677, 0.42844323],\n",
              "       [0.5492532 , 0.4507468 ],\n",
              "       [0.52448826, 0.47551174],\n",
              "       [0.48001187, 0.51998813],\n",
              "       [0.59375643, 0.40624357],\n",
              "       [0.56026159, 0.43973841],\n",
              "       [0.51420974, 0.48579026],\n",
              "       [0.38092764, 0.61907236],\n",
              "       [0.58914862, 0.41085138],\n",
              "       [0.50001963, 0.49998037],\n",
              "       [0.38429383, 0.61570617],\n",
              "       [0.47618649, 0.52381351],\n",
              "       [0.57042261, 0.42957739],\n",
              "       [0.58087471, 0.41912529],\n",
              "       [0.53947528, 0.46052472],\n",
              "       [0.416935  , 0.583065  ],\n",
              "       [0.47084361, 0.52915639],\n",
              "       [0.51148112, 0.48851888],\n",
              "       [0.53261739, 0.46738261],\n",
              "       [0.58414214, 0.41585786],\n",
              "       [0.57076179, 0.42923821],\n",
              "       [0.54942693, 0.45057307],\n",
              "       [0.56865419, 0.43134581],\n",
              "       [0.52805409, 0.47194591],\n",
              "       [0.51167612, 0.48832388],\n",
              "       [0.52721042, 0.47278958],\n",
              "       [0.50388187, 0.49611813],\n",
              "       [0.55107946, 0.44892054],\n",
              "       [0.56447008, 0.43552992],\n",
              "       [0.5437532 , 0.4562468 ],\n",
              "       [0.5542773 , 0.4457227 ],\n",
              "       [0.58911813, 0.41088187],\n",
              "       [0.30326743, 0.69673257],\n",
              "       [0.51853221, 0.48146779],\n",
              "       [0.48750206, 0.51249794],\n",
              "       [0.5243642 , 0.4756358 ],\n",
              "       [0.52890433, 0.47109567],\n",
              "       [0.52988626, 0.47011374],\n",
              "       [0.54122791, 0.45877209],\n",
              "       [0.57979321, 0.42020679],\n",
              "       [0.5322443 , 0.4677557 ],\n",
              "       [0.59994838, 0.40005162],\n",
              "       [0.55573914, 0.44426086],\n",
              "       [0.48843532, 0.51156468],\n",
              "       [0.57756551, 0.42243449],\n",
              "       [0.48322312, 0.51677688],\n",
              "       [0.51660614, 0.48339386],\n",
              "       [0.56683725, 0.43316275],\n",
              "       [0.55273815, 0.44726185],\n",
              "       [0.49761974, 0.50238026],\n",
              "       [0.53228992, 0.46771008],\n",
              "       [0.5213161 , 0.4786839 ],\n",
              "       [0.5142404 , 0.4857596 ],\n",
              "       [0.53796872, 0.46203128],\n",
              "       [0.5323045 , 0.4676955 ],\n",
              "       [0.47027756, 0.52972244],\n",
              "       [0.50028579, 0.49971421],\n",
              "       [0.57007344, 0.42992656],\n",
              "       [0.48860477, 0.51139523],\n",
              "       [0.56189459, 0.43810541],\n",
              "       [0.51459827, 0.48540173],\n",
              "       [0.38573953, 0.61426047],\n",
              "       [0.55874923, 0.44125077],\n",
              "       [0.56271839, 0.43728161],\n",
              "       [0.53313561, 0.46686439],\n",
              "       [0.57435472, 0.42564528],\n",
              "       [0.55053661, 0.44946339],\n",
              "       [0.53768368, 0.46231632],\n",
              "       [0.50649975, 0.49350025],\n",
              "       [0.46146685, 0.53853315],\n",
              "       [0.50203549, 0.49796451],\n",
              "       [0.49249881, 0.50750119],\n",
              "       [0.49706834, 0.50293166],\n",
              "       [0.49422107, 0.50577893],\n",
              "       [0.50277251, 0.49722749],\n",
              "       [0.3452882 , 0.6547118 ],\n",
              "       [0.3049052 , 0.6950948 ],\n",
              "       [0.57083099, 0.42916901],\n",
              "       [0.53648631, 0.46351369],\n",
              "       [0.47067803, 0.52932197],\n",
              "       [0.52095318, 0.47904682],\n",
              "       [0.47073014, 0.52926986],\n",
              "       [0.51686541, 0.48313459],\n",
              "       [0.53520095, 0.46479905],\n",
              "       [0.52882065, 0.47117935],\n",
              "       [0.51407092, 0.48592908],\n",
              "       [0.5842854 , 0.4157146 ],\n",
              "       [0.4687646 , 0.5312354 ],\n",
              "       [0.47236382, 0.52763618],\n",
              "       [0.52110661, 0.47889339],\n",
              "       [0.5422105 , 0.4577895 ],\n",
              "       [0.52905172, 0.47094828],\n",
              "       [0.44474638, 0.55525362],\n",
              "       [0.53143729, 0.46856271],\n",
              "       [0.53045401, 0.46954599],\n",
              "       [0.63661164, 0.36338836],\n",
              "       [0.48389153, 0.51610847],\n",
              "       [0.53870305, 0.46129695],\n",
              "       [0.60105376, 0.39894624],\n",
              "       [0.55531674, 0.44468326],\n",
              "       [0.59266682, 0.40733318]])"
            ]
          },
          "metadata": {},
          "execution_count": 23
        }
      ]
    },
    {
      "cell_type": "code",
      "source": [
        "# Create a DataFrame to display y_test and y_pred\n",
        "results_df = pd.DataFrame({'Actual': y_test, 'Predicted': y_pred})\n",
        "\n",
        "# Display the DataFrame\n",
        "print(results_df)"
      ],
      "metadata": {
        "colab": {
          "base_uri": "https://localhost:8080/"
        },
        "id": "HDY6PfLViXoF",
        "outputId": "42a2ea36-0b78-4385-d303-87c78e76cdb5"
      },
      "execution_count": 24,
      "outputs": [
        {
          "output_type": "stream",
          "name": "stdout",
          "text": [
            "     Actual  Predicted\n",
            "0        -1         -1\n",
            "1         1          1\n",
            "2        -1         -1\n",
            "3         1         -1\n",
            "4         1         -1\n",
            "..      ...        ...\n",
            "310      -1          1\n",
            "311       1         -1\n",
            "312      -1         -1\n",
            "313      -1         -1\n",
            "314       1         -1\n",
            "\n",
            "[315 rows x 2 columns]\n"
          ]
        }
      ]
    },
    {
      "cell_type": "markdown",
      "source": [
        "# **Accuracy and Loss Function Values of the Model**"
      ],
      "metadata": {
        "id": "pHlq_07BNFLU"
      }
    },
    {
      "cell_type": "code",
      "source": [
        "from sklearn.metrics import confusion_matrix, classification_report\n",
        "\n",
        "# Calculate confusion matrix\n",
        "cm = confusion_matrix(y_test, y_pred)\n",
        "\n",
        "# Plot confusion matrix\n",
        "plt.figure(figsize=(8, 6))\n",
        "sns.heatmap(cm, annot=True, fmt='d', cmap='Blues')\n",
        "plt.xlabel('Predicted labels')\n",
        "plt.ylabel('True labels')\n",
        "plt.title('Confusion Matrix')\n",
        "plt.show()"
      ],
      "metadata": {
        "colab": {
          "base_uri": "https://localhost:8080/",
          "height": 564
        },
        "id": "8uhgCa7ANGsd",
        "outputId": "9639c4a7-1942-4406-8cd6-f3c65d5e5809"
      },
      "execution_count": 25,
      "outputs": [
        {
          "output_type": "display_data",
          "data": {
            "text/plain": [
              "<Figure size 800x600 with 2 Axes>"
            ],
            "image/png": "[encoded data removed]"
          },
          "metadata": {}
        }
      ]
    },
    {
      "cell_type": "code",
      "source": [
        "# Print a classification report showing precision, recall, F1-score, and other metrics\n",
        "print(classification_report(y_test, y_pred))\n"
      ],
      "metadata": {
        "colab": {
          "base_uri": "https://localhost:8080/"
        },
        "id": "QvarGb7VOBgE",
        "outputId": "e9cbfa57-f331-4d1e-e9fe-d0be922206cf"
      },
      "execution_count": 26,
      "outputs": [
        {
          "output_type": "stream",
          "name": "stdout",
          "text": [
            "              precision    recall  f1-score   support\n",
            "\n",
            "          -1       0.57      0.82      0.67       175\n",
            "           1       0.52      0.24      0.33       140\n",
            "\n",
            "    accuracy                           0.56       315\n",
            "   macro avg       0.54      0.53      0.50       315\n",
            "weighted avg       0.55      0.56      0.52       315\n",
            "\n"
          ]
        }
      ]
    },
    {
      "cell_type": "code",
      "source": [
        "from sklearn import metrics\n",
        "\n",
        "print(\"Accuracy:\",metrics.accuracy_score(y_test, y_pred))\n",
        "print(\"Precision:\",metrics.precision_score(y_test, y_pred))\n",
        "print(\"Recall:\",metrics.recall_score(y_test, y_pred))\n"
      ],
      "metadata": {
        "colab": {
          "base_uri": "https://localhost:8080/"
        },
        "id": "-Jzz0iHmOHms",
        "outputId": "34fcf042-9a71-4da8-dd2f-6722d5579419"
      },
      "execution_count": 27,
      "outputs": [
        {
          "output_type": "stream",
          "name": "stdout",
          "text": [
            "Accuracy: 0.5619047619047619\n",
            "Precision: 0.5151515151515151\n",
            "Recall: 0.24285714285714285\n"
          ]
        }
      ]
    },
    {
      "cell_type": "code",
      "source": [
        "# Calculate and print the log loss between the true labels and predicted probabilities.\n",
        "from sklearn.metrics import log_loss\n",
        "log_loss(y_test, y_pred_prob)\n"
      ],
      "metadata": {
        "colab": {
          "base_uri": "https://localhost:8080/"
        },
        "id": "7TTD6byTOK-k",
        "outputId": "f180d5c9-317d-4478-b8cb-08920419cce6"
      },
      "execution_count": 28,
      "outputs": [
        {
          "output_type": "execute_result",
          "data": {
            "text/plain": [
              "0.6847759219838309"
            ]
          },
          "metadata": {},
          "execution_count": 28
        }
      ]
    },
    {
      "cell_type": "code",
      "source": [
        "# Train a logistic regression model with a different solver ('sag') and calculate the log loss\n",
        "LR2 = LogisticRegression(C=0.01, solver='sag').fit(X_train,y_train)\n",
        "\n",
        "# Calculate the predicted probabilities for the test data\n",
        "y_pred_prob2 = LR2.predict_proba(X_test)\n",
        "\n",
        "# Calculate and print the log loss between the true labels and the predicted probabilities\n",
        "print (\"LogLoss: : %.2f\" % log_loss(y_test, y_pred_prob2))\n"
      ],
      "metadata": {
        "colab": {
          "base_uri": "https://localhost:8080/"
        },
        "id": "ku6uEiMbORIp",
        "outputId": "a44f63ac-f90a-4031-82e0-fb558a910588"
      },
      "execution_count": 29,
      "outputs": [
        {
          "output_type": "stream",
          "name": "stdout",
          "text": [
            "LogLoss: : 0.68\n"
          ]
        }
      ]
    },
    {
      "cell_type": "code",
      "source": [
        "# Calculate ROC curve and AUC for the logistic regression model\n",
        "y_pred_proba = LR.predict_proba(X_test)[::,1]\n",
        "fpr, tpr, _ = metrics.roc_curve(y_test,  y_pred_proba)\n",
        "auc = metrics.roc_auc_score(y_test, y_pred_proba)\n",
        "\n",
        "# Plot ROC curve\n",
        "plt.plot(fpr,tpr,label=\"data 1, auc=\"+str(auc))\n",
        "plt.legend(loc=4)\n",
        "plt.show()"
      ],
      "metadata": {
        "colab": {
          "base_uri": "https://localhost:8080/",
          "height": 430
        },
        "id": "-EdyDbzKOZ_B",
        "outputId": "8e636f48-7651-4372-880a-ab8ddb8be8f0"
      },
      "execution_count": 30,
      "outputs": [
        {
          "output_type": "display_data",
          "data": {
            "text/plain": [
              "<Figure size 640x480 with 1 Axes>"
            ],
            "image/png": "[encoded data removed]"
          },
          "metadata": {}
        }
      ]
    },
    {
      "cell_type": "code",
      "source": [
        "print(\"LogLoss: : %.2f\" % log_loss(y_test, y_pred_prob))"
      ],
      "metadata": {
        "colab": {
          "base_uri": "https://localhost:8080/"
        },
        "id": "IeJPjlpJOdpU",
        "outputId": "5b78a025-ca82-4775-a70e-85c6a2509fc3"
      },
      "execution_count": 31,
      "outputs": [
        {
          "output_type": "stream",
          "name": "stdout",
          "text": [
            "LogLoss: : 0.68\n"
          ]
        }
      ]
    },
    {
      "cell_type": "code",
      "source": [
        "print(\"Accuracy:\",metrics.accuracy_score(y_test, y_pred))"
      ],
      "metadata": {
        "colab": {
          "base_uri": "https://localhost:8080/"
        },
        "id": "zlR87JIUOgmj",
        "outputId": "d5ef027f-13b6-47ce-d65b-ed17423cfde7"
      },
      "execution_count": 32,
      "outputs": [
        {
          "output_type": "stream",
          "name": "stdout",
          "text": [
            "Accuracy: 0.5619047619047619\n"
          ]
        }
      ]
    }
  ]
}