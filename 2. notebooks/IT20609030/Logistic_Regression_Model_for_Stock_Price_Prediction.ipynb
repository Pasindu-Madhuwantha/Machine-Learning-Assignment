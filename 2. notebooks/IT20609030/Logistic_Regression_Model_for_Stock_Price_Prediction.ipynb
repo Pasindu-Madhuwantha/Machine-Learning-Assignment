{
  "nbformat": 4,
  "nbformat_minor": 0,
  "metadata": {
    "colab": {
      "provenance": [],
      "authorship_tag": "ABX9TyMA8CJoJG9FZroGzFhjwPfZ",
      "include_colab_link": true
    },
    "kernelspec": {
      "name": "python3",
      "display_name": "Python 3"
    },
    "language_info": {
      "name": "python"
    }
  },
  "cells": [
    {
      "cell_type": "markdown",
      "metadata": {
        "id": "view-in-github",
        "colab_type": "text"
      },
      "source": [
        "<a href=\"https://colab.research.google.com/github/Pasindu-Madhuwantha/Machine-Learning-Assignment/blob/IT20609030/2.%20notebooks/IT20609030/Logistic_Regression_Model_for_Stock_Price_Prediction.ipynb\" target=\"_parent\"><img src=\"https://colab.research.google.com/assets/colab-badge.svg\" alt=\"Open In Colab\"/></a>"
      ]
    },
    {
      "cell_type": "markdown",
      "source": [
        "# 📉📊📈**Stock Price Prediction Using Different Machine Learning Models and Compare the Performance of the Models**📉📊📈"
      ],
      "metadata": {
        "id": "3ykIhyK7R_ko"
      }
    },
    {
      "cell_type": "markdown",
      "source": [
        "Because of its complexity and difficulty, forecasting stock prices fascinates researchers and industry specialists from a variety of fields, including computer science, economics, business arithmetic, and marketing. Despite considerable attempts over the last decade, stock market price forecasting remains difficult due to the intrinsic random wandering nature of market prices. Stock price volatility creates significant challenges for precise forecasting. Nonetheless, establishing efficient and accurate forecasting models is critical for managers, investors, and decision-makers to make sound investment decisions. Analysts use machine learning techniques to evaluate historical data and uncover patterns and trends that might assist forecast future stock performance. Researchers try to create prediction models that can efficiently manage the unpredictable nature of stock markets by combining current and historical data."
      ],
      "metadata": {
        "id": "l1yWcX5NSREu"
      }
    },
    {
      "cell_type": "markdown",
      "source": [
        "# ✅ **Logistic Regression** ✅"
      ],
      "metadata": {
        "id": "IIi0FhJ0SiSv"
      }
    },
    {
      "cell_type": "code",
      "execution_count": 1,
      "metadata": {
        "colab": {
          "base_uri": "https://localhost:8080/"
        },
        "id": "mrHvdBK7Cd1m",
        "outputId": "aa0927ab-1788-402f-84d2-d2e35b5669b3"
      },
      "outputs": [
        {
          "output_type": "stream",
          "name": "stdout",
          "text": [
            "Mounted at /content/drive\n"
          ]
        }
      ],
      "source": [
        "from google.colab import drive\n",
        "drive.mount('/content/drive')"
      ]
    },
    {
      "cell_type": "markdown",
      "source": [
        "# **Import Libraries**"
      ],
      "metadata": {
        "id": "c1QR8zR9S3RW"
      }
    },
    {
      "cell_type": "code",
      "source": [
        "import numpy as np\n",
        "import matplotlib.pyplot as plt\n",
        "import pandas as pd\n",
        "\n",
        "import warnings\n",
        "warnings.filterwarnings(\"ignore\")\n",
        "\n",
        "# MATPLOTLIB & SEABORN FOR GRAPH-PLOTTING\n",
        "import matplotlib.pyplot as plt\n",
        "import seaborn as sns\n",
        "%matplotlib inline"
      ],
      "metadata": {
        "id": "FvIzjoFmHR0x"
      },
      "execution_count": 2,
      "outputs": []
    },
    {
      "cell_type": "markdown",
      "source": [
        "# **Load Data into Data Frame**"
      ],
      "metadata": {
        "id": "llmchYjBS5cO"
      }
    },
    {
      "cell_type": "code",
      "source": [
        "import pandas as pd\n",
        "\n",
        "# Path to your CSV file in Google Drive\n",
        "file_path = '/content/drive/MyDrive/yahoo_data.csv'\n",
        "\n",
        "# Read the CSV file into a DataFrame\n",
        "dataset = pd.read_csv(file_path)\n",
        "\n",
        "# Display the first few rows of the DataFrame and format the date column\n",
        "dataset.head().style.format({'Date': lambda x: pd.to_datetime(x).strftime('%Y-%m-%d')})"
      ],
      "metadata": {
        "colab": {
          "base_uri": "https://localhost:8080/",
          "height": 206
        },
        "id": "ApAhvmGHTES7",
        "outputId": "830590e1-fb6f-486f-f1ee-ed771e325cc7"
      },
      "execution_count": 4,
      "outputs": [
        {
          "output_type": "execute_result",
          "data": {
            "text/plain": [
              "<pandas.io.formats.style.Styler at 0x7edfbf076890>"
            ],
            "text/html": [
              "<style type=\"text/css\">\n",
              "</style>\n",
              "<table id=\"T_387b3\" class=\"dataframe\">\n",
              "  <thead>\n",
              "    <tr>\n",
              "      <th class=\"blank level0\" >&nbsp;</th>\n",
              "      <th id=\"T_387b3_level0_col0\" class=\"col_heading level0 col0\" >Date</th>\n",
              "      <th id=\"T_387b3_level0_col1\" class=\"col_heading level0 col1\" >Open</th>\n",
              "      <th id=\"T_387b3_level0_col2\" class=\"col_heading level0 col2\" >High</th>\n",
              "      <th id=\"T_387b3_level0_col3\" class=\"col_heading level0 col3\" >Low</th>\n",
              "      <th id=\"T_387b3_level0_col4\" class=\"col_heading level0 col4\" >Close</th>\n",
              "      <th id=\"T_387b3_level0_col5\" class=\"col_heading level0 col5\" >Adj Close</th>\n",
              "      <th id=\"T_387b3_level0_col6\" class=\"col_heading level0 col6\" >Volume</th>\n",
              "    </tr>\n",
              "  </thead>\n",
              "  <tbody>\n",
              "    <tr>\n",
              "      <th id=\"T_387b3_level0_row0\" class=\"row_heading level0 row0\" >0</th>\n",
              "      <td id=\"T_387b3_row0_col0\" class=\"data row0 col0\" >2023-04-28</td>\n",
              "      <td id=\"T_387b3_row0_col1\" class=\"data row0 col1\" >33,797.43</td>\n",
              "      <td id=\"T_387b3_row0_col2\" class=\"data row0 col2\" >34,104.56</td>\n",
              "      <td id=\"T_387b3_row0_col3\" class=\"data row0 col3\" >33,728.40</td>\n",
              "      <td id=\"T_387b3_row0_col4\" class=\"data row0 col4\" >34,098.16</td>\n",
              "      <td id=\"T_387b3_row0_col5\" class=\"data row0 col5\" >34,098.16</td>\n",
              "      <td id=\"T_387b3_row0_col6\" class=\"data row0 col6\" >354,310,000</td>\n",
              "    </tr>\n",
              "    <tr>\n",
              "      <th id=\"T_387b3_level0_row1\" class=\"row_heading level0 row1\" >1</th>\n",
              "      <td id=\"T_387b3_row1_col0\" class=\"data row1 col0\" >2023-04-27</td>\n",
              "      <td id=\"T_387b3_row1_col1\" class=\"data row1 col1\" >33,381.66</td>\n",
              "      <td id=\"T_387b3_row1_col2\" class=\"data row1 col2\" >33,859.75</td>\n",
              "      <td id=\"T_387b3_row1_col3\" class=\"data row1 col3\" >33,374.65</td>\n",
              "      <td id=\"T_387b3_row1_col4\" class=\"data row1 col4\" >33,826.16</td>\n",
              "      <td id=\"T_387b3_row1_col5\" class=\"data row1 col5\" >33,826.16</td>\n",
              "      <td id=\"T_387b3_row1_col6\" class=\"data row1 col6\" >343,240,000</td>\n",
              "    </tr>\n",
              "    <tr>\n",
              "      <th id=\"T_387b3_level0_row2\" class=\"row_heading level0 row2\" >2</th>\n",
              "      <td id=\"T_387b3_row2_col0\" class=\"data row2 col0\" >2023-04-26</td>\n",
              "      <td id=\"T_387b3_row2_col1\" class=\"data row2 col1\" >33,596.34</td>\n",
              "      <td id=\"T_387b3_row2_col2\" class=\"data row2 col2\" >33,645.83</td>\n",
              "      <td id=\"T_387b3_row2_col3\" class=\"data row2 col3\" >33,235.85</td>\n",
              "      <td id=\"T_387b3_row2_col4\" class=\"data row2 col4\" >33,301.87</td>\n",
              "      <td id=\"T_387b3_row2_col5\" class=\"data row2 col5\" >33,301.87</td>\n",
              "      <td id=\"T_387b3_row2_col6\" class=\"data row2 col6\" >321,170,000</td>\n",
              "    </tr>\n",
              "    <tr>\n",
              "      <th id=\"T_387b3_level0_row3\" class=\"row_heading level0 row3\" >3</th>\n",
              "      <td id=\"T_387b3_row3_col0\" class=\"data row3 col0\" >2023-04-25</td>\n",
              "      <td id=\"T_387b3_row3_col1\" class=\"data row3 col1\" >33,828.34</td>\n",
              "      <td id=\"T_387b3_row3_col2\" class=\"data row3 col2\" >33,875.49</td>\n",
              "      <td id=\"T_387b3_row3_col3\" class=\"data row3 col3\" >33,525.39</td>\n",
              "      <td id=\"T_387b3_row3_col4\" class=\"data row3 col4\" >33,530.83</td>\n",
              "      <td id=\"T_387b3_row3_col5\" class=\"data row3 col5\" >33,530.83</td>\n",
              "      <td id=\"T_387b3_row3_col6\" class=\"data row3 col6\" >297,880,000</td>\n",
              "    </tr>\n",
              "    <tr>\n",
              "      <th id=\"T_387b3_level0_row4\" class=\"row_heading level0 row4\" >4</th>\n",
              "      <td id=\"T_387b3_row4_col0\" class=\"data row4 col0\" >2023-04-24</td>\n",
              "      <td id=\"T_387b3_row4_col1\" class=\"data row4 col1\" >33,805.04</td>\n",
              "      <td id=\"T_387b3_row4_col2\" class=\"data row4 col2\" >33,891.15</td>\n",
              "      <td id=\"T_387b3_row4_col3\" class=\"data row4 col3\" >33,726.09</td>\n",
              "      <td id=\"T_387b3_row4_col4\" class=\"data row4 col4\" >33,875.40</td>\n",
              "      <td id=\"T_387b3_row4_col5\" class=\"data row4 col5\" >33,875.40</td>\n",
              "      <td id=\"T_387b3_row4_col6\" class=\"data row4 col6\" >252,020,000</td>\n",
              "    </tr>\n",
              "  </tbody>\n",
              "</table>\n"
            ]
          },
          "metadata": {},
          "execution_count": 4
        }
      ]
    },
    {
      "cell_type": "markdown",
      "source": [
        "# **Data Preprocessing**"
      ],
      "metadata": {
        "id": "Dd8r1UsLT_TP"
      }
    },
    {
      "cell_type": "code",
      "source": [
        "dataset['Buy_Sell'] = np.where(dataset['Adj Close'].shift(-1) > dataset['Adj Close'],1,-1)"
      ],
      "metadata": {
        "id": "RsdwTCAiUFrZ"
      },
      "execution_count": 5,
      "outputs": []
    },
    {
      "cell_type": "code",
      "source": [
        "dataset.head()"
      ],
      "metadata": {
        "colab": {
          "base_uri": "https://localhost:8080/",
          "height": 206
        },
        "id": "ZWUiuxY5Ufjt",
        "outputId": "2250dfd8-123a-47a5-df86-55026fb849aa"
      },
      "execution_count": 7,
      "outputs": [
        {
          "output_type": "execute_result",
          "data": {
            "text/plain": [
              "        Date       Open       High        Low      Close  Adj Close  \\\n",
              "0  28-Apr-23  33,797.43  34,104.56  33,728.40  34,098.16  34,098.16   \n",
              "1  27-Apr-23  33,381.66  33,859.75  33,374.65  33,826.16  33,826.16   \n",
              "2  26-Apr-23  33,596.34  33,645.83  33,235.85  33,301.87  33,301.87   \n",
              "3  25-Apr-23  33,828.34  33,875.49  33,525.39  33,530.83  33,530.83   \n",
              "4  24-Apr-23  33,805.04  33,891.15  33,726.09  33,875.40  33,875.40   \n",
              "\n",
              "        Volume  Buy_Sell  \n",
              "0  354,310,000        -1  \n",
              "1  343,240,000        -1  \n",
              "2  321,170,000         1  \n",
              "3  297,880,000         1  \n",
              "4  252,020,000        -1  "
            ],
            "text/html": [
              "\n",
              "  <div id=\"df-f9a0e8c1-34bb-4244-9801-3f1fb56cdd71\" class=\"colab-df-container\">\n",
              "    <div>\n",
              "<style scoped>\n",
              "    .dataframe tbody tr th:only-of-type {\n",
              "        vertical-align: middle;\n",
              "    }\n",
              "\n",
              "    .dataframe tbody tr th {\n",
              "        vertical-align: top;\n",
              "    }\n",
              "\n",
              "    .dataframe thead th {\n",
              "        text-align: right;\n",
              "    }\n",
              "</style>\n",
              "<table border=\"1\" class=\"dataframe\">\n",
              "  <thead>\n",
              "    <tr style=\"text-align: right;\">\n",
              "      <th></th>\n",
              "      <th>Date</th>\n",
              "      <th>Open</th>\n",
              "      <th>High</th>\n",
              "      <th>Low</th>\n",
              "      <th>Close</th>\n",
              "      <th>Adj Close</th>\n",
              "      <th>Volume</th>\n",
              "      <th>Buy_Sell</th>\n",
              "    </tr>\n",
              "  </thead>\n",
              "  <tbody>\n",
              "    <tr>\n",
              "      <th>0</th>\n",
              "      <td>28-Apr-23</td>\n",
              "      <td>33,797.43</td>\n",
              "      <td>34,104.56</td>\n",
              "      <td>33,728.40</td>\n",
              "      <td>34,098.16</td>\n",
              "      <td>34,098.16</td>\n",
              "      <td>354,310,000</td>\n",
              "      <td>-1</td>\n",
              "    </tr>\n",
              "    <tr>\n",
              "      <th>1</th>\n",
              "      <td>27-Apr-23</td>\n",
              "      <td>33,381.66</td>\n",
              "      <td>33,859.75</td>\n",
              "      <td>33,374.65</td>\n",
              "      <td>33,826.16</td>\n",
              "      <td>33,826.16</td>\n",
              "      <td>343,240,000</td>\n",
              "      <td>-1</td>\n",
              "    </tr>\n",
              "    <tr>\n",
              "      <th>2</th>\n",
              "      <td>26-Apr-23</td>\n",
              "      <td>33,596.34</td>\n",
              "      <td>33,645.83</td>\n",
              "      <td>33,235.85</td>\n",
              "      <td>33,301.87</td>\n",
              "      <td>33,301.87</td>\n",
              "      <td>321,170,000</td>\n",
              "      <td>1</td>\n",
              "    </tr>\n",
              "    <tr>\n",
              "      <th>3</th>\n",
              "      <td>25-Apr-23</td>\n",
              "      <td>33,828.34</td>\n",
              "      <td>33,875.49</td>\n",
              "      <td>33,525.39</td>\n",
              "      <td>33,530.83</td>\n",
              "      <td>33,530.83</td>\n",
              "      <td>297,880,000</td>\n",
              "      <td>1</td>\n",
              "    </tr>\n",
              "    <tr>\n",
              "      <th>4</th>\n",
              "      <td>24-Apr-23</td>\n",
              "      <td>33,805.04</td>\n",
              "      <td>33,891.15</td>\n",
              "      <td>33,726.09</td>\n",
              "      <td>33,875.40</td>\n",
              "      <td>33,875.40</td>\n",
              "      <td>252,020,000</td>\n",
              "      <td>-1</td>\n",
              "    </tr>\n",
              "  </tbody>\n",
              "</table>\n",
              "</div>\n",
              "    <div class=\"colab-df-buttons\">\n",
              "\n",
              "  <div class=\"colab-df-container\">\n",
              "    <button class=\"colab-df-convert\" onclick=\"convertToInteractive('df-f9a0e8c1-34bb-4244-9801-3f1fb56cdd71')\"\n",
              "            title=\"Convert this dataframe to an interactive table.\"\n",
              "            style=\"display:none;\">\n",
              "\n",
              "  <svg xmlns=\"http://www.w3.org/2000/svg\" height=\"24px\" viewBox=\"0 -960 960 960\">\n",
              "    <path d=\"M120-120v-720h720v720H120Zm60-500h600v-160H180v160Zm220 220h160v-160H400v160Zm0 220h160v-160H400v160ZM180-400h160v-160H180v160Zm440 0h160v-160H620v160ZM180-180h160v-160H180v160Zm440 0h160v-160H620v160Z\"/>\n",
              "  </svg>\n",
              "    </button>\n",
              "\n",
              "  <style>\n",
              "    .colab-df-container {\n",
              "      display:flex;\n",
              "      gap: 12px;\n",
              "    }\n",
              "\n",
              "    .colab-df-convert {\n",
              "      background-color: #E8F0FE;\n",
              "      border: none;\n",
              "      border-radius: 50%;\n",
              "      cursor: pointer;\n",
              "      display: none;\n",
              "      fill: #1967D2;\n",
              "      height: 32px;\n",
              "      padding: 0 0 0 0;\n",
              "      width: 32px;\n",
              "    }\n",
              "\n",
              "    .colab-df-convert:hover {\n",
              "      background-color: #E2EBFA;\n",
              "      box-shadow: 0px 1px 2px rgba(60, 64, 67, 0.3), 0px 1px 3px 1px rgba(60, 64, 67, 0.15);\n",
              "      fill: #174EA6;\n",
              "    }\n",
              "\n",
              "    .colab-df-buttons div {\n",
              "      margin-bottom: 4px;\n",
              "    }\n",
              "\n",
              "    [theme=dark] .colab-df-convert {\n",
              "      background-color: #3B4455;\n",
              "      fill: #D2E3FC;\n",
              "    }\n",
              "\n",
              "    [theme=dark] .colab-df-convert:hover {\n",
              "      background-color: #434B5C;\n",
              "      box-shadow: 0px 1px 3px 1px rgba(0, 0, 0, 0.15);\n",
              "      filter: drop-shadow(0px 1px 2px rgba(0, 0, 0, 0.3));\n",
              "      fill: #FFFFFF;\n",
              "    }\n",
              "  </style>\n",
              "\n",
              "    <script>\n",
              "      const buttonEl =\n",
              "        document.querySelector('#df-f9a0e8c1-34bb-4244-9801-3f1fb56cdd71 button.colab-df-convert');\n",
              "      buttonEl.style.display =\n",
              "        google.colab.kernel.accessAllowed ? 'block' : 'none';\n",
              "\n",
              "      async function convertToInteractive(key) {\n",
              "        const element = document.querySelector('#df-f9a0e8c1-34bb-4244-9801-3f1fb56cdd71');\n",
              "        const dataTable =\n",
              "          await google.colab.kernel.invokeFunction('convertToInteractive',\n",
              "                                                    [key], {});\n",
              "        if (!dataTable) return;\n",
              "\n",
              "        const docLinkHtml = 'Like what you see? Visit the ' +\n",
              "          '<a target=\"_blank\" href=https://colab.research.google.com/notebooks/data_table.ipynb>data table notebook</a>'\n",
              "          + ' to learn more about interactive tables.';\n",
              "        element.innerHTML = '';\n",
              "        dataTable['output_type'] = 'display_data';\n",
              "        await google.colab.output.renderOutput(dataTable, element);\n",
              "        const docLink = document.createElement('div');\n",
              "        docLink.innerHTML = docLinkHtml;\n",
              "        element.appendChild(docLink);\n",
              "      }\n",
              "    </script>\n",
              "  </div>\n",
              "\n",
              "\n",
              "<div id=\"df-13b339e1-1df2-4f40-a36f-ac9ce1443ac5\">\n",
              "  <button class=\"colab-df-quickchart\" onclick=\"quickchart('df-13b339e1-1df2-4f40-a36f-ac9ce1443ac5')\"\n",
              "            title=\"Suggest charts\"\n",
              "            style=\"display:none;\">\n",
              "\n",
              "<svg xmlns=\"http://www.w3.org/2000/svg\" height=\"24px\"viewBox=\"0 0 24 24\"\n",
              "     width=\"24px\">\n",
              "    <g>\n",
              "        <path d=\"M19 3H5c-1.1 0-2 .9-2 2v14c0 1.1.9 2 2 2h14c1.1 0 2-.9 2-2V5c0-1.1-.9-2-2-2zM9 17H7v-7h2v7zm4 0h-2V7h2v10zm4 0h-2v-4h2v4z\"/>\n",
              "    </g>\n",
              "</svg>\n",
              "  </button>\n",
              "\n",
              "<style>\n",
              "  .colab-df-quickchart {\n",
              "      --bg-color: #E8F0FE;\n",
              "      --fill-color: #1967D2;\n",
              "      --hover-bg-color: #E2EBFA;\n",
              "      --hover-fill-color: #174EA6;\n",
              "      --disabled-fill-color: #AAA;\n",
              "      --disabled-bg-color: #DDD;\n",
              "  }\n",
              "\n",
              "  [theme=dark] .colab-df-quickchart {\n",
              "      --bg-color: #3B4455;\n",
              "      --fill-color: #D2E3FC;\n",
              "      --hover-bg-color: #434B5C;\n",
              "      --hover-fill-color: #FFFFFF;\n",
              "      --disabled-bg-color: #3B4455;\n",
              "      --disabled-fill-color: #666;\n",
              "  }\n",
              "\n",
              "  .colab-df-quickchart {\n",
              "    background-color: var(--bg-color);\n",
              "    border: none;\n",
              "    border-radius: 50%;\n",
              "    cursor: pointer;\n",
              "    display: none;\n",
              "    fill: var(--fill-color);\n",
              "    height: 32px;\n",
              "    padding: 0;\n",
              "    width: 32px;\n",
              "  }\n",
              "\n",
              "  .colab-df-quickchart:hover {\n",
              "    background-color: var(--hover-bg-color);\n",
              "    box-shadow: 0 1px 2px rgba(60, 64, 67, 0.3), 0 1px 3px 1px rgba(60, 64, 67, 0.15);\n",
              "    fill: var(--button-hover-fill-color);\n",
              "  }\n",
              "\n",
              "  .colab-df-quickchart-complete:disabled,\n",
              "  .colab-df-quickchart-complete:disabled:hover {\n",
              "    background-color: var(--disabled-bg-color);\n",
              "    fill: var(--disabled-fill-color);\n",
              "    box-shadow: none;\n",
              "  }\n",
              "\n",
              "  .colab-df-spinner {\n",
              "    border: 2px solid var(--fill-color);\n",
              "    border-color: transparent;\n",
              "    border-bottom-color: var(--fill-color);\n",
              "    animation:\n",
              "      spin 1s steps(1) infinite;\n",
              "  }\n",
              "\n",
              "  @keyframes spin {\n",
              "    0% {\n",
              "      border-color: transparent;\n",
              "      border-bottom-color: var(--fill-color);\n",
              "      border-left-color: var(--fill-color);\n",
              "    }\n",
              "    20% {\n",
              "      border-color: transparent;\n",
              "      border-left-color: var(--fill-color);\n",
              "      border-top-color: var(--fill-color);\n",
              "    }\n",
              "    30% {\n",
              "      border-color: transparent;\n",
              "      border-left-color: var(--fill-color);\n",
              "      border-top-color: var(--fill-color);\n",
              "      border-right-color: var(--fill-color);\n",
              "    }\n",
              "    40% {\n",
              "      border-color: transparent;\n",
              "      border-right-color: var(--fill-color);\n",
              "      border-top-color: var(--fill-color);\n",
              "    }\n",
              "    60% {\n",
              "      border-color: transparent;\n",
              "      border-right-color: var(--fill-color);\n",
              "    }\n",
              "    80% {\n",
              "      border-color: transparent;\n",
              "      border-right-color: var(--fill-color);\n",
              "      border-bottom-color: var(--fill-color);\n",
              "    }\n",
              "    90% {\n",
              "      border-color: transparent;\n",
              "      border-bottom-color: var(--fill-color);\n",
              "    }\n",
              "  }\n",
              "</style>\n",
              "\n",
              "  <script>\n",
              "    async function quickchart(key) {\n",
              "      const quickchartButtonEl =\n",
              "        document.querySelector('#' + key + ' button');\n",
              "      quickchartButtonEl.disabled = true;  // To prevent multiple clicks.\n",
              "      quickchartButtonEl.classList.add('colab-df-spinner');\n",
              "      try {\n",
              "        const charts = await google.colab.kernel.invokeFunction(\n",
              "            'suggestCharts', [key], {});\n",
              "      } catch (error) {\n",
              "        console.error('Error during call to suggestCharts:', error);\n",
              "      }\n",
              "      quickchartButtonEl.classList.remove('colab-df-spinner');\n",
              "      quickchartButtonEl.classList.add('colab-df-quickchart-complete');\n",
              "    }\n",
              "    (() => {\n",
              "      let quickchartButtonEl =\n",
              "        document.querySelector('#df-13b339e1-1df2-4f40-a36f-ac9ce1443ac5 button');\n",
              "      quickchartButtonEl.style.display =\n",
              "        google.colab.kernel.accessAllowed ? 'block' : 'none';\n",
              "    })();\n",
              "  </script>\n",
              "</div>\n",
              "\n",
              "    </div>\n",
              "  </div>\n"
            ],
            "application/vnd.google.colaboratory.intrinsic+json": {
              "type": "dataframe",
              "variable_name": "dataset",
              "summary": "{\n  \"name\": \"dataset\",\n  \"rows\": 1258,\n  \"fields\": [\n    {\n      \"column\": \"Date\",\n      \"properties\": {\n        \"dtype\": \"object\",\n        \"num_unique_values\": 1258,\n        \"samples\": [\n          \"4-Feb-21\",\n          \"1-Dec-22\",\n          \"14-Feb-23\"\n        ],\n        \"semantic_type\": \"\",\n        \"description\": \"\"\n      }\n    },\n    {\n      \"column\": \"Open\",\n      \"properties\": {\n        \"dtype\": \"string\",\n        \"num_unique_values\": 1258,\n        \"samples\": [\n          \"30,737.78\",\n          \"34,533.59\",\n          \"34,194.09\"\n        ],\n        \"semantic_type\": \"\",\n        \"description\": \"\"\n      }\n    },\n    {\n      \"column\": \"High\",\n      \"properties\": {\n        \"dtype\": \"string\",\n        \"num_unique_values\": 1258,\n        \"samples\": [\n          \"31,065.96\",\n          \"34,595.51\",\n          \"34,331.47\"\n        ],\n        \"semantic_type\": \"\",\n        \"description\": \"\"\n      }\n    },\n    {\n      \"column\": \"Low\",\n      \"properties\": {\n        \"dtype\": \"string\",\n        \"num_unique_values\": 1255,\n        \"samples\": [\n          \"25,092.43\",\n          \"34,129.35\",\n          \"33,827.45\"\n        ],\n        \"semantic_type\": \"\",\n        \"description\": \"\"\n      }\n    },\n    {\n      \"column\": \"Close\",\n      \"properties\": {\n        \"dtype\": \"string\",\n        \"num_unique_values\": 1255,\n        \"samples\": [\n          \"25,241.94\",\n          \"34,395.01\",\n          \"34,089.27\"\n        ],\n        \"semantic_type\": \"\",\n        \"description\": \"\"\n      }\n    },\n    {\n      \"column\": \"Adj Close\",\n      \"properties\": {\n        \"dtype\": \"string\",\n        \"num_unique_values\": 1255,\n        \"samples\": [\n          \"25,241.94\",\n          \"34,395.01\",\n          \"34,089.27\"\n        ],\n        \"semantic_type\": \"\",\n        \"description\": \"\"\n      }\n    },\n    {\n      \"column\": \"Volume\",\n      \"properties\": {\n        \"dtype\": \"string\",\n        \"num_unique_values\": 1219,\n        \"samples\": [\n          \"387,210,000\",\n          \"264,110,000\",\n          \"243,660,000\"\n        ],\n        \"semantic_type\": \"\",\n        \"description\": \"\"\n      }\n    },\n    {\n      \"column\": \"Buy_Sell\",\n      \"properties\": {\n        \"dtype\": \"number\",\n        \"std\": 0,\n        \"min\": -1,\n        \"max\": 1,\n        \"num_unique_values\": 2,\n        \"samples\": [\n          1,\n          -1\n        ],\n        \"semantic_type\": \"\",\n        \"description\": \"\"\n      }\n    }\n  ]\n}"
            }
          },
          "metadata": {},
          "execution_count": 7
        }
      ]
    },
    {
      "cell_type": "markdown",
      "source": [
        "# **Dataset Cleaning and Null Value Testing**"
      ],
      "metadata": {
        "id": "_nhErKSmVoFu"
      }
    },
    {
      "cell_type": "code",
      "source": [
        "# See how many null values in each column\n",
        "\n",
        "dataset.isnull().sum()"
      ],
      "metadata": {
        "colab": {
          "base_uri": "https://localhost:8080/"
        },
        "id": "GJs7-n_YVrh_",
        "outputId": "9d8e0704-36f4-4dea-c033-7c6ef312b6b3"
      },
      "execution_count": 8,
      "outputs": [
        {
          "output_type": "execute_result",
          "data": {
            "text/plain": [
              "Date         0\n",
              "Open         0\n",
              "High         0\n",
              "Low          0\n",
              "Close        0\n",
              "Adj Close    0\n",
              "Volume       0\n",
              "Buy_Sell     0\n",
              "dtype: int64"
            ]
          },
          "metadata": {},
          "execution_count": 8
        }
      ]
    },
    {
      "cell_type": "code",
      "source": [
        "plt.figure(figsize=(12,4))\n",
        "sns.heatmap(dataset.isnull(), yticklabels=False,cbar=False,cmap='viridis')\n",
        "plt.savefig(\"Figure 1: Heatmap for Null Values\")"
      ],
      "metadata": {
        "colab": {
          "base_uri": "https://localhost:8080/",
          "height": 368
        },
        "id": "TgHSYZvmVzNd",
        "outputId": "20b192dc-e9a0-4dc3-e3e1-f75437cff893"
      },
      "execution_count": 9,
      "outputs": [
        {
          "output_type": "display_data",
          "data": {
            "text/plain": [
              "<Figure size 1200x400 with 1 Axes>"
            ],
            "image/png": "[encoded data removed]"
          },
          "metadata": {}
        }
      ]
    }
  ]
}