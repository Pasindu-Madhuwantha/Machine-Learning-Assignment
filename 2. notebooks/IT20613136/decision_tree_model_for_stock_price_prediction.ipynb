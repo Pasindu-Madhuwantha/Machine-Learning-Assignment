{
 "cells": [
  {
   "cell_type": "markdown",
   "id": "0bf2e13e-9e71-4868-a3b4-9c2bc0fe48d7",
   "metadata": {},
   "source": [
    "# 📉📊📈Stock Price Prediction with Machine Learning Models📉📊📈"
   ]
  },
  {
   "cell_type": "markdown",
   "id": "aa9194e6-6c56-48dc-9259-cdcd31b184ab",
   "metadata": {},
   "source": [
    "Because of its complexity and difficulty, forecasting stock prices fascinates researchers and industry specialists from a variety of fields, including computer science, economics, business arithmetic, and marketing. Despite considerable attempts over the last decade, stock market price forecasting remains difficult due to the intrinsic random wandering nature of market prices. Stock price volatility creates significant challenges for precise forecasting. Nonetheless, establishing efficient and accurate forecasting models is critical for managers, investors, and decision-makers to make sound investment decisions. Analysts use machine learning techniques to evaluate historical data and uncover patterns and trends that might assist forecast future stock performance. Researchers try to create prediction models that can efficiently manage the unpredictable nature of stock markets by combining current and historical data."
   ]
  },
  {
   "cell_type": "markdown",
   "id": "d994d7e2-c73b-4d68-80cb-b1d6bc7bb33d",
   "metadata": {},
   "source": [
    "<br/>"
   ]
  },
  {
   "cell_type": "markdown",
   "id": "12b73d55-90d9-4dc9-aa40-ec4415839605",
   "metadata": {},
   "source": [
    "## 📈 Decision Tree Model 📉"
   ]
  },
  {
   "cell_type": "markdown",
   "id": "ad6d1fb4-f2f8-4fdc-a0d3-ab1a41847636",
   "metadata": {},
   "source": [
    "### Import libraries"
   ]
  },
  {
   "cell_type": "code",
   "execution_count": 34,
   "id": "e6bcd6f7-81c7-4ea0-b861-cba71ad70dd0",
   "metadata": {},
   "outputs": [],
   "source": [
    "import numpy as np\n",
    "import pandas as pd\n",
    "from sklearn.model_selection import train_test_split\n",
    "from sklearn.tree import DecisionTreeRegressor \n",
    "\n",
    "# MATPLOTLIB FOR GRAPH-PLOTTING\n",
    "import matplotlib.pyplot as plt\n",
    "%matplotlib inline"
   ]
  },
  {
   "cell_type": "markdown",
   "id": "002fbcef-81a1-4e24-ab3b-99e0f2fe8fe3",
   "metadata": {},
   "source": [
    "### Load dataset"
   ]
  },
  {
   "cell_type": "code",
   "execution_count": 3,
   "id": "f391b1c1-d494-4427-a04d-77cbe8722650",
   "metadata": {},
   "outputs": [],
   "source": [
    "DATASET_FILE_PATH = './yahoo_data.csv'"
   ]
  },
  {
   "cell_type": "code",
   "execution_count": 4,
   "id": "447dc5bb-52e7-4f05-990d-ead95256a1fc",
   "metadata": {
    "scrolled": true
   },
   "outputs": [
    {
     "data": {
      "text/html": [
       "<style type=\"text/css\">\n",
       "</style>\n",
       "<table id=\"T_0330b\">\n",
       "  <thead>\n",
       "    <tr>\n",
       "      <th class=\"blank level0\" >&nbsp;</th>\n",
       "      <th id=\"T_0330b_level0_col0\" class=\"col_heading level0 col0\" >Date</th>\n",
       "      <th id=\"T_0330b_level0_col1\" class=\"col_heading level0 col1\" >Open</th>\n",
       "      <th id=\"T_0330b_level0_col2\" class=\"col_heading level0 col2\" >High</th>\n",
       "      <th id=\"T_0330b_level0_col3\" class=\"col_heading level0 col3\" >Low</th>\n",
       "      <th id=\"T_0330b_level0_col4\" class=\"col_heading level0 col4\" >Close</th>\n",
       "      <th id=\"T_0330b_level0_col5\" class=\"col_heading level0 col5\" >Adj Close</th>\n",
       "      <th id=\"T_0330b_level0_col6\" class=\"col_heading level0 col6\" >Volume</th>\n",
       "    </tr>\n",
       "  </thead>\n",
       "  <tbody>\n",
       "    <tr>\n",
       "      <th id=\"T_0330b_level0_row0\" class=\"row_heading level0 row0\" >0</th>\n",
       "      <td id=\"T_0330b_row0_col0\" class=\"data row0 col0\" >2023-04-28</td>\n",
       "      <td id=\"T_0330b_row0_col1\" class=\"data row0 col1\" >33,797.43</td>\n",
       "      <td id=\"T_0330b_row0_col2\" class=\"data row0 col2\" >34,104.56</td>\n",
       "      <td id=\"T_0330b_row0_col3\" class=\"data row0 col3\" >33,728.40</td>\n",
       "      <td id=\"T_0330b_row0_col4\" class=\"data row0 col4\" >34,098.16</td>\n",
       "      <td id=\"T_0330b_row0_col5\" class=\"data row0 col5\" >34,098.16</td>\n",
       "      <td id=\"T_0330b_row0_col6\" class=\"data row0 col6\" >354,310,000</td>\n",
       "    </tr>\n",
       "    <tr>\n",
       "      <th id=\"T_0330b_level0_row1\" class=\"row_heading level0 row1\" >1</th>\n",
       "      <td id=\"T_0330b_row1_col0\" class=\"data row1 col0\" >2023-04-27</td>\n",
       "      <td id=\"T_0330b_row1_col1\" class=\"data row1 col1\" >33,381.66</td>\n",
       "      <td id=\"T_0330b_row1_col2\" class=\"data row1 col2\" >33,859.75</td>\n",
       "      <td id=\"T_0330b_row1_col3\" class=\"data row1 col3\" >33,374.65</td>\n",
       "      <td id=\"T_0330b_row1_col4\" class=\"data row1 col4\" >33,826.16</td>\n",
       "      <td id=\"T_0330b_row1_col5\" class=\"data row1 col5\" >33,826.16</td>\n",
       "      <td id=\"T_0330b_row1_col6\" class=\"data row1 col6\" >343,240,000</td>\n",
       "    </tr>\n",
       "    <tr>\n",
       "      <th id=\"T_0330b_level0_row2\" class=\"row_heading level0 row2\" >2</th>\n",
       "      <td id=\"T_0330b_row2_col0\" class=\"data row2 col0\" >2023-04-26</td>\n",
       "      <td id=\"T_0330b_row2_col1\" class=\"data row2 col1\" >33,596.34</td>\n",
       "      <td id=\"T_0330b_row2_col2\" class=\"data row2 col2\" >33,645.83</td>\n",
       "      <td id=\"T_0330b_row2_col3\" class=\"data row2 col3\" >33,235.85</td>\n",
       "      <td id=\"T_0330b_row2_col4\" class=\"data row2 col4\" >33,301.87</td>\n",
       "      <td id=\"T_0330b_row2_col5\" class=\"data row2 col5\" >33,301.87</td>\n",
       "      <td id=\"T_0330b_row2_col6\" class=\"data row2 col6\" >321,170,000</td>\n",
       "    </tr>\n",
       "    <tr>\n",
       "      <th id=\"T_0330b_level0_row3\" class=\"row_heading level0 row3\" >3</th>\n",
       "      <td id=\"T_0330b_row3_col0\" class=\"data row3 col0\" >2023-04-25</td>\n",
       "      <td id=\"T_0330b_row3_col1\" class=\"data row3 col1\" >33,828.34</td>\n",
       "      <td id=\"T_0330b_row3_col2\" class=\"data row3 col2\" >33,875.49</td>\n",
       "      <td id=\"T_0330b_row3_col3\" class=\"data row3 col3\" >33,525.39</td>\n",
       "      <td id=\"T_0330b_row3_col4\" class=\"data row3 col4\" >33,530.83</td>\n",
       "      <td id=\"T_0330b_row3_col5\" class=\"data row3 col5\" >33,530.83</td>\n",
       "      <td id=\"T_0330b_row3_col6\" class=\"data row3 col6\" >297,880,000</td>\n",
       "    </tr>\n",
       "    <tr>\n",
       "      <th id=\"T_0330b_level0_row4\" class=\"row_heading level0 row4\" >4</th>\n",
       "      <td id=\"T_0330b_row4_col0\" class=\"data row4 col0\" >2023-04-24</td>\n",
       "      <td id=\"T_0330b_row4_col1\" class=\"data row4 col1\" >33,805.04</td>\n",
       "      <td id=\"T_0330b_row4_col2\" class=\"data row4 col2\" >33,891.15</td>\n",
       "      <td id=\"T_0330b_row4_col3\" class=\"data row4 col3\" >33,726.09</td>\n",
       "      <td id=\"T_0330b_row4_col4\" class=\"data row4 col4\" >33,875.40</td>\n",
       "      <td id=\"T_0330b_row4_col5\" class=\"data row4 col5\" >33,875.40</td>\n",
       "      <td id=\"T_0330b_row4_col6\" class=\"data row4 col6\" >252,020,000</td>\n",
       "    </tr>\n",
       "  </tbody>\n",
       "</table>\n"
      ],
      "text/plain": [
       "<pandas.io.formats.style.Styler at 0x1f7f0c4db10>"
      ]
     },
     "execution_count": 4,
     "metadata": {},
     "output_type": "execute_result"
    }
   ],
   "source": [
    "# Read the CSV file into a DataFrame\n",
    "df = pd.read_csv(DATASET_FILE_PATH)\n",
    "\n",
    "# Display the first few rows of the DataFrame and format the date column\n",
    "df.head().style.format({'Date': lambda x: pd.to_datetime(x).strftime('%Y-%m-%d')})"
   ]
  },
  {
   "cell_type": "markdown",
   "id": "f9de2822-2779-41ec-bda0-0e97c7fd8e28",
   "metadata": {},
   "source": [
    "### Data Preprocessing"
   ]
  },
  {
   "cell_type": "code",
   "execution_count": 7,
   "id": "1a14986f-441e-44f6-bb19-c0dd33b42e33",
   "metadata": {},
   "outputs": [],
   "source": [
    "# Convert 'Date' column to datetime type\n",
    "df['Date'] = pd.to_datetime(df['Date'])\n",
    "\n",
    "# Remove commas and convert columns to numeric type\n",
    "df['Open'] = df['Open'].replace(',', '', regex=True).astype(float)\n",
    "df['High'] = df['High'].replace(',', '', regex=True).astype(float)\n",
    "df['Low'] = df['Low'].replace(',', '', regex=True).astype(float)\n",
    "df['Close'] = df['Close'].replace(',', '', regex=True).astype(float)\n",
    "df['Adj Close'] = df['Adj Close'].replace(',', '', regex=True).astype(float)\n",
    "df['Volume'] = df['Volume'].replace(',', '', regex=True).astype(int)"
   ]
  },
  {
   "cell_type": "code",
   "execution_count": 36,
   "id": "a4a40efe-9e0c-4fe8-891e-44621c4dd0a2",
   "metadata": {},
   "outputs": [],
   "source": [
    "df['Increase_Decrease'] = np.where(df['Volume'].shift(-1) > df['Volume'], 1, 0)\n",
    "df['Buy_Sell_on_Open'] = np.where(df['Open'].shift(-1) > df['Open'], 1, -1)\n",
    "df['Buy_Sell'] = np.where(df['Adj Close'].shift(-1) > df['Adj Close'], 1, -1)\n",
    "df['Return'] = df['Adj Close'].pct_change()"
   ]
  }
 ],
 "metadata": {
  "kernelspec": {
   "display_name": "Python 3 (ipykernel)",
   "language": "python",
   "name": "python3"
  },
  "language_info": {
   "codemirror_mode": {
    "name": "ipython",
    "version": 3
   },
   "file_extension": ".py",
   "mimetype": "text/x-python",
   "name": "python",
   "nbconvert_exporter": "python",
   "pygments_lexer": "ipython3",
   "version": "3.10.13"
  }
 },
 "nbformat": 4,
 "nbformat_minor": 5
}
