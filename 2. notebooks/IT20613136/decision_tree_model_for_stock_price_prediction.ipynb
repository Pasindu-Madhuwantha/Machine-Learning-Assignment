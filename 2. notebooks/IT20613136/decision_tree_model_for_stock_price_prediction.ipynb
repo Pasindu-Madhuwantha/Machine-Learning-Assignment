{
 "cells": [
  {
   "cell_type": "markdown",
   "id": "0bf2e13e-9e71-4868-a3b4-9c2bc0fe48d7",
   "metadata": {},
   "source": [
    "# 📉📊📈Stock Price Prediction with Machine Learning Models📉📊📈"
   ]
  },
  {
   "cell_type": "markdown",
   "id": "aa9194e6-6c56-48dc-9259-cdcd31b184ab",
   "metadata": {},
   "source": [
    "Because of its complexity and difficulty, forecasting stock prices fascinates researchers and industry specialists from a variety of fields, including computer science, economics, business arithmetic, and marketing. Despite considerable attempts over the last decade, stock market price forecasting remains difficult due to the intrinsic random wandering nature of market prices. Stock price volatility creates significant challenges for precise forecasting. Nonetheless, establishing efficient and accurate forecasting models is critical for managers, investors, and decision-makers to make sound investment decisions. Analysts use machine learning techniques to evaluate historical data and uncover patterns and trends that might assist forecast future stock performance. Researchers try to create prediction models that can efficiently manage the unpredictable nature of stock markets by combining current and historical data."
   ]
  },
  {
   "cell_type": "markdown",
   "id": "d994d7e2-c73b-4d68-80cb-b1d6bc7bb33d",
   "metadata": {},
   "source": [
    "<br/>"
   ]
  },
  {
   "cell_type": "markdown",
   "id": "12b73d55-90d9-4dc9-aa40-ec4415839605",
   "metadata": {},
   "source": [
    "## 📈 Decision Tree Model 📉"
   ]
  },
  {
   "cell_type": "markdown",
   "id": "ad6d1fb4-f2f8-4fdc-a0d3-ab1a41847636",
   "metadata": {},
   "source": [
    "### Import libraries"
   ]
  },
  {
   "cell_type": "code",
   "execution_count": 34,
   "id": "e6bcd6f7-81c7-4ea0-b861-cba71ad70dd0",
   "metadata": {},
   "outputs": [],
   "source": [
    "import numpy as np\n",
    "import pandas as pd\n",
    "from sklearn.model_selection import train_test_split\n",
    "from sklearn.tree import DecisionTreeRegressor \n",
    "\n",
    "# MATPLOTLIB FOR GRAPH-PLOTTING\n",
    "import matplotlib.pyplot as plt\n",
    "%matplotlib inline"
   ]
  },
  {
   "cell_type": "markdown",
   "id": "002fbcef-81a1-4e24-ab3b-99e0f2fe8fe3",
   "metadata": {},
   "source": [
    "### Load dataset"
   ]
  },
  {
   "cell_type": "code",
   "execution_count": 3,
   "id": "f391b1c1-d494-4427-a04d-77cbe8722650",
   "metadata": {},
   "outputs": [],
   "source": [
    "DATASET_FILE_PATH = './yahoo_data.csv'"
   ]
  },
  {
   "cell_type": "code",
   "execution_count": 4,
   "id": "447dc5bb-52e7-4f05-990d-ead95256a1fc",
   "metadata": {
    "scrolled": true
   },
   "outputs": [
    {
     "data": {
      "text/html": [
       "<style type=\"text/css\">\n",
       "</style>\n",
       "<table id=\"T_0330b\">\n",
       "  <thead>\n",
       "    <tr>\n",
       "      <th class=\"blank level0\" >&nbsp;</th>\n",
       "      <th id=\"T_0330b_level0_col0\" class=\"col_heading level0 col0\" >Date</th>\n",
       "      <th id=\"T_0330b_level0_col1\" class=\"col_heading level0 col1\" >Open</th>\n",
       "      <th id=\"T_0330b_level0_col2\" class=\"col_heading level0 col2\" >High</th>\n",
       "      <th id=\"T_0330b_level0_col3\" class=\"col_heading level0 col3\" >Low</th>\n",
       "      <th id=\"T_0330b_level0_col4\" class=\"col_heading level0 col4\" >Close</th>\n",
       "      <th id=\"T_0330b_level0_col5\" class=\"col_heading level0 col5\" >Adj Close</th>\n",
       "      <th id=\"T_0330b_level0_col6\" class=\"col_heading level0 col6\" >Volume</th>\n",
       "    </tr>\n",
       "  </thead>\n",
       "  <tbody>\n",
       "    <tr>\n",
       "      <th id=\"T_0330b_level0_row0\" class=\"row_heading level0 row0\" >0</th>\n",
       "      <td id=\"T_0330b_row0_col0\" class=\"data row0 col0\" >2023-04-28</td>\n",
       "      <td id=\"T_0330b_row0_col1\" class=\"data row0 col1\" >33,797.43</td>\n",
       "      <td id=\"T_0330b_row0_col2\" class=\"data row0 col2\" >34,104.56</td>\n",
       "      <td id=\"T_0330b_row0_col3\" class=\"data row0 col3\" >33,728.40</td>\n",
       "      <td id=\"T_0330b_row0_col4\" class=\"data row0 col4\" >34,098.16</td>\n",
       "      <td id=\"T_0330b_row0_col5\" class=\"data row0 col5\" >34,098.16</td>\n",
       "      <td id=\"T_0330b_row0_col6\" class=\"data row0 col6\" >354,310,000</td>\n",
       "    </tr>\n",
       "    <tr>\n",
       "      <th id=\"T_0330b_level0_row1\" class=\"row_heading level0 row1\" >1</th>\n",
       "      <td id=\"T_0330b_row1_col0\" class=\"data row1 col0\" >2023-04-27</td>\n",
       "      <td id=\"T_0330b_row1_col1\" class=\"data row1 col1\" >33,381.66</td>\n",
       "      <td id=\"T_0330b_row1_col2\" class=\"data row1 col2\" >33,859.75</td>\n",
       "      <td id=\"T_0330b_row1_col3\" class=\"data row1 col3\" >33,374.65</td>\n",
       "      <td id=\"T_0330b_row1_col4\" class=\"data row1 col4\" >33,826.16</td>\n",
       "      <td id=\"T_0330b_row1_col5\" class=\"data row1 col5\" >33,826.16</td>\n",
       "      <td id=\"T_0330b_row1_col6\" class=\"data row1 col6\" >343,240,000</td>\n",
       "    </tr>\n",
       "    <tr>\n",
       "      <th id=\"T_0330b_level0_row2\" class=\"row_heading level0 row2\" >2</th>\n",
       "      <td id=\"T_0330b_row2_col0\" class=\"data row2 col0\" >2023-04-26</td>\n",
       "      <td id=\"T_0330b_row2_col1\" class=\"data row2 col1\" >33,596.34</td>\n",
       "      <td id=\"T_0330b_row2_col2\" class=\"data row2 col2\" >33,645.83</td>\n",
       "      <td id=\"T_0330b_row2_col3\" class=\"data row2 col3\" >33,235.85</td>\n",
       "      <td id=\"T_0330b_row2_col4\" class=\"data row2 col4\" >33,301.87</td>\n",
       "      <td id=\"T_0330b_row2_col5\" class=\"data row2 col5\" >33,301.87</td>\n",
       "      <td id=\"T_0330b_row2_col6\" class=\"data row2 col6\" >321,170,000</td>\n",
       "    </tr>\n",
       "    <tr>\n",
       "      <th id=\"T_0330b_level0_row3\" class=\"row_heading level0 row3\" >3</th>\n",
       "      <td id=\"T_0330b_row3_col0\" class=\"data row3 col0\" >2023-04-25</td>\n",
       "      <td id=\"T_0330b_row3_col1\" class=\"data row3 col1\" >33,828.34</td>\n",
       "      <td id=\"T_0330b_row3_col2\" class=\"data row3 col2\" >33,875.49</td>\n",
       "      <td id=\"T_0330b_row3_col3\" class=\"data row3 col3\" >33,525.39</td>\n",
       "      <td id=\"T_0330b_row3_col4\" class=\"data row3 col4\" >33,530.83</td>\n",
       "      <td id=\"T_0330b_row3_col5\" class=\"data row3 col5\" >33,530.83</td>\n",
       "      <td id=\"T_0330b_row3_col6\" class=\"data row3 col6\" >297,880,000</td>\n",
       "    </tr>\n",
       "    <tr>\n",
       "      <th id=\"T_0330b_level0_row4\" class=\"row_heading level0 row4\" >4</th>\n",
       "      <td id=\"T_0330b_row4_col0\" class=\"data row4 col0\" >2023-04-24</td>\n",
       "      <td id=\"T_0330b_row4_col1\" class=\"data row4 col1\" >33,805.04</td>\n",
       "      <td id=\"T_0330b_row4_col2\" class=\"data row4 col2\" >33,891.15</td>\n",
       "      <td id=\"T_0330b_row4_col3\" class=\"data row4 col3\" >33,726.09</td>\n",
       "      <td id=\"T_0330b_row4_col4\" class=\"data row4 col4\" >33,875.40</td>\n",
       "      <td id=\"T_0330b_row4_col5\" class=\"data row4 col5\" >33,875.40</td>\n",
       "      <td id=\"T_0330b_row4_col6\" class=\"data row4 col6\" >252,020,000</td>\n",
       "    </tr>\n",
       "  </tbody>\n",
       "</table>\n"
      ],
      "text/plain": [
       "<pandas.io.formats.style.Styler at 0x1f7f0c4db10>"
      ]
     },
     "execution_count": 4,
     "metadata": {},
     "output_type": "execute_result"
    }
   ],
   "source": [
    "# Read the CSV file into a DataFrame\n",
    "df = pd.read_csv(DATASET_FILE_PATH)\n",
    "\n",
    "# Display the first few rows of the DataFrame and format the date column\n",
    "df.head().style.format({'Date': lambda x: pd.to_datetime(x).strftime('%Y-%m-%d')})"
   ]
  },
  {
   "cell_type": "markdown",
   "id": "f9de2822-2779-41ec-bda0-0e97c7fd8e28",
   "metadata": {},
   "source": [
    "### Data Preprocessing"
   ]
  },
  {
   "cell_type": "code",
   "execution_count": 7,
   "id": "1a14986f-441e-44f6-bb19-c0dd33b42e33",
   "metadata": {},
   "outputs": [],
   "source": [
    "# Convert 'Date' column to datetime type\n",
    "df['Date'] = pd.to_datetime(df['Date'])\n",
    "\n",
    "# Remove commas and convert columns to numeric type\n",
    "df['Open'] = df['Open'].replace(',', '', regex=True).astype(float)\n",
    "df['High'] = df['High'].replace(',', '', regex=True).astype(float)\n",
    "df['Low'] = df['Low'].replace(',', '', regex=True).astype(float)\n",
    "df['Close'] = df['Close'].replace(',', '', regex=True).astype(float)\n",
    "df['Adj Close'] = df['Adj Close'].replace(',', '', regex=True).astype(float)\n",
    "df['Volume'] = df['Volume'].replace(',', '', regex=True).astype(int)"
   ]
  },
  {
   "cell_type": "code",
   "execution_count": 36,
   "id": "a4a40efe-9e0c-4fe8-891e-44621c4dd0a2",
   "metadata": {},
   "outputs": [],
   "source": [
    "df['Increase_Decrease'] = np.where(df['Volume'].shift(-1) > df['Volume'], 1, 0)\n",
    "df['Buy_Sell_on_Open'] = np.where(df['Open'].shift(-1) > df['Open'], 1, -1)\n",
    "df['Buy_Sell'] = np.where(df['Adj Close'].shift(-1) > df['Adj Close'], 1, -1)\n",
    "df['Return'] = df['Adj Close'].pct_change()"
   ]
  },
  {
   "cell_type": "markdown",
   "id": "13cd9ae8-5209-4676-acbc-94b505414275",
   "metadata": {},
   "source": [
    "### Display preprocessed dataset"
   ]
  },
  {
   "cell_type": "code",
   "execution_count": 10,
   "id": "4e809a40-d6a1-4b3f-a4f0-65302fc649e9",
   "metadata": {},
   "outputs": [
    {
     "data": {
      "text/html": [
       "<div>\n",
       "<style scoped>\n",
       "    .dataframe tbody tr th:only-of-type {\n",
       "        vertical-align: middle;\n",
       "    }\n",
       "\n",
       "    .dataframe tbody tr th {\n",
       "        vertical-align: top;\n",
       "    }\n",
       "\n",
       "    .dataframe thead th {\n",
       "        text-align: right;\n",
       "    }\n",
       "</style>\n",
       "<table border=\"1\" class=\"dataframe\">\n",
       "  <thead>\n",
       "    <tr style=\"text-align: right;\">\n",
       "      <th></th>\n",
       "      <th>Date</th>\n",
       "      <th>Open</th>\n",
       "      <th>High</th>\n",
       "      <th>Low</th>\n",
       "      <th>Close</th>\n",
       "      <th>Adj Close</th>\n",
       "      <th>Volume</th>\n",
       "      <th>Increase_Decrease</th>\n",
       "      <th>Buy_Sell_on_Open</th>\n",
       "      <th>Buy_Sell</th>\n",
       "      <th>Return</th>\n",
       "    </tr>\n",
       "  </thead>\n",
       "  <tbody>\n",
       "    <tr>\n",
       "      <th>1</th>\n",
       "      <td>2023-04-27</td>\n",
       "      <td>33381.66</td>\n",
       "      <td>33859.75</td>\n",
       "      <td>33374.65</td>\n",
       "      <td>33826.16</td>\n",
       "      <td>33826.16</td>\n",
       "      <td>343240000</td>\n",
       "      <td>0</td>\n",
       "      <td>1</td>\n",
       "      <td>-1</td>\n",
       "      <td>-0.007977</td>\n",
       "    </tr>\n",
       "    <tr>\n",
       "      <th>2</th>\n",
       "      <td>2023-04-26</td>\n",
       "      <td>33596.34</td>\n",
       "      <td>33645.83</td>\n",
       "      <td>33235.85</td>\n",
       "      <td>33301.87</td>\n",
       "      <td>33301.87</td>\n",
       "      <td>321170000</td>\n",
       "      <td>0</td>\n",
       "      <td>1</td>\n",
       "      <td>1</td>\n",
       "      <td>-0.015500</td>\n",
       "    </tr>\n",
       "    <tr>\n",
       "      <th>3</th>\n",
       "      <td>2023-04-25</td>\n",
       "      <td>33828.34</td>\n",
       "      <td>33875.49</td>\n",
       "      <td>33525.39</td>\n",
       "      <td>33530.83</td>\n",
       "      <td>33530.83</td>\n",
       "      <td>297880000</td>\n",
       "      <td>0</td>\n",
       "      <td>-1</td>\n",
       "      <td>1</td>\n",
       "      <td>0.006875</td>\n",
       "    </tr>\n",
       "    <tr>\n",
       "      <th>4</th>\n",
       "      <td>2023-04-24</td>\n",
       "      <td>33805.04</td>\n",
       "      <td>33891.15</td>\n",
       "      <td>33726.09</td>\n",
       "      <td>33875.40</td>\n",
       "      <td>33875.40</td>\n",
       "      <td>252020000</td>\n",
       "      <td>1</td>\n",
       "      <td>-1</td>\n",
       "      <td>-1</td>\n",
       "      <td>0.010276</td>\n",
       "    </tr>\n",
       "    <tr>\n",
       "      <th>5</th>\n",
       "      <td>2023-04-21</td>\n",
       "      <td>33793.60</td>\n",
       "      <td>33858.83</td>\n",
       "      <td>33688.57</td>\n",
       "      <td>33808.96</td>\n",
       "      <td>33808.96</td>\n",
       "      <td>291080000</td>\n",
       "      <td>1</td>\n",
       "      <td>-1</td>\n",
       "      <td>-1</td>\n",
       "      <td>-0.001961</td>\n",
       "    </tr>\n",
       "    <tr>\n",
       "      <th>...</th>\n",
       "      <td>...</td>\n",
       "      <td>...</td>\n",
       "      <td>...</td>\n",
       "      <td>...</td>\n",
       "      <td>...</td>\n",
       "      <td>...</td>\n",
       "      <td>...</td>\n",
       "      <td>...</td>\n",
       "      <td>...</td>\n",
       "      <td>...</td>\n",
       "      <td>...</td>\n",
       "    </tr>\n",
       "    <tr>\n",
       "      <th>1253</th>\n",
       "      <td>2018-05-07</td>\n",
       "      <td>24317.66</td>\n",
       "      <td>24479.45</td>\n",
       "      <td>24263.42</td>\n",
       "      <td>24357.32</td>\n",
       "      <td>24357.32</td>\n",
       "      <td>307670000</td>\n",
       "      <td>1</td>\n",
       "      <td>-1</td>\n",
       "      <td>-1</td>\n",
       "      <td>-0.000119</td>\n",
       "    </tr>\n",
       "    <tr>\n",
       "      <th>1254</th>\n",
       "      <td>2018-05-04</td>\n",
       "      <td>23865.22</td>\n",
       "      <td>24333.35</td>\n",
       "      <td>23778.87</td>\n",
       "      <td>24262.51</td>\n",
       "      <td>24262.51</td>\n",
       "      <td>329480000</td>\n",
       "      <td>1</td>\n",
       "      <td>-1</td>\n",
       "      <td>-1</td>\n",
       "      <td>-0.003892</td>\n",
       "    </tr>\n",
       "    <tr>\n",
       "      <th>1255</th>\n",
       "      <td>2018-05-03</td>\n",
       "      <td>23836.23</td>\n",
       "      <td>23996.15</td>\n",
       "      <td>23531.31</td>\n",
       "      <td>23930.15</td>\n",
       "      <td>23930.15</td>\n",
       "      <td>389240000</td>\n",
       "      <td>0</td>\n",
       "      <td>1</td>\n",
       "      <td>-1</td>\n",
       "      <td>-0.013699</td>\n",
       "    </tr>\n",
       "    <tr>\n",
       "      <th>1256</th>\n",
       "      <td>2018-05-02</td>\n",
       "      <td>24097.63</td>\n",
       "      <td>24185.52</td>\n",
       "      <td>23886.30</td>\n",
       "      <td>23924.98</td>\n",
       "      <td>23924.98</td>\n",
       "      <td>385350000</td>\n",
       "      <td>0</td>\n",
       "      <td>1</td>\n",
       "      <td>1</td>\n",
       "      <td>-0.000216</td>\n",
       "    </tr>\n",
       "    <tr>\n",
       "      <th>1257</th>\n",
       "      <td>2018-05-01</td>\n",
       "      <td>24117.29</td>\n",
       "      <td>24117.29</td>\n",
       "      <td>23808.19</td>\n",
       "      <td>24099.05</td>\n",
       "      <td>24099.05</td>\n",
       "      <td>380070000</td>\n",
       "      <td>0</td>\n",
       "      <td>-1</td>\n",
       "      <td>-1</td>\n",
       "      <td>0.007276</td>\n",
       "    </tr>\n",
       "  </tbody>\n",
       "</table>\n",
       "<p>1257 rows × 11 columns</p>\n",
       "</div>"
      ],
      "text/plain": [
       "           Date      Open      High       Low     Close  Adj Close     Volume  \\\n",
       "1    2023-04-27  33381.66  33859.75  33374.65  33826.16   33826.16  343240000   \n",
       "2    2023-04-26  33596.34  33645.83  33235.85  33301.87   33301.87  321170000   \n",
       "3    2023-04-25  33828.34  33875.49  33525.39  33530.83   33530.83  297880000   \n",
       "4    2023-04-24  33805.04  33891.15  33726.09  33875.40   33875.40  252020000   \n",
       "5    2023-04-21  33793.60  33858.83  33688.57  33808.96   33808.96  291080000   \n",
       "...         ...       ...       ...       ...       ...        ...        ...   \n",
       "1253 2018-05-07  24317.66  24479.45  24263.42  24357.32   24357.32  307670000   \n",
       "1254 2018-05-04  23865.22  24333.35  23778.87  24262.51   24262.51  329480000   \n",
       "1255 2018-05-03  23836.23  23996.15  23531.31  23930.15   23930.15  389240000   \n",
       "1256 2018-05-02  24097.63  24185.52  23886.30  23924.98   23924.98  385350000   \n",
       "1257 2018-05-01  24117.29  24117.29  23808.19  24099.05   24099.05  380070000   \n",
       "\n",
       "      Increase_Decrease  Buy_Sell_on_Open  Buy_Sell    Return  \n",
       "1                     0                 1        -1 -0.007977  \n",
       "2                     0                 1         1 -0.015500  \n",
       "3                     0                -1         1  0.006875  \n",
       "4                     1                -1        -1  0.010276  \n",
       "5                     1                -1        -1 -0.001961  \n",
       "...                 ...               ...       ...       ...  \n",
       "1253                  1                -1        -1 -0.000119  \n",
       "1254                  1                -1        -1 -0.003892  \n",
       "1255                  0                 1        -1 -0.013699  \n",
       "1256                  0                 1         1 -0.000216  \n",
       "1257                  0                -1        -1  0.007276  \n",
       "\n",
       "[1257 rows x 11 columns]"
      ]
     },
     "execution_count": 10,
     "metadata": {},
     "output_type": "execute_result"
    }
   ],
   "source": [
    "df"
   ]
  },
  {
   "cell_type": "markdown",
   "id": "b1bf58af-4c47-44fa-81df-abbbdfe468c8",
   "metadata": {},
   "source": [
    "### Dataset cleaning and Null value testing"
   ]
  },
  {
   "cell_type": "code",
   "execution_count": 37,
   "id": "05ed4f2f-d1dc-43c8-9c58-e4583c680033",
   "metadata": {},
   "outputs": [
    {
     "data": {
      "text/plain": [
       "Date                 0\n",
       "Open                 0\n",
       "High                 0\n",
       "Low                  0\n",
       "Close                0\n",
       "Adj Close            0\n",
       "Volume               0\n",
       "Increase_Decrease    0\n",
       "Buy_Sell_on_Open     0\n",
       "Buy_Sell             0\n",
       "Return               0\n",
       "dtype: int64"
      ]
     },
     "execution_count": 37,
     "metadata": {},
     "output_type": "execute_result"
    }
   ],
   "source": [
    "df = df.dropna()\n",
    "df.isnull().sum()"
   ]
  }
 ],
 "metadata": {
  "kernelspec": {
   "display_name": "Python 3 (ipykernel)",
   "language": "python",
   "name": "python3"
  },
  "language_info": {
   "codemirror_mode": {
    "name": "ipython",
    "version": 3
   },
   "file_extension": ".py",
   "mimetype": "text/x-python",
   "name": "python",
   "nbconvert_exporter": "python",
   "pygments_lexer": "ipython3",
   "version": "3.10.13"
  }
 },
 "nbformat": 4,
 "nbformat_minor": 5
}
