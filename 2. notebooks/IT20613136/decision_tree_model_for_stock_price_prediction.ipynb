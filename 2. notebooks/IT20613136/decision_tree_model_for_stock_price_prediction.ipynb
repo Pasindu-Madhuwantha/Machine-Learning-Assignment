{
 "cells": [
  {
   "cell_type": "markdown",
   "id": "0bf2e13e-9e71-4868-a3b4-9c2bc0fe48d7",
   "metadata": {},
   "source": [
    "# 📉📊📈Stock Price Prediction with Machine Learning Models📉📊📈"
   ]
  },
  {
   "cell_type": "markdown",
   "id": "aa9194e6-6c56-48dc-9259-cdcd31b184ab",
   "metadata": {},
   "source": [
    "Because of its complexity and difficulty, forecasting stock prices fascinates researchers and industry specialists from a variety of fields, including computer science, economics, business arithmetic, and marketing. Despite considerable attempts over the last decade, stock market price forecasting remains difficult due to the intrinsic random wandering nature of market prices. Stock price volatility creates significant challenges for precise forecasting. Nonetheless, establishing efficient and accurate forecasting models is critical for managers, investors, and decision-makers to make sound investment decisions. Analysts use machine learning techniques to evaluate historical data and uncover patterns and trends that might assist forecast future stock performance. Researchers try to create prediction models that can efficiently manage the unpredictable nature of stock markets by combining current and historical data."
   ]
  },
  {
   "cell_type": "markdown",
   "id": "d994d7e2-c73b-4d68-80cb-b1d6bc7bb33d",
   "metadata": {},
   "source": [
    "<br/>"
   ]
  },
  {
   "cell_type": "markdown",
   "id": "12b73d55-90d9-4dc9-aa40-ec4415839605",
   "metadata": {},
   "source": [
    "## 📈 Decision Tree Model 📉"
   ]
  },
  {
   "cell_type": "markdown",
   "id": "ad6d1fb4-f2f8-4fdc-a0d3-ab1a41847636",
   "metadata": {},
   "source": [
    "### Import libraries"
   ]
  },
  {
   "cell_type": "code",
   "execution_count": 34,
   "id": "e6bcd6f7-81c7-4ea0-b861-cba71ad70dd0",
   "metadata": {},
   "outputs": [],
   "source": [
    "import numpy as np\n",
    "import pandas as pd\n",
    "from sklearn.model_selection import train_test_split\n",
    "from sklearn.tree import DecisionTreeRegressor \n",
    "\n",
    "# MATPLOTLIB FOR GRAPH-PLOTTING\n",
    "import matplotlib.pyplot as plt\n",
    "%matplotlib inline"
   ]
  },
  {
   "cell_type": "markdown",
   "id": "002fbcef-81a1-4e24-ab3b-99e0f2fe8fe3",
   "metadata": {},
   "source": [
    "### Load dataset"
   ]
  },
  {
   "cell_type": "code",
   "execution_count": 3,
   "id": "f391b1c1-d494-4427-a04d-77cbe8722650",
   "metadata": {},
   "outputs": [],
   "source": [
    "DATASET_FILE_PATH = './yahoo_data.csv'"
   ]
  },
  {
   "cell_type": "code",
   "execution_count": 4,
   "id": "447dc5bb-52e7-4f05-990d-ead95256a1fc",
   "metadata": {
    "scrolled": true
   },
   "outputs": [
    {
     "data": {
      "text/html": [
       "<style type=\"text/css\">\n",
       "</style>\n",
       "<table id=\"T_0330b\">\n",
       "  <thead>\n",
       "    <tr>\n",
       "      <th class=\"blank level0\" >&nbsp;</th>\n",
       "      <th id=\"T_0330b_level0_col0\" class=\"col_heading level0 col0\" >Date</th>\n",
       "      <th id=\"T_0330b_level0_col1\" class=\"col_heading level0 col1\" >Open</th>\n",
       "      <th id=\"T_0330b_level0_col2\" class=\"col_heading level0 col2\" >High</th>\n",
       "      <th id=\"T_0330b_level0_col3\" class=\"col_heading level0 col3\" >Low</th>\n",
       "      <th id=\"T_0330b_level0_col4\" class=\"col_heading level0 col4\" >Close</th>\n",
       "      <th id=\"T_0330b_level0_col5\" class=\"col_heading level0 col5\" >Adj Close</th>\n",
       "      <th id=\"T_0330b_level0_col6\" class=\"col_heading level0 col6\" >Volume</th>\n",
       "    </tr>\n",
       "  </thead>\n",
       "  <tbody>\n",
       "    <tr>\n",
       "      <th id=\"T_0330b_level0_row0\" class=\"row_heading level0 row0\" >0</th>\n",
       "      <td id=\"T_0330b_row0_col0\" class=\"data row0 col0\" >2023-04-28</td>\n",
       "      <td id=\"T_0330b_row0_col1\" class=\"data row0 col1\" >33,797.43</td>\n",
       "      <td id=\"T_0330b_row0_col2\" class=\"data row0 col2\" >34,104.56</td>\n",
       "      <td id=\"T_0330b_row0_col3\" class=\"data row0 col3\" >33,728.40</td>\n",
       "      <td id=\"T_0330b_row0_col4\" class=\"data row0 col4\" >34,098.16</td>\n",
       "      <td id=\"T_0330b_row0_col5\" class=\"data row0 col5\" >34,098.16</td>\n",
       "      <td id=\"T_0330b_row0_col6\" class=\"data row0 col6\" >354,310,000</td>\n",
       "    </tr>\n",
       "    <tr>\n",
       "      <th id=\"T_0330b_level0_row1\" class=\"row_heading level0 row1\" >1</th>\n",
       "      <td id=\"T_0330b_row1_col0\" class=\"data row1 col0\" >2023-04-27</td>\n",
       "      <td id=\"T_0330b_row1_col1\" class=\"data row1 col1\" >33,381.66</td>\n",
       "      <td id=\"T_0330b_row1_col2\" class=\"data row1 col2\" >33,859.75</td>\n",
       "      <td id=\"T_0330b_row1_col3\" class=\"data row1 col3\" >33,374.65</td>\n",
       "      <td id=\"T_0330b_row1_col4\" class=\"data row1 col4\" >33,826.16</td>\n",
       "      <td id=\"T_0330b_row1_col5\" class=\"data row1 col5\" >33,826.16</td>\n",
       "      <td id=\"T_0330b_row1_col6\" class=\"data row1 col6\" >343,240,000</td>\n",
       "    </tr>\n",
       "    <tr>\n",
       "      <th id=\"T_0330b_level0_row2\" class=\"row_heading level0 row2\" >2</th>\n",
       "      <td id=\"T_0330b_row2_col0\" class=\"data row2 col0\" >2023-04-26</td>\n",
       "      <td id=\"T_0330b_row2_col1\" class=\"data row2 col1\" >33,596.34</td>\n",
       "      <td id=\"T_0330b_row2_col2\" class=\"data row2 col2\" >33,645.83</td>\n",
       "      <td id=\"T_0330b_row2_col3\" class=\"data row2 col3\" >33,235.85</td>\n",
       "      <td id=\"T_0330b_row2_col4\" class=\"data row2 col4\" >33,301.87</td>\n",
       "      <td id=\"T_0330b_row2_col5\" class=\"data row2 col5\" >33,301.87</td>\n",
       "      <td id=\"T_0330b_row2_col6\" class=\"data row2 col6\" >321,170,000</td>\n",
       "    </tr>\n",
       "    <tr>\n",
       "      <th id=\"T_0330b_level0_row3\" class=\"row_heading level0 row3\" >3</th>\n",
       "      <td id=\"T_0330b_row3_col0\" class=\"data row3 col0\" >2023-04-25</td>\n",
       "      <td id=\"T_0330b_row3_col1\" class=\"data row3 col1\" >33,828.34</td>\n",
       "      <td id=\"T_0330b_row3_col2\" class=\"data row3 col2\" >33,875.49</td>\n",
       "      <td id=\"T_0330b_row3_col3\" class=\"data row3 col3\" >33,525.39</td>\n",
       "      <td id=\"T_0330b_row3_col4\" class=\"data row3 col4\" >33,530.83</td>\n",
       "      <td id=\"T_0330b_row3_col5\" class=\"data row3 col5\" >33,530.83</td>\n",
       "      <td id=\"T_0330b_row3_col6\" class=\"data row3 col6\" >297,880,000</td>\n",
       "    </tr>\n",
       "    <tr>\n",
       "      <th id=\"T_0330b_level0_row4\" class=\"row_heading level0 row4\" >4</th>\n",
       "      <td id=\"T_0330b_row4_col0\" class=\"data row4 col0\" >2023-04-24</td>\n",
       "      <td id=\"T_0330b_row4_col1\" class=\"data row4 col1\" >33,805.04</td>\n",
       "      <td id=\"T_0330b_row4_col2\" class=\"data row4 col2\" >33,891.15</td>\n",
       "      <td id=\"T_0330b_row4_col3\" class=\"data row4 col3\" >33,726.09</td>\n",
       "      <td id=\"T_0330b_row4_col4\" class=\"data row4 col4\" >33,875.40</td>\n",
       "      <td id=\"T_0330b_row4_col5\" class=\"data row4 col5\" >33,875.40</td>\n",
       "      <td id=\"T_0330b_row4_col6\" class=\"data row4 col6\" >252,020,000</td>\n",
       "    </tr>\n",
       "  </tbody>\n",
       "</table>\n"
      ],
      "text/plain": [
       "<pandas.io.formats.style.Styler at 0x1f7f0c4db10>"
      ]
     },
     "execution_count": 4,
     "metadata": {},
     "output_type": "execute_result"
    }
   ],
   "source": [
    "# Read the CSV file into a DataFrame\n",
    "df = pd.read_csv(DATASET_FILE_PATH)\n",
    "\n",
    "# Display the first few rows of the DataFrame and format the date column\n",
    "df.head().style.format({'Date': lambda x: pd.to_datetime(x).strftime('%Y-%m-%d')})"
   ]
  },
  {
   "cell_type": "markdown",
   "id": "f9de2822-2779-41ec-bda0-0e97c7fd8e28",
   "metadata": {},
   "source": [
    "### Data Preprocessing"
   ]
  },
  {
   "cell_type": "code",
   "execution_count": 7,
   "id": "1a14986f-441e-44f6-bb19-c0dd33b42e33",
   "metadata": {},
   "outputs": [],
   "source": [
    "# Convert 'Date' column to datetime type\n",
    "df['Date'] = pd.to_datetime(df['Date'])\n",
    "\n",
    "# Remove commas and convert columns to numeric type\n",
    "df['Open'] = df['Open'].replace(',', '', regex=True).astype(float)\n",
    "df['High'] = df['High'].replace(',', '', regex=True).astype(float)\n",
    "df['Low'] = df['Low'].replace(',', '', regex=True).astype(float)\n",
    "df['Close'] = df['Close'].replace(',', '', regex=True).astype(float)\n",
    "df['Adj Close'] = df['Adj Close'].replace(',', '', regex=True).astype(float)\n",
    "df['Volume'] = df['Volume'].replace(',', '', regex=True).astype(int)"
   ]
  },
  {
   "cell_type": "code",
   "execution_count": 36,
   "id": "a4a40efe-9e0c-4fe8-891e-44621c4dd0a2",
   "metadata": {},
   "outputs": [],
   "source": [
    "df['Increase_Decrease'] = np.where(df['Volume'].shift(-1) > df['Volume'], 1, 0)\n",
    "df['Buy_Sell_on_Open'] = np.where(df['Open'].shift(-1) > df['Open'], 1, -1)\n",
    "df['Buy_Sell'] = np.where(df['Adj Close'].shift(-1) > df['Adj Close'], 1, -1)\n",
    "df['Return'] = df['Adj Close'].pct_change()"
   ]
  },
  {
   "cell_type": "markdown",
   "id": "13cd9ae8-5209-4676-acbc-94b505414275",
   "metadata": {},
   "source": [
    "### Display preprocessed dataset"
   ]
  },
  {
   "cell_type": "code",
   "execution_count": 10,
   "id": "4e809a40-d6a1-4b3f-a4f0-65302fc649e9",
   "metadata": {},
   "outputs": [
    {
     "data": {
      "text/html": [
       "<div>\n",
       "<style scoped>\n",
       "    .dataframe tbody tr th:only-of-type {\n",
       "        vertical-align: middle;\n",
       "    }\n",
       "\n",
       "    .dataframe tbody tr th {\n",
       "        vertical-align: top;\n",
       "    }\n",
       "\n",
       "    .dataframe thead th {\n",
       "        text-align: right;\n",
       "    }\n",
       "</style>\n",
       "<table border=\"1\" class=\"dataframe\">\n",
       "  <thead>\n",
       "    <tr style=\"text-align: right;\">\n",
       "      <th></th>\n",
       "      <th>Date</th>\n",
       "      <th>Open</th>\n",
       "      <th>High</th>\n",
       "      <th>Low</th>\n",
       "      <th>Close</th>\n",
       "      <th>Adj Close</th>\n",
       "      <th>Volume</th>\n",
       "      <th>Increase_Decrease</th>\n",
       "      <th>Buy_Sell_on_Open</th>\n",
       "      <th>Buy_Sell</th>\n",
       "      <th>Return</th>\n",
       "    </tr>\n",
       "  </thead>\n",
       "  <tbody>\n",
       "    <tr>\n",
       "      <th>1</th>\n",
       "      <td>2023-04-27</td>\n",
       "      <td>33381.66</td>\n",
       "      <td>33859.75</td>\n",
       "      <td>33374.65</td>\n",
       "      <td>33826.16</td>\n",
       "      <td>33826.16</td>\n",
       "      <td>343240000</td>\n",
       "      <td>0</td>\n",
       "      <td>1</td>\n",
       "      <td>-1</td>\n",
       "      <td>-0.007977</td>\n",
       "    </tr>\n",
       "    <tr>\n",
       "      <th>2</th>\n",
       "      <td>2023-04-26</td>\n",
       "      <td>33596.34</td>\n",
       "      <td>33645.83</td>\n",
       "      <td>33235.85</td>\n",
       "      <td>33301.87</td>\n",
       "      <td>33301.87</td>\n",
       "      <td>321170000</td>\n",
       "      <td>0</td>\n",
       "      <td>1</td>\n",
       "      <td>1</td>\n",
       "      <td>-0.015500</td>\n",
       "    </tr>\n",
       "    <tr>\n",
       "      <th>3</th>\n",
       "      <td>2023-04-25</td>\n",
       "      <td>33828.34</td>\n",
       "      <td>33875.49</td>\n",
       "      <td>33525.39</td>\n",
       "      <td>33530.83</td>\n",
       "      <td>33530.83</td>\n",
       "      <td>297880000</td>\n",
       "      <td>0</td>\n",
       "      <td>-1</td>\n",
       "      <td>1</td>\n",
       "      <td>0.006875</td>\n",
       "    </tr>\n",
       "    <tr>\n",
       "      <th>4</th>\n",
       "      <td>2023-04-24</td>\n",
       "      <td>33805.04</td>\n",
       "      <td>33891.15</td>\n",
       "      <td>33726.09</td>\n",
       "      <td>33875.40</td>\n",
       "      <td>33875.40</td>\n",
       "      <td>252020000</td>\n",
       "      <td>1</td>\n",
       "      <td>-1</td>\n",
       "      <td>-1</td>\n",
       "      <td>0.010276</td>\n",
       "    </tr>\n",
       "    <tr>\n",
       "      <th>5</th>\n",
       "      <td>2023-04-21</td>\n",
       "      <td>33793.60</td>\n",
       "      <td>33858.83</td>\n",
       "      <td>33688.57</td>\n",
       "      <td>33808.96</td>\n",
       "      <td>33808.96</td>\n",
       "      <td>291080000</td>\n",
       "      <td>1</td>\n",
       "      <td>-1</td>\n",
       "      <td>-1</td>\n",
       "      <td>-0.001961</td>\n",
       "    </tr>\n",
       "    <tr>\n",
       "      <th>...</th>\n",
       "      <td>...</td>\n",
       "      <td>...</td>\n",
       "      <td>...</td>\n",
       "      <td>...</td>\n",
       "      <td>...</td>\n",
       "      <td>...</td>\n",
       "      <td>...</td>\n",
       "      <td>...</td>\n",
       "      <td>...</td>\n",
       "      <td>...</td>\n",
       "      <td>...</td>\n",
       "    </tr>\n",
       "    <tr>\n",
       "      <th>1253</th>\n",
       "      <td>2018-05-07</td>\n",
       "      <td>24317.66</td>\n",
       "      <td>24479.45</td>\n",
       "      <td>24263.42</td>\n",
       "      <td>24357.32</td>\n",
       "      <td>24357.32</td>\n",
       "      <td>307670000</td>\n",
       "      <td>1</td>\n",
       "      <td>-1</td>\n",
       "      <td>-1</td>\n",
       "      <td>-0.000119</td>\n",
       "    </tr>\n",
       "    <tr>\n",
       "      <th>1254</th>\n",
       "      <td>2018-05-04</td>\n",
       "      <td>23865.22</td>\n",
       "      <td>24333.35</td>\n",
       "      <td>23778.87</td>\n",
       "      <td>24262.51</td>\n",
       "      <td>24262.51</td>\n",
       "      <td>329480000</td>\n",
       "      <td>1</td>\n",
       "      <td>-1</td>\n",
       "      <td>-1</td>\n",
       "      <td>-0.003892</td>\n",
       "    </tr>\n",
       "    <tr>\n",
       "      <th>1255</th>\n",
       "      <td>2018-05-03</td>\n",
       "      <td>23836.23</td>\n",
       "      <td>23996.15</td>\n",
       "      <td>23531.31</td>\n",
       "      <td>23930.15</td>\n",
       "      <td>23930.15</td>\n",
       "      <td>389240000</td>\n",
       "      <td>0</td>\n",
       "      <td>1</td>\n",
       "      <td>-1</td>\n",
       "      <td>-0.013699</td>\n",
       "    </tr>\n",
       "    <tr>\n",
       "      <th>1256</th>\n",
       "      <td>2018-05-02</td>\n",
       "      <td>24097.63</td>\n",
       "      <td>24185.52</td>\n",
       "      <td>23886.30</td>\n",
       "      <td>23924.98</td>\n",
       "      <td>23924.98</td>\n",
       "      <td>385350000</td>\n",
       "      <td>0</td>\n",
       "      <td>1</td>\n",
       "      <td>1</td>\n",
       "      <td>-0.000216</td>\n",
       "    </tr>\n",
       "    <tr>\n",
       "      <th>1257</th>\n",
       "      <td>2018-05-01</td>\n",
       "      <td>24117.29</td>\n",
       "      <td>24117.29</td>\n",
       "      <td>23808.19</td>\n",
       "      <td>24099.05</td>\n",
       "      <td>24099.05</td>\n",
       "      <td>380070000</td>\n",
       "      <td>0</td>\n",
       "      <td>-1</td>\n",
       "      <td>-1</td>\n",
       "      <td>0.007276</td>\n",
       "    </tr>\n",
       "  </tbody>\n",
       "</table>\n",
       "<p>1257 rows × 11 columns</p>\n",
       "</div>"
      ],
      "text/plain": [
       "           Date      Open      High       Low     Close  Adj Close     Volume  \\\n",
       "1    2023-04-27  33381.66  33859.75  33374.65  33826.16   33826.16  343240000   \n",
       "2    2023-04-26  33596.34  33645.83  33235.85  33301.87   33301.87  321170000   \n",
       "3    2023-04-25  33828.34  33875.49  33525.39  33530.83   33530.83  297880000   \n",
       "4    2023-04-24  33805.04  33891.15  33726.09  33875.40   33875.40  252020000   \n",
       "5    2023-04-21  33793.60  33858.83  33688.57  33808.96   33808.96  291080000   \n",
       "...         ...       ...       ...       ...       ...        ...        ...   \n",
       "1253 2018-05-07  24317.66  24479.45  24263.42  24357.32   24357.32  307670000   \n",
       "1254 2018-05-04  23865.22  24333.35  23778.87  24262.51   24262.51  329480000   \n",
       "1255 2018-05-03  23836.23  23996.15  23531.31  23930.15   23930.15  389240000   \n",
       "1256 2018-05-02  24097.63  24185.52  23886.30  23924.98   23924.98  385350000   \n",
       "1257 2018-05-01  24117.29  24117.29  23808.19  24099.05   24099.05  380070000   \n",
       "\n",
       "      Increase_Decrease  Buy_Sell_on_Open  Buy_Sell    Return  \n",
       "1                     0                 1        -1 -0.007977  \n",
       "2                     0                 1         1 -0.015500  \n",
       "3                     0                -1         1  0.006875  \n",
       "4                     1                -1        -1  0.010276  \n",
       "5                     1                -1        -1 -0.001961  \n",
       "...                 ...               ...       ...       ...  \n",
       "1253                  1                -1        -1 -0.000119  \n",
       "1254                  1                -1        -1 -0.003892  \n",
       "1255                  0                 1        -1 -0.013699  \n",
       "1256                  0                 1         1 -0.000216  \n",
       "1257                  0                -1        -1  0.007276  \n",
       "\n",
       "[1257 rows x 11 columns]"
      ]
     },
     "execution_count": 10,
     "metadata": {},
     "output_type": "execute_result"
    }
   ],
   "source": [
    "df"
   ]
  },
  {
   "cell_type": "markdown",
   "id": "b1bf58af-4c47-44fa-81df-abbbdfe468c8",
   "metadata": {},
   "source": [
    "### Dataset cleaning and Null value testing"
   ]
  },
  {
   "cell_type": "code",
   "execution_count": 37,
   "id": "05ed4f2f-d1dc-43c8-9c58-e4583c680033",
   "metadata": {},
   "outputs": [
    {
     "data": {
      "text/plain": [
       "Date                 0\n",
       "Open                 0\n",
       "High                 0\n",
       "Low                  0\n",
       "Close                0\n",
       "Adj Close            0\n",
       "Volume               0\n",
       "Increase_Decrease    0\n",
       "Buy_Sell_on_Open     0\n",
       "Buy_Sell             0\n",
       "Return               0\n",
       "dtype: int64"
      ]
     },
     "execution_count": 37,
     "metadata": {},
     "output_type": "execute_result"
    }
   ],
   "source": [
    "df = df.dropna()\n",
    "df.isnull().sum()"
   ]
  },
  {
   "cell_type": "markdown",
   "id": "ef35e124-d246-40f6-af42-8515748228ab",
   "metadata": {},
   "source": [
    "<br/>"
   ]
  },
  {
   "cell_type": "markdown",
   "id": "1f38b7af-9037-4e35-8fe1-644d599e0006",
   "metadata": {},
   "source": [
    "### Analyze the dataset"
   ]
  },
  {
   "cell_type": "code",
   "execution_count": 12,
   "id": "8d4d7c57-42c4-4199-bc99-da6168d42e29",
   "metadata": {},
   "outputs": [
    {
     "data": {
      "text/plain": [
       "Index(['Date', 'Open', 'High', 'Low', 'Close', 'Adj Close', 'Volume',\n",
       "       'Increase_Decrease', 'Buy_Sell_on_Open', 'Buy_Sell', 'Return'],\n",
       "      dtype='object')"
      ]
     },
     "execution_count": 12,
     "metadata": {},
     "output_type": "execute_result"
    }
   ],
   "source": [
    "df.columns"
   ]
  },
  {
   "cell_type": "code",
   "execution_count": 39,
   "id": "9b814fe5-9842-46c0-a7ed-277e40782fc0",
   "metadata": {},
   "outputs": [
    {
     "data": {
      "text/plain": [
       "(1256, 11)"
      ]
     },
     "execution_count": 39,
     "metadata": {},
     "output_type": "execute_result"
    }
   ],
   "source": [
    "df.shape"
   ]
  },
  {
   "cell_type": "code",
   "execution_count": 41,
   "id": "1db4bc54-ee65-4bbc-b6e0-6148234c5e97",
   "metadata": {},
   "outputs": [
    {
     "data": {
      "text/plain": [
       "array([[<Axes: title={'center': 'Open'}>,\n",
       "        <Axes: title={'center': 'High'}>,\n",
       "        <Axes: title={'center': 'Low'}>],\n",
       "       [<Axes: title={'center': 'Close'}>,\n",
       "        <Axes: title={'center': 'Adj Close'}>,\n",
       "        <Axes: title={'center': 'Volume'}>],\n",
       "       [<Axes: title={'center': 'Increase_Decrease'}>,\n",
       "        <Axes: title={'center': 'Buy_Sell_on_Open'}>,\n",
       "        <Axes: title={'center': 'Buy_Sell'}>],\n",
       "       [<Axes: title={'center': 'Return'}>, <Axes: >, <Axes: >]],\n",
       "      dtype=object)"
      ]
     },
     "execution_count": 41,
     "metadata": {},
     "output_type": "execute_result"
    },
    {
     "data": {
      "image/png": "[encoded data removed]",
      "text/plain": [
       "<Figure size 1500x1500 with 12 Axes>"
      ]
     },
     "metadata": {},
     "output_type": "display_data"
    }
   ],
   "source": [
    "# Histogram per each numerical column\n",
    "sort_columns = df.iloc[:, 1:]\n",
    "sort_columns.hist(figsize=(15, 15))\n",
    "# plt.savefig('histogram.png')"
   ]
  },
  {
   "cell_type": "code",
   "execution_count": 14,
   "id": "b61bdf16-9cf3-44d4-a891-11c38c7cbf6e",
   "metadata": {},
   "outputs": [
    {
     "data": {
      "text/html": [
       "<div>\n",
       "<style scoped>\n",
       "    .dataframe tbody tr th:only-of-type {\n",
       "        vertical-align: middle;\n",
       "    }\n",
       "\n",
       "    .dataframe tbody tr th {\n",
       "        vertical-align: top;\n",
       "    }\n",
       "\n",
       "    .dataframe thead th {\n",
       "        text-align: right;\n",
       "    }\n",
       "</style>\n",
       "<table border=\"1\" class=\"dataframe\">\n",
       "  <thead>\n",
       "    <tr style=\"text-align: right;\">\n",
       "      <th></th>\n",
       "      <th>Open</th>\n",
       "      <th>High</th>\n",
       "      <th>Low</th>\n",
       "      <th>Close</th>\n",
       "      <th>Adj Close</th>\n",
       "      <th>Volume</th>\n",
       "      <th>Increase_Decrease</th>\n",
       "      <th>Buy_Sell_on_Open</th>\n",
       "      <th>Buy_Sell</th>\n",
       "      <th>Return</th>\n",
       "    </tr>\n",
       "  </thead>\n",
       "  <tbody>\n",
       "    <tr>\n",
       "      <th>count</th>\n",
       "      <td>1257.000000</td>\n",
       "      <td>1257.000000</td>\n",
       "      <td>1257.000000</td>\n",
       "      <td>1257.000000</td>\n",
       "      <td>1257.000000</td>\n",
       "      <td>1.257000e+03</td>\n",
       "      <td>1257.000000</td>\n",
       "      <td>1257.000000</td>\n",
       "      <td>1257.000000</td>\n",
       "      <td>1257.000000</td>\n",
       "    </tr>\n",
       "    <tr>\n",
       "      <th>mean</th>\n",
       "      <td>29592.480477</td>\n",
       "      <td>29773.502928</td>\n",
       "      <td>29398.990724</td>\n",
       "      <td>29595.782681</td>\n",
       "      <td>29595.782681</td>\n",
       "      <td>3.450563e+08</td>\n",
       "      <td>0.510740</td>\n",
       "      <td>-0.097852</td>\n",
       "      <td>-0.086714</td>\n",
       "      <td>-0.000184</td>\n",
       "    </tr>\n",
       "    <tr>\n",
       "      <th>std</th>\n",
       "      <td>4005.917425</td>\n",
       "      <td>4008.742338</td>\n",
       "      <td>4004.681746</td>\n",
       "      <td>4007.052034</td>\n",
       "      <td>4007.052034</td>\n",
       "      <td>1.069564e+08</td>\n",
       "      <td>0.500084</td>\n",
       "      <td>0.995597</td>\n",
       "      <td>0.996630</td>\n",
       "      <td>0.013664</td>\n",
       "    </tr>\n",
       "    <tr>\n",
       "      <th>min</th>\n",
       "      <td>19028.360000</td>\n",
       "      <td>19121.010000</td>\n",
       "      <td>18213.650000</td>\n",
       "      <td>18591.930000</td>\n",
       "      <td>18591.930000</td>\n",
       "      <td>8.615000e+07</td>\n",
       "      <td>0.000000</td>\n",
       "      <td>-1.000000</td>\n",
       "      <td>-1.000000</td>\n",
       "      <td>-0.102052</td>\n",
       "    </tr>\n",
       "    <tr>\n",
       "      <th>25%</th>\n",
       "      <td>26040.300000</td>\n",
       "      <td>26162.280000</td>\n",
       "      <td>25877.240000</td>\n",
       "      <td>26026.320000</td>\n",
       "      <td>26026.320000</td>\n",
       "      <td>2.772300e+08</td>\n",
       "      <td>0.000000</td>\n",
       "      <td>-1.000000</td>\n",
       "      <td>-1.000000</td>\n",
       "      <td>-0.006289</td>\n",
       "    </tr>\n",
       "    <tr>\n",
       "      <th>50%</th>\n",
       "      <td>29198.920000</td>\n",
       "      <td>29330.160000</td>\n",
       "      <td>28995.660000</td>\n",
       "      <td>29196.040000</td>\n",
       "      <td>29196.040000</td>\n",
       "      <td>3.245800e+08</td>\n",
       "      <td>1.000000</td>\n",
       "      <td>-1.000000</td>\n",
       "      <td>-1.000000</td>\n",
       "      <td>-0.000725</td>\n",
       "    </tr>\n",
       "    <tr>\n",
       "      <th>75%</th>\n",
       "      <td>33596.340000</td>\n",
       "      <td>33817.960000</td>\n",
       "      <td>33343.430000</td>\n",
       "      <td>33597.920000</td>\n",
       "      <td>33597.920000</td>\n",
       "      <td>3.876100e+08</td>\n",
       "      <td>1.000000</td>\n",
       "      <td>1.000000</td>\n",
       "      <td>1.000000</td>\n",
       "      <td>0.004709</td>\n",
       "    </tr>\n",
       "    <tr>\n",
       "      <th>max</th>\n",
       "      <td>36722.600000</td>\n",
       "      <td>36952.650000</td>\n",
       "      <td>36636.000000</td>\n",
       "      <td>36799.650000</td>\n",
       "      <td>36799.650000</td>\n",
       "      <td>9.159900e+08</td>\n",
       "      <td>1.000000</td>\n",
       "      <td>1.000000</td>\n",
       "      <td>1.000000</td>\n",
       "      <td>0.148456</td>\n",
       "    </tr>\n",
       "  </tbody>\n",
       "</table>\n",
       "</div>"
      ],
      "text/plain": [
       "               Open          High           Low         Close     Adj Close  \\\n",
       "count   1257.000000   1257.000000   1257.000000   1257.000000   1257.000000   \n",
       "mean   29592.480477  29773.502928  29398.990724  29595.782681  29595.782681   \n",
       "std     4005.917425   4008.742338   4004.681746   4007.052034   4007.052034   \n",
       "min    19028.360000  19121.010000  18213.650000  18591.930000  18591.930000   \n",
       "25%    26040.300000  26162.280000  25877.240000  26026.320000  26026.320000   \n",
       "50%    29198.920000  29330.160000  28995.660000  29196.040000  29196.040000   \n",
       "75%    33596.340000  33817.960000  33343.430000  33597.920000  33597.920000   \n",
       "max    36722.600000  36952.650000  36636.000000  36799.650000  36799.650000   \n",
       "\n",
       "             Volume  Increase_Decrease  Buy_Sell_on_Open     Buy_Sell  \\\n",
       "count  1.257000e+03        1257.000000       1257.000000  1257.000000   \n",
       "mean   3.450563e+08           0.510740         -0.097852    -0.086714   \n",
       "std    1.069564e+08           0.500084          0.995597     0.996630   \n",
       "min    8.615000e+07           0.000000         -1.000000    -1.000000   \n",
       "25%    2.772300e+08           0.000000         -1.000000    -1.000000   \n",
       "50%    3.245800e+08           1.000000         -1.000000    -1.000000   \n",
       "75%    3.876100e+08           1.000000          1.000000     1.000000   \n",
       "max    9.159900e+08           1.000000          1.000000     1.000000   \n",
       "\n",
       "            Return  \n",
       "count  1257.000000  \n",
       "mean     -0.000184  \n",
       "std       0.013664  \n",
       "min      -0.102052  \n",
       "25%      -0.006289  \n",
       "50%      -0.000725  \n",
       "75%       0.004709  \n",
       "max       0.148456  "
      ]
     },
     "execution_count": 14,
     "metadata": {},
     "output_type": "execute_result"
    }
   ],
   "source": [
    "# The statistics per each column\n",
    "sort_columns.describe()"
   ]
  },
  {
   "cell_type": "markdown",
   "id": "9485ad7c-3c91-4367-a012-c548f5bf83f6",
   "metadata": {},
   "source": [
    "<br/>"
   ]
  },
  {
   "cell_type": "markdown",
   "id": "0ece0c79-9e2f-4de1-ab5d-15cee26fde70",
   "metadata": {},
   "source": [
    "### Define inputs (X) & targets(Y)"
   ]
  },
  {
   "cell_type": "code",
   "execution_count": 15,
   "id": "dbdc468c-b8a7-4415-b1be-771310331c50",
   "metadata": {},
   "outputs": [],
   "source": [
    "X = df.drop(['Date', 'Adj Close', 'Close'], axis=1)  \n",
    "y = df['Adj Close'] "
   ]
  },
  {
   "cell_type": "markdown",
   "id": "92e01e22-1c0b-4b84-98a7-65ede598b0b3",
   "metadata": {},
   "source": [
    "<br/>"
   ]
  },
  {
   "cell_type": "markdown",
   "id": "262bf851-2a36-4699-82ba-63b62ea1cdaf",
   "metadata": {},
   "source": [
    "### Split dataset into train set & validation set"
   ]
  },
  {
   "cell_type": "code",
   "execution_count": 18,
   "id": "ea95dd05-706a-44be-8669-45edb2f1b0d7",
   "metadata": {},
   "outputs": [],
   "source": [
    "X_train, X_test, y_train, y_test = train_test_split(X, y, test_size=0.2, random_state=0)"
   ]
  },
  {
   "cell_type": "markdown",
   "id": "74bccde0-e46f-44d5-922f-575c46adb20a",
   "metadata": {},
   "source": [
    "<br/>"
   ]
  },
  {
   "cell_type": "markdown",
   "id": "fd428663-471f-446f-a39f-add374694229",
   "metadata": {},
   "source": [
    "### Model traning"
   ]
  },
  {
   "cell_type": "code",
   "execution_count": 32,
   "id": "d1ec5683-af5f-4640-8fbf-87f36e23047b",
   "metadata": {},
   "outputs": [
    {
     "data": {
      "text/html": [
       "<style>#sk-container-id-2 {color: black;}#sk-container-id-2 pre{padding: 0;}#sk-container-id-2 div.sk-toggleable {background-color: white;}#sk-container-id-2 label.sk-toggleable__label {cursor: pointer;display: block;width: 100%;margin-bottom: 0;padding: 0.3em;box-sizing: border-box;text-align: center;}#sk-container-id-2 label.sk-toggleable__label-arrow:before {content: \"▸\";float: left;margin-right: 0.25em;color: #696969;}#sk-container-id-2 label.sk-toggleable__label-arrow:hover:before {color: black;}#sk-container-id-2 div.sk-estimator:hover label.sk-toggleable__label-arrow:before {color: black;}#sk-container-id-2 div.sk-toggleable__content {max-height: 0;max-width: 0;overflow: hidden;text-align: left;background-color: #f0f8ff;}#sk-container-id-2 div.sk-toggleable__content pre {margin: 0.2em;color: black;border-radius: 0.25em;background-color: #f0f8ff;}#sk-container-id-2 input.sk-toggleable__control:checked~div.sk-toggleable__content {max-height: 200px;max-width: 100%;overflow: auto;}#sk-container-id-2 input.sk-toggleable__control:checked~label.sk-toggleable__label-arrow:before {content: \"▾\";}#sk-container-id-2 div.sk-estimator input.sk-toggleable__control:checked~label.sk-toggleable__label {background-color: #d4ebff;}#sk-container-id-2 div.sk-label input.sk-toggleable__control:checked~label.sk-toggleable__label {background-color: #d4ebff;}#sk-container-id-2 input.sk-hidden--visually {border: 0;clip: rect(1px 1px 1px 1px);clip: rect(1px, 1px, 1px, 1px);height: 1px;margin: -1px;overflow: hidden;padding: 0;position: absolute;width: 1px;}#sk-container-id-2 div.sk-estimator {font-family: monospace;background-color: #f0f8ff;border: 1px dotted black;border-radius: 0.25em;box-sizing: border-box;margin-bottom: 0.5em;}#sk-container-id-2 div.sk-estimator:hover {background-color: #d4ebff;}#sk-container-id-2 div.sk-parallel-item::after {content: \"\";width: 100%;border-bottom: 1px solid gray;flex-grow: 1;}#sk-container-id-2 div.sk-label:hover label.sk-toggleable__label {background-color: #d4ebff;}#sk-container-id-2 div.sk-serial::before {content: \"\";position: absolute;border-left: 1px solid gray;box-sizing: border-box;top: 0;bottom: 0;left: 50%;z-index: 0;}#sk-container-id-2 div.sk-serial {display: flex;flex-direction: column;align-items: center;background-color: white;padding-right: 0.2em;padding-left: 0.2em;position: relative;}#sk-container-id-2 div.sk-item {position: relative;z-index: 1;}#sk-container-id-2 div.sk-parallel {display: flex;align-items: stretch;justify-content: center;background-color: white;position: relative;}#sk-container-id-2 div.sk-item::before, #sk-container-id-2 div.sk-parallel-item::before {content: \"\";position: absolute;border-left: 1px solid gray;box-sizing: border-box;top: 0;bottom: 0;left: 50%;z-index: -1;}#sk-container-id-2 div.sk-parallel-item {display: flex;flex-direction: column;z-index: 1;position: relative;background-color: white;}#sk-container-id-2 div.sk-parallel-item:first-child::after {align-self: flex-end;width: 50%;}#sk-container-id-2 div.sk-parallel-item:last-child::after {align-self: flex-start;width: 50%;}#sk-container-id-2 div.sk-parallel-item:only-child::after {width: 0;}#sk-container-id-2 div.sk-dashed-wrapped {border: 1px dashed gray;margin: 0 0.4em 0.5em 0.4em;box-sizing: border-box;padding-bottom: 0.4em;background-color: white;}#sk-container-id-2 div.sk-label label {font-family: monospace;font-weight: bold;display: inline-block;line-height: 1.2em;}#sk-container-id-2 div.sk-label-container {text-align: center;}#sk-container-id-2 div.sk-container {/* jupyter's `normalize.less` sets `[hidden] { display: none; }` but bootstrap.min.css set `[hidden] { display: none !important; }` so we also need the `!important` here to be able to override the default hidden behavior on the sphinx rendered scikit-learn.org. See: https://github.com/scikit-learn/scikit-learn/issues/21755 */display: inline-block !important;position: relative;}#sk-container-id-2 div.sk-text-repr-fallback {display: none;}</style><div id=\"sk-container-id-2\" class=\"sk-top-container\"><div class=\"sk-text-repr-fallback\"><pre>DecisionTreeRegressor(random_state=0)</pre><b>In a Jupyter environment, please rerun this cell to show the HTML representation or trust the notebook. <br />On GitHub, the HTML representation is unable to render, please try loading this page with nbviewer.org.</b></div><div class=\"sk-container\" hidden><div class=\"sk-item\"><div class=\"sk-estimator sk-toggleable\"><input class=\"sk-toggleable__control sk-hidden--visually\" id=\"sk-estimator-id-2\" type=\"checkbox\" checked><label for=\"sk-estimator-id-2\" class=\"sk-toggleable__label sk-toggleable__label-arrow\">DecisionTreeRegressor</label><div class=\"sk-toggleable__content\"><pre>DecisionTreeRegressor(random_state=0)</pre></div></div></div></div></div>"
      ],
      "text/plain": [
       "DecisionTreeRegressor(random_state=0)"
      ]
     },
     "execution_count": 32,
     "metadata": {},
     "output_type": "execute_result"
    }
   ],
   "source": [
    "model = DecisionTreeRegressor(random_state=0)  \n",
    "model.fit(X_train, y_train)"
   ]
  }
 ],
 "metadata": {
  "kernelspec": {
   "display_name": "Python 3 (ipykernel)",
   "language": "python",
   "name": "python3"
  },
  "language_info": {
   "codemirror_mode": {
    "name": "ipython",
    "version": 3
   },
   "file_extension": ".py",
   "mimetype": "text/x-python",
   "name": "python",
   "nbconvert_exporter": "python",
   "pygments_lexer": "ipython3",
   "version": "3.10.13"
  }
 },
 "nbformat": 4,
 "nbformat_minor": 5
}
